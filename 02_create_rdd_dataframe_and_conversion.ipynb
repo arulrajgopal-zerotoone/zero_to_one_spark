{
  "nbformat": 4,
  "nbformat_minor": 0,
  "metadata": {
    "colab": {
      "provenance": [],
      "authorship_tag": "ABX9TyNly3tfia4s/Q7+LBEZNcTr",
      "include_colab_link": true
    },
    "kernelspec": {
      "name": "python3",
      "display_name": "Python 3"
    },
    "language_info": {
      "name": "python"
    }
  },
  "cells": [
    {
      "cell_type": "markdown",
      "metadata": {
        "id": "view-in-github",
        "colab_type": "text"
      },
      "source": [
        "<a href=\"https://colab.research.google.com/github/arulrajgopal-zerotoone/zero_to_one_spark/blob/main/02_create_rdd_dataframe_and_conversion.ipynb\" target=\"_parent\"><img src=\"https://colab.research.google.com/assets/colab-badge.svg\" alt=\"Open In Colab\"/></a>"
      ]
    },
    {
      "cell_type": "code",
      "source": [
        "!pip install pyspark\n",
        "\n",
        "from pyspark.sql import SparkSession\n",
        "\n",
        "#create spark session\n",
        "spark= SparkSession.builder.appName('mysparksession').getOrCreate()\n",
        "\n",
        "#create spark context\n",
        "sc = spark.sparkContext"
      ],
      "metadata": {
        "colab": {
          "base_uri": "https://localhost:8080/"
        },
        "id": "3EGLF_rs9lPn",
        "outputId": "cda47b0b-d56f-44aa-9ef7-2b62cad83e94"
      },
      "execution_count": 1,
      "outputs": [
        {
          "output_type": "stream",
          "name": "stdout",
          "text": [
            "Collecting pyspark\n",
            "  Downloading pyspark-3.5.3.tar.gz (317.3 MB)\n",
            "\u001b[2K     \u001b[90m━━━━━━━━━━━━━━━━━━━━━━━━━━━━━━━━━━━━━━━━\u001b[0m \u001b[32m317.3/317.3 MB\u001b[0m \u001b[31m4.3 MB/s\u001b[0m eta \u001b[36m0:00:00\u001b[0m\n",
            "\u001b[?25h  Preparing metadata (setup.py) ... \u001b[?25l\u001b[?25hdone\n",
            "Requirement already satisfied: py4j==0.10.9.7 in /usr/local/lib/python3.10/dist-packages (from pyspark) (0.10.9.7)\n",
            "Building wheels for collected packages: pyspark\n",
            "  Building wheel for pyspark (setup.py) ... \u001b[?25l\u001b[?25hdone\n",
            "  Created wheel for pyspark: filename=pyspark-3.5.3-py2.py3-none-any.whl size=317840625 sha256=414253caaea1bba9afd9666c829da468844d767d95fbced2a9b265f8b8d24f4f\n",
            "  Stored in directory: /root/.cache/pip/wheels/1b/3a/92/28b93e2fbfdbb07509ca4d6f50c5e407f48dce4ddbda69a4ab\n",
            "Successfully built pyspark\n",
            "Installing collected packages: pyspark\n",
            "Successfully installed pyspark-3.5.3\n"
          ]
        }
      ]
    },
    {
      "cell_type": "markdown",
      "source": [
        "#Create a RDD"
      ],
      "metadata": {
        "id": "ewXq_60Y-nGt"
      }
    },
    {
      "cell_type": "code",
      "source": [
        "data = [('Alice', 25), ('Bob', 30), ('Charlie', 28)]\n",
        "rdd = sc.parallelize(data)\n",
        "rdd.collect()"
      ],
      "metadata": {
        "id": "2s42tJGm92QM",
        "outputId": "1fb126bf-4565-4d01-f34b-0b0546cf1692",
        "colab": {
          "base_uri": "https://localhost:8080/"
        }
      },
      "execution_count": 8,
      "outputs": [
        {
          "output_type": "execute_result",
          "data": {
            "text/plain": [
              "[('Alice', 25), ('Bob', 30), ('Charlie', 28)]"
            ]
          },
          "metadata": {},
          "execution_count": 8
        }
      ]
    },
    {
      "cell_type": "code",
      "source": [
        "print(type(rdd))"
      ],
      "metadata": {
        "id": "vHDUnYwR-fnP",
        "outputId": "fe1b801b-10a2-4817-f99c-864b9ff268df",
        "colab": {
          "base_uri": "https://localhost:8080/"
        }
      },
      "execution_count": 9,
      "outputs": [
        {
          "output_type": "stream",
          "name": "stdout",
          "text": [
            "<class 'pyspark.rdd.RDD'>\n"
          ]
        }
      ]
    },
    {
      "cell_type": "markdown",
      "source": [
        "#Create a Dataframe"
      ],
      "metadata": {
        "id": "ug1aVUx--ooT"
      }
    },
    {
      "cell_type": "code",
      "execution_count": 10,
      "metadata": {
        "colab": {
          "base_uri": "https://localhost:8080/"
        },
        "id": "ffvBdAEr9kN6",
        "outputId": "83994f56-49da-425b-a3be-77e9d9dff907"
      },
      "outputs": [
        {
          "output_type": "stream",
          "name": "stdout",
          "text": [
            "+-----+---+-------------+\n",
            "| Name|Age|         City|\n",
            "+-----+---+-------------+\n",
            "| John| 28|     New York|\n",
            "| Jane| 24|San Francisco|\n",
            "|  Bob| 22|  Los Angeles|\n",
            "|Alice| 30|      Chicago|\n",
            "+-----+---+-------------+\n",
            "\n"
          ]
        }
      ],
      "source": [
        "data = [\n",
        "    (\"John\", 28, \"New York\"),\n",
        "    (\"Jane\", 24, \"San Francisco\"),\n",
        "    (\"Bob\", 22, \"Los Angeles\"),\n",
        "    (\"Alice\", 30, \"Chicago\")\n",
        "]\n",
        "\n",
        "columns = [\"Name\", \"Age\",\"City\" ]\n",
        "\n",
        "\n",
        "df = spark.createDataFrame(data, columns)\n",
        "\n",
        "\n",
        "df.show()"
      ]
    },
    {
      "cell_type": "markdown",
      "source": [
        "#Convert df into rdd"
      ],
      "metadata": {
        "id": "CxPWztMS-s-1"
      }
    },
    {
      "cell_type": "code",
      "source": [],
      "metadata": {
        "id": "pr_PlfDn-se_"
      },
      "execution_count": null,
      "outputs": []
    }
  ]
}