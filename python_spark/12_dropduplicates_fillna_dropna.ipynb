{
 "cells": [
  {
   "cell_type": "markdown",
   "metadata": {
    "application/vnd.databricks.v1+cell": {
     "cellMetadata": {},
     "inputWidgets": {},
     "nuid": "a37494e3-4c32-48d0-b8d9-e2aea2157e56",
     "showTitle": false,
     "title": ""
    },
    "colab_type": "text",
    "id": "view-in-github"
   },
   "source": [
    "<a href=\"https://colab.research.google.com/github/arulrajgopal-zerotoone/zero_to_one_spark/blob/main/apache_spark/12_dropduplicates_fillna_dropna.ipynb\" target=\"_parent\"><img src=\"https://colab.research.google.com/assets/colab-badge.svg\" alt=\"Open In Colab\"/></a>"
   ]
  },
  {
   "cell_type": "code",
   "execution_count": 0,
   "metadata": {
    "application/vnd.databricks.v1+cell": {
     "cellMetadata": {},
     "inputWidgets": {},
     "nuid": "d218d302-6b1e-4fe3-a68b-fe91099cecdd",
     "showTitle": false,
     "title": ""
    },
    "id": "mbmETREK2mLb"
   },
   "outputs": [],
   "source": [
    "!pip install pyspark\n",
    "\n",
    "from pyspark.sql import SparkSession\n",
    "\n",
    "#create spark session\n",
    "spark= SparkSession.builder.appName('mysparksession').getOrCreate()\n",
    "\n",
    "#create spark context\n",
    "sc = spark.sparkContext"
   ]
  },
  {
   "cell_type": "code",
   "execution_count": 0,
   "metadata": {
    "application/vnd.databricks.v1+cell": {
     "cellMetadata": {},
     "inputWidgets": {},
     "nuid": "97f1363c-3767-4472-b480-b1014699b48f",
     "showTitle": false,
     "title": ""
    },
    "id": "tj3QlvbnSqZE"
   },
   "outputs": [],
   "source": [
    "data = [\n",
    "    (\"John\", 28, \"New York\"),\n",
    "    (\"Jane\", 24, \"San Francisco\"),\n",
    "    (\"Bob\", 22, \"Los Angeles\"),\n",
    "    (\"Alice\", None, \"Chicago\"),\n",
    "    (\"Jane\", 24, \"San Francisco\"),\n",
    "    (\"Alice\", 70, \"Tokyo\"),\n",
    "    (\"Vievk\",34, None)\n",
    "]\n",
    "\n",
    "columns = [\"Name\", \"Age\",\"City\" ]\n",
    "\n",
    "\n",
    "df = spark.createDataFrame(data, columns)\n",
    "df.show()"
   ]
  },
  {
   "cell_type": "code",
   "execution_count": 0,
   "metadata": {
    "application/vnd.databricks.v1+cell": {
     "cellMetadata": {},
     "inputWidgets": {},
     "nuid": "4e33d53d-1a67-46d6-812f-01eaf074804b",
     "showTitle": false,
     "title": ""
    },
    "id": "ZjTxWasfSDZS"
   },
   "outputs": [],
   "source": [
    "df.dropDuplicates().show()\n",
    "df.dropDuplicates([\"Name\"]).show()"
   ]
  },
  {
   "cell_type": "code",
   "execution_count": 0,
   "metadata": {
    "application/vnd.databricks.v1+cell": {
     "cellMetadata": {},
     "inputWidgets": {},
     "nuid": "33429003-b6af-499d-b0b3-3147e0138844",
     "showTitle": false,
     "title": ""
    },
    "id": "YczqCDnNkNlV"
   },
   "outputs": [],
   "source": [
    "df.dropna().show()"
   ]
  },
  {
   "cell_type": "code",
   "execution_count": 0,
   "metadata": {
    "application/vnd.databricks.v1+cell": {
     "cellMetadata": {},
     "inputWidgets": {},
     "nuid": "1c383781-4ce4-4eb8-8f59-79a5505406c9",
     "showTitle": false,
     "title": ""
    },
    "id": "Q7jLQlZpkP49"
   },
   "outputs": [],
   "source": [
    "df.fillna(0).show()\n",
    "df.fillna(\"NA\").show()\n",
    "df.fillna({'age': 40, 'City': 'unknown'}).show()"
   ]
  },
  {
   "cell_type": "code",
   "execution_count": 0,
   "metadata": {
    "application/vnd.databricks.v1+cell": {
     "cellMetadata": {},
     "inputWidgets": {},
     "nuid": "6826b7c1-846a-4477-a71e-1d9a24313f27",
     "showTitle": false,
     "title": ""
    },
    "id": "4Dn0EWURlUZT"
   },
   "outputs": [],
   "source": []
  }
 ],
 "metadata": {
  "application/vnd.databricks.v1+notebook": {
   "dashboards": [],
   "environmentMetadata": null,
   "language": "python",
   "notebookMetadata": {},
   "notebookName": "12_dropduplicates_fillna_dropna",
   "widgets": {}
  },
  "colab": {
   "authorship_tag": "ABX9TyMzex+GV0YXzTGGMNQUDzdw",
   "include_colab_link": true,
   "provenance": []
  },
  "kernelspec": {
   "display_name": "Python 3",
   "name": "python3"
  },
  "language_info": {
   "name": "python"
  }
 },
 "nbformat": 4,
 "nbformat_minor": 0
}
