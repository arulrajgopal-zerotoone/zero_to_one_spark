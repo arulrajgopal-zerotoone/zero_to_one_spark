{
 "cells": [
  {
   "cell_type": "markdown",
   "metadata": {
    "application/vnd.databricks.v1+cell": {
     "cellMetadata": {},
     "inputWidgets": {},
     "nuid": "acedf243-4438-4fe8-9f11-e092cd243fd8",
     "showTitle": false,
     "title": ""
    },
    "colab_type": "text",
    "id": "view-in-github"
   },
   "source": [
    "<a href=\"https://colab.research.google.com/github/arulrajgopal-zerotoone/zero_to_one_spark/blob/main/apache_spark/04_read_write_file.ipynb\" target=\"_parent\"><img src=\"https://colab.research.google.com/assets/colab-badge.svg\" alt=\"Open In Colab\"/></a>"
   ]
  },
  {
   "cell_type": "code",
   "execution_count": 0,
   "metadata": {
    "application/vnd.databricks.v1+cell": {
     "cellMetadata": {},
     "inputWidgets": {},
     "nuid": "fa268be7-1e6a-4897-ad25-dfc37abb7cd5",
     "showTitle": false,
     "title": ""
    },
    "colab": {
     "base_uri": "https://localhost:8080/"
    },
    "id": "v4xrHnuULiq3",
    "outputId": "40ca67ed-52cd-4eaa-cff9-f80637c8eacb"
   },
   "outputs": [],
   "source": [
    "!pip install pyspark\n",
    "\n",
    "from pyspark.sql import SparkSession\n",
    "\n",
    "#create spark session\n",
    "spark= SparkSession.builder.appName('mysparksession').getOrCreate()\n",
    "\n",
    "#create spark context\n",
    "sc = spark.sparkContext"
   ]
  },
  {
   "cell_type": "code",
   "execution_count": 0,
   "metadata": {
    "application/vnd.databricks.v1+cell": {
     "cellMetadata": {},
     "inputWidgets": {},
     "nuid": "06743a62-f598-4271-8d7f-7ebee56325e4",
     "showTitle": false,
     "title": ""
    },
    "colab": {
     "base_uri": "https://localhost:8080/"
    },
    "id": "EbuPpT-voP-C",
    "outputId": "93c66c0a-0b97-4786-afe3-4707afff4563"
   },
   "outputs": [],
   "source": [
    "!ls"
   ]
  },
  {
   "cell_type": "markdown",
   "metadata": {
    "application/vnd.databricks.v1+cell": {
     "cellMetadata": {},
     "inputWidgets": {},
     "nuid": "f4c683c6-8fc3-47b0-803b-b67e320688d0",
     "showTitle": false,
     "title": ""
    },
    "id": "GyBxltZhqv13"
   },
   "source": [
    "#Read a file"
   ]
  },
  {
   "cell_type": "code",
   "execution_count": 0,
   "metadata": {
    "application/vnd.databricks.v1+cell": {
     "cellMetadata": {},
     "inputWidgets": {},
     "nuid": "8d107427-0d5a-4cd8-a4a4-857fda546a65",
     "showTitle": false,
     "title": ""
    },
    "id": "k5fQWo92rSLB"
   },
   "outputs": [],
   "source": [
    "from pyspark.sql.types import StructType,StructField, StringType, IntegerType"
   ]
  },
  {
   "cell_type": "code",
   "execution_count": 0,
   "metadata": {
    "application/vnd.databricks.v1+cell": {
     "cellMetadata": {},
     "inputWidgets": {},
     "nuid": "677e6a19-2787-41e9-b28a-366db7c37dcf",
     "showTitle": false,
     "title": ""
    },
    "id": "m4kEIczvoJ3D"
   },
   "outputs": [],
   "source": [
    "schema = StructType([ \\\n",
    "    StructField(\"user_id\",IntegerType(),True), \\\n",
    "    StructField(\"age\",IntegerType(),True), \\\n",
    "    StructField(\"gender\",StringType(),True), \\\n",
    "    StructField(\"occupation\",StringType(),True), \\\n",
    "    StructField(\"zip_code\",IntegerType(),True) \\\n",
    "  ])\n",
    "\n",
    "user_df = spark.read\\\n",
    "    .format('csv')\\\n",
    "    .option('Header',False)\\\n",
    "    .schema(schema)\\\n",
    "    .option('sep','|')\\\n",
    "    .load('user.user')"
   ]
  },
  {
   "cell_type": "code",
   "execution_count": 0,
   "metadata": {
    "application/vnd.databricks.v1+cell": {
     "cellMetadata": {},
     "inputWidgets": {},
     "nuid": "0944f747-7f0e-426f-bbae-9419614dfec0",
     "showTitle": false,
     "title": ""
    },
    "colab": {
     "base_uri": "https://localhost:8080/"
    },
    "id": "m9mdyzVMolWN",
    "outputId": "2636f45f-23ac-4762-8513-c57f552fe590"
   },
   "outputs": [],
   "source": [
    "user_df.show()"
   ]
  },
  {
   "cell_type": "markdown",
   "metadata": {
    "application/vnd.databricks.v1+cell": {
     "cellMetadata": {},
     "inputWidgets": {},
     "nuid": "8cc23c29-3b60-4819-886d-a71132fe5985",
     "showTitle": false,
     "title": ""
    },
    "id": "N8f9HXKaqxXD"
   },
   "source": [
    "#write a file"
   ]
  },
  {
   "cell_type": "code",
   "execution_count": 0,
   "metadata": {
    "application/vnd.databricks.v1+cell": {
     "cellMetadata": {},
     "inputWidgets": {},
     "nuid": "54532d17-62eb-422a-befb-e71944890072",
     "showTitle": false,
     "title": ""
    },
    "colab": {
     "base_uri": "https://localhost:8080/"
    },
    "id": "kaOsXVC-pUcU",
    "outputId": "8f378156-005c-4a2f-aeb3-e7e388840de7"
   },
   "outputs": [],
   "source": [
    "from google.colab import drive\n",
    "drive.mount('/content/drive')"
   ]
  },
  {
   "cell_type": "code",
   "execution_count": 0,
   "metadata": {
    "application/vnd.databricks.v1+cell": {
     "cellMetadata": {},
     "inputWidgets": {},
     "nuid": "2b5b9b20-da11-4701-8e0f-4a59167480f3",
     "showTitle": false,
     "title": ""
    },
    "colab": {
     "base_uri": "https://localhost:8080/"
    },
    "id": "OF7bnhuWpUZu",
    "outputId": "eb2e5917-f559-4c3d-e377-708e7b66619e"
   },
   "outputs": [],
   "source": [
    "user_df\\\n",
    ".write\\\n",
    ".mode('overwrite')\\\n",
    ".parquet('/content/drive/MyDrive/ColabOutput/user_file')\n",
    "\n",
    "print(\"write successfull\")"
   ]
  },
  {
   "cell_type": "markdown",
   "metadata": {
    "application/vnd.databricks.v1+cell": {
     "cellMetadata": {},
     "inputWidgets": {},
     "nuid": "713417b8-f55d-411b-b353-d56691b68ee8",
     "showTitle": false,
     "title": ""
    },
    "id": "-kJA-fj4qyo6"
   },
   "source": [
    "# read a pre-written file"
   ]
  },
  {
   "cell_type": "code",
   "execution_count": 0,
   "metadata": {
    "application/vnd.databricks.v1+cell": {
     "cellMetadata": {},
     "inputWidgets": {},
     "nuid": "5659b8fb-61ef-4b5d-8069-d48409540699",
     "showTitle": false,
     "title": ""
    },
    "id": "Vo8cdL9csIXC"
   },
   "outputs": [],
   "source": [
    "new_user_df = spark.read\\\n",
    "    .option('Header',True)\\\n",
    "    .load('/content/drive/MyDrive/ColabOutput/user_file/')"
   ]
  },
  {
   "cell_type": "code",
   "execution_count": 0,
   "metadata": {
    "application/vnd.databricks.v1+cell": {
     "cellMetadata": {},
     "inputWidgets": {},
     "nuid": "b0af6bb6-108e-49f8-afc4-8cdbc742f16d",
     "showTitle": false,
     "title": ""
    },
    "colab": {
     "base_uri": "https://localhost:8080/"
    },
    "id": "eG8QbJiVr2ZV",
    "outputId": "6e4dbab7-d6d1-4349-f01e-66fcfd5f9107"
   },
   "outputs": [],
   "source": [
    "new_user_df.show()"
   ]
  },
  {
   "cell_type": "code",
   "execution_count": 0,
   "metadata": {
    "application/vnd.databricks.v1+cell": {
     "cellMetadata": {},
     "inputWidgets": {},
     "nuid": "9326f3a3-cf8c-4f0c-9e7b-2fd64e047bfc",
     "showTitle": false,
     "title": ""
    },
    "colab": {
     "base_uri": "https://localhost:8080/"
    },
    "id": "8y2FnCiA9zfC",
    "outputId": "4c33c2ae-bd60-4141-97ae-d714fabe9563"
   },
   "outputs": [],
   "source": [
    "new_user_df.printSchema()"
   ]
  },
  {
   "cell_type": "code",
   "execution_count": 0,
   "metadata": {
    "application/vnd.databricks.v1+cell": {
     "cellMetadata": {},
     "inputWidgets": {},
     "nuid": "7ea3e39d-ff70-47b1-acc8-6f9cd97e0ae8",
     "showTitle": false,
     "title": ""
    },
    "id": "auZKvxv792qO"
   },
   "outputs": [],
   "source": []
  }
 ],
 "metadata": {
  "application/vnd.databricks.v1+notebook": {
   "dashboards": [],
   "environmentMetadata": null,
   "language": "python",
   "notebookMetadata": {},
   "notebookName": "04_read_write_file",
   "widgets": {}
  },
  "colab": {
   "authorship_tag": "ABX9TyMoRBE56EftovhqMcniBqpo",
   "include_colab_link": true,
   "provenance": []
  },
  "kernelspec": {
   "display_name": "Python 3",
   "name": "python3"
  },
  "language_info": {
   "name": "python"
  }
 },
 "nbformat": 4,
 "nbformat_minor": 0
}
