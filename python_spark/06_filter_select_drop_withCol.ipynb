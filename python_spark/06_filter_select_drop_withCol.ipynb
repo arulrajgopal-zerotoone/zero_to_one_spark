{
 "cells": [
  {
   "cell_type": "markdown",
   "metadata": {
    "application/vnd.databricks.v1+cell": {
     "cellMetadata": {},
     "inputWidgets": {},
     "nuid": "d9657fe6-205c-43da-9b84-b29b5fccf277",
     "showTitle": false,
     "title": ""
    },
    "colab_type": "text",
    "id": "view-in-github"
   },
   "source": [
    "<a href=\"https://colab.research.google.com/github/arulrajgopal-zerotoone/zero_to_one_spark/blob/main/apache_spark/06_filter_select_drop_withCol.ipynb\" target=\"_parent\"><img src=\"https://colab.research.google.com/assets/colab-badge.svg\" alt=\"Open In Colab\"/></a>"
   ]
  },
  {
   "cell_type": "code",
   "execution_count": 0,
   "metadata": {
    "application/vnd.databricks.v1+cell": {
     "cellMetadata": {},
     "inputWidgets": {},
     "nuid": "326c7070-2565-4db2-87d8-37a21c1fde08",
     "showTitle": false,
     "title": ""
    },
    "colab": {
     "base_uri": "https://localhost:8080/"
    },
    "id": "v4xrHnuULiq3",
    "outputId": "97f31b73-ecc1-4e0c-c434-615e39851aa7"
   },
   "outputs": [],
   "source": [
    "!pip install pyspark\n",
    "\n",
    "from pyspark.sql import SparkSession\n",
    "\n",
    "#create spark session\n",
    "spark= SparkSession.builder.appName('mysparksession').getOrCreate()\n",
    "\n",
    "#create spark context\n",
    "sc = spark.sparkContext"
   ]
  },
  {
   "cell_type": "code",
   "execution_count": 0,
   "metadata": {
    "application/vnd.databricks.v1+cell": {
     "cellMetadata": {},
     "inputWidgets": {},
     "nuid": "da1f07fb-6579-44f3-a382-e9f3096d77b3",
     "showTitle": false,
     "title": ""
    },
    "colab": {
     "base_uri": "https://localhost:8080/"
    },
    "id": "iecLSZcACvo5",
    "outputId": "d9d25475-fd0f-4bd6-9e54-d4b3e241c6da"
   },
   "outputs": [],
   "source": [
    "data = [\n",
    "    (\"John\", 28, \"New York\"),\n",
    "    (\"Jane\", 24, \"San Francisco\"),\n",
    "    (\"Bob\", 22, \"Los Angeles\"),\n",
    "    (\"Alice\", 30, \"Chicago\"),\n",
    "    (\"Jane\", 24, \"San Francisco\"),\n",
    "    (\"Alice\", 70, \"Tokyo\"),\n",
    "    (\"Vievk\",34, None)\n",
    "]\n",
    "\n",
    "columns = [\"Name\", \"Age\",\"City\" ]\n",
    "\n",
    "\n",
    "df = spark.createDataFrame(data, columns)\n",
    "\n",
    "\n",
    "df.show()"
   ]
  },
  {
   "cell_type": "code",
   "execution_count": 0,
   "metadata": {
    "application/vnd.databricks.v1+cell": {
     "cellMetadata": {},
     "inputWidgets": {},
     "nuid": "b9ce6ee8-0ebb-4324-83d8-5fc1e22f8a71",
     "showTitle": false,
     "title": ""
    },
    "id": "BSPt9H7nx2gZ"
   },
   "outputs": [],
   "source": [
    "from pyspark.sql.functions import col, max"
   ]
  },
  {
   "cell_type": "code",
   "execution_count": 0,
   "metadata": {
    "application/vnd.databricks.v1+cell": {
     "cellMetadata": {},
     "inputWidgets": {},
     "nuid": "a952e9f0-5c69-4d43-afaf-96b8fecd6bb6",
     "showTitle": false,
     "title": ""
    },
    "colab": {
     "base_uri": "https://localhost:8080/"
    },
    "id": "3SBfSPRAxyVL",
    "outputId": "271fcfe4-34a1-4291-96bd-0732fb54cc66"
   },
   "outputs": [],
   "source": [
    "df.filter(col(\"Age\") > 25).show()"
   ]
  },
  {
   "cell_type": "code",
   "execution_count": 0,
   "metadata": {
    "application/vnd.databricks.v1+cell": {
     "cellMetadata": {},
     "inputWidgets": {},
     "nuid": "7a6fe608-c06a-45fa-b7ac-498aeef5a474",
     "showTitle": false,
     "title": ""
    },
    "colab": {
     "base_uri": "https://localhost:8080/"
    },
    "id": "3RMK4ltCyBXp",
    "outputId": "566a6f81-90c8-4997-ebe6-db2cfde21def"
   },
   "outputs": [],
   "source": [
    "df.select(\"Name\",\"Age\").show()"
   ]
  },
  {
   "cell_type": "code",
   "execution_count": 0,
   "metadata": {
    "application/vnd.databricks.v1+cell": {
     "cellMetadata": {},
     "inputWidgets": {},
     "nuid": "b491cf3a-12c7-4498-9c23-5d37e3e7a37d",
     "showTitle": false,
     "title": ""
    },
    "colab": {
     "base_uri": "https://localhost:8080/"
    },
    "id": "onGsShZpz_oz",
    "outputId": "63679bd5-ebec-456a-df94-efe27be2c021"
   },
   "outputs": [],
   "source": [
    "df.drop(\"Age\").show()"
   ]
  },
  {
   "cell_type": "code",
   "execution_count": 0,
   "metadata": {
    "application/vnd.databricks.v1+cell": {
     "cellMetadata": {},
     "inputWidgets": {},
     "nuid": "ed98ee2d-24dc-403d-82d0-bbc854da5238",
     "showTitle": false,
     "title": ""
    },
    "colab": {
     "base_uri": "https://localhost:8080/"
    },
    "id": "X2q0h2TEQzTK",
    "outputId": "20c3887d-15a3-4d3b-bb0d-1ba0535817db"
   },
   "outputs": [],
   "source": [
    "df.withColumn(\"Age\", col(\"Age\") + 1).show()"
   ]
  },
  {
   "cell_type": "code",
   "execution_count": 0,
   "metadata": {
    "application/vnd.databricks.v1+cell": {
     "cellMetadata": {},
     "inputWidgets": {},
     "nuid": "36ed4229-f09a-43d5-93a4-b018cfc76160",
     "showTitle": false,
     "title": ""
    },
    "colab": {
     "base_uri": "https://localhost:8080/"
    },
    "id": "qcSDk1fqQ7xJ",
    "outputId": "4c3b757e-6174-4b94-b8fa-b33c58ec15d4"
   },
   "outputs": [],
   "source": [
    "df.withColumnRenamed(\"Name\", \"Full Name\").show()"
   ]
  },
  {
   "cell_type": "code",
   "execution_count": 0,
   "metadata": {
    "application/vnd.databricks.v1+cell": {
     "cellMetadata": {},
     "inputWidgets": {},
     "nuid": "d0437769-ab10-46ac-a029-3fc7c8d41403",
     "showTitle": false,
     "title": ""
    },
    "id": "zdrxYR5QQ94F"
   },
   "outputs": [],
   "source": []
  }
 ],
 "metadata": {
  "application/vnd.databricks.v1+notebook": {
   "dashboards": [],
   "environmentMetadata": null,
   "language": "python",
   "notebookMetadata": {},
   "notebookName": "06_filter_select_drop_withCol",
   "widgets": {}
  },
  "colab": {
   "authorship_tag": "ABX9TyNaG9m6cV+ec74d539RL6Mh",
   "include_colab_link": true,
   "provenance": []
  },
  "kernelspec": {
   "display_name": "Python 3",
   "name": "python3"
  },
  "language_info": {
   "name": "python"
  }
 },
 "nbformat": 4,
 "nbformat_minor": 0
}
