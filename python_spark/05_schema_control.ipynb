{
 "cells": [
  {
   "cell_type": "markdown",
   "metadata": {
    "application/vnd.databricks.v1+cell": {
     "cellMetadata": {},
     "inputWidgets": {},
     "nuid": "0c4899d9-8c94-4080-b4f5-7f0547c25ca0",
     "showTitle": false,
     "title": ""
    },
    "colab_type": "text",
    "id": "view-in-github"
   },
   "source": [
    "<a href=\"https://colab.research.google.com/github/arulrajgopal-zerotoone/zero_to_one_spark/blob/main/apache_spark/05_schema_control.ipynb\" target=\"_parent\"><img src=\"https://colab.research.google.com/assets/colab-badge.svg\" alt=\"Open In Colab\"/></a>"
   ]
  },
  {
   "cell_type": "code",
   "execution_count": 0,
   "metadata": {
    "application/vnd.databricks.v1+cell": {
     "cellMetadata": {},
     "inputWidgets": {},
     "nuid": "4b57a6cc-ccd4-4bd1-831b-5483d510fa0c",
     "showTitle": false,
     "title": ""
    },
    "colab": {
     "base_uri": "https://localhost:8080/"
    },
    "id": "1h0a2D3UWdzf",
    "outputId": "fb5d3fdb-26bb-4191-9530-ff4136c7f04d"
   },
   "outputs": [],
   "source": [
    "!pip install pyspark\n",
    "\n",
    "from pyspark.sql import SparkSession\n",
    "\n",
    "#create spark session\n",
    "spark= SparkSession.builder.appName('mysparksession').getOrCreate()\n",
    "\n",
    "#create spark context\n",
    "sc = spark.sparkContext"
   ]
  },
  {
   "cell_type": "code",
   "execution_count": 0,
   "metadata": {
    "application/vnd.databricks.v1+cell": {
     "cellMetadata": {},
     "inputWidgets": {},
     "nuid": "951e38a4-18e3-4f32-a9c2-38c0f94effe1",
     "showTitle": false,
     "title": ""
    },
    "id": "oKUIaAw8Okzt"
   },
   "outputs": [],
   "source": [
    "from pyspark.sql.functions import lit"
   ]
  },
  {
   "cell_type": "markdown",
   "metadata": {
    "application/vnd.databricks.v1+cell": {
     "cellMetadata": {},
     "inputWidgets": {},
     "nuid": "fd31a572-f087-4c5f-a1e3-058535dd1775",
     "showTitle": false,
     "title": ""
    },
    "id": "T8ureqnKAngk"
   },
   "source": [
    "#read a file with inferschema"
   ]
  },
  {
   "cell_type": "code",
   "execution_count": 0,
   "metadata": {
    "application/vnd.databricks.v1+cell": {
     "cellMetadata": {},
     "inputWidgets": {},
     "nuid": "21543520-36f7-4237-9f83-8a708e2507d9",
     "showTitle": false,
     "title": ""
    },
    "id": "GdJ8bKrF__oZ"
   },
   "outputs": [],
   "source": [
    "user_sch_inf_df = spark.read\\\n",
    "    .format(\"csv\")\\\n",
    "    .option('Header',False)\\\n",
    "    .option('InferSchema',True)\\\n",
    "    .option('sep','|')\\\n",
    "    .load('user.user')"
   ]
  },
  {
   "cell_type": "code",
   "execution_count": 0,
   "metadata": {
    "application/vnd.databricks.v1+cell": {
     "cellMetadata": {},
     "inputWidgets": {},
     "nuid": "29e4eed5-ce06-4ea9-b3a6-0c2905ba4c39",
     "showTitle": false,
     "title": ""
    },
    "colab": {
     "base_uri": "https://localhost:8080/"
    },
    "id": "gd944z21BYNg",
    "outputId": "481d1e13-1a90-490b-a570-2677785a4f8d"
   },
   "outputs": [],
   "source": [
    "user_sch_inf_df.printSchema()"
   ]
  },
  {
   "cell_type": "markdown",
   "metadata": {
    "application/vnd.databricks.v1+cell": {
     "cellMetadata": {},
     "inputWidgets": {},
     "nuid": "56cac6c1-28d0-4a48-80fb-00f39ebbe35c",
     "showTitle": false,
     "title": ""
    },
    "id": "paq-pQ_mBJs9"
   },
   "source": [
    "#read a file without schema"
   ]
  },
  {
   "cell_type": "code",
   "execution_count": 0,
   "metadata": {
    "application/vnd.databricks.v1+cell": {
     "cellMetadata": {},
     "inputWidgets": {},
     "nuid": "957116cb-62e9-4d9e-a9b7-2022cee64ac5",
     "showTitle": false,
     "title": ""
    },
    "id": "Epp5QtVMKd-8"
   },
   "outputs": [],
   "source": [
    "user_df = spark.read\\\n",
    "    .format(\"csv\")\\\n",
    "    .option('Header',False)\\\n",
    "    .option('sep','|')\\\n",
    "    .load('user.user')"
   ]
  },
  {
   "cell_type": "code",
   "execution_count": 0,
   "metadata": {
    "application/vnd.databricks.v1+cell": {
     "cellMetadata": {},
     "inputWidgets": {},
     "nuid": "4299838a-885c-4738-b38b-b71bb622063a",
     "showTitle": false,
     "title": ""
    },
    "colab": {
     "base_uri": "https://localhost:8080/"
    },
    "id": "50qsivMTLp4n",
    "outputId": "0b67385b-4b55-4a8e-d56a-72cdac6757ff"
   },
   "outputs": [],
   "source": [
    "user_df.printSchema()"
   ]
  },
  {
   "cell_type": "markdown",
   "metadata": {
    "application/vnd.databricks.v1+cell": {
     "cellMetadata": {},
     "inputWidgets": {},
     "nuid": "10146d35-c28e-40fa-ae9e-32bad51ab890",
     "showTitle": false,
     "title": ""
    },
    "id": "1vl5VynEDmis"
   },
   "source": [
    "#column renaming"
   ]
  },
  {
   "cell_type": "code",
   "execution_count": 0,
   "metadata": {
    "application/vnd.databricks.v1+cell": {
     "cellMetadata": {},
     "inputWidgets": {},
     "nuid": "f6114c60-4ed1-438c-b237-97ea3bcc0f28",
     "showTitle": false,
     "title": ""
    },
    "colab": {
     "base_uri": "https://localhost:8080/"
    },
    "id": "oL0lblkCEuAh",
    "outputId": "69304415-9c01-4f0d-88be-9ca6b4949cfc"
   },
   "outputs": [],
   "source": [
    "user_df.show(3)"
   ]
  },
  {
   "cell_type": "code",
   "execution_count": 0,
   "metadata": {
    "application/vnd.databricks.v1+cell": {
     "cellMetadata": {},
     "inputWidgets": {},
     "nuid": "e672cb8a-a02d-4928-b04a-a39d5621a781",
     "showTitle": false,
     "title": ""
    },
    "id": "NHjislNQDpcC"
   },
   "outputs": [],
   "source": [
    "col_mapping = {\n",
    "    '_c0':'user_id',\n",
    "    '_c1':'age',\n",
    "    '_c2':'gender',\n",
    "    '_c3':'occupation',\n",
    "    '_c4':'zip_code'\n",
    "    }"
   ]
  },
  {
   "cell_type": "code",
   "execution_count": 0,
   "metadata": {
    "application/vnd.databricks.v1+cell": {
     "cellMetadata": {},
     "inputWidgets": {},
     "nuid": "eb6e4b11-f40c-40e7-a8ef-0c53c15e2baf",
     "showTitle": false,
     "title": ""
    },
    "id": "ndnk_ZIzEBTU"
   },
   "outputs": [],
   "source": [
    "def col_renaming(df, col_map):\n",
    "  list = []\n",
    "  for i, j in col_map.items():\n",
    "    list.append(f\"{i} as {j}\")\n",
    "\n",
    "  renamed_df = df.selectExpr(*list)\n",
    "\n",
    "  return renamed_df"
   ]
  },
  {
   "cell_type": "code",
   "execution_count": 0,
   "metadata": {
    "application/vnd.databricks.v1+cell": {
     "cellMetadata": {},
     "inputWidgets": {},
     "nuid": "7505dc60-8229-4435-9b71-71946f5cd780",
     "showTitle": false,
     "title": ""
    },
    "colab": {
     "base_uri": "https://localhost:8080/"
    },
    "id": "UMWX64cGDh21",
    "outputId": "9346b67c-a92a-48fb-bfed-d554cfeedb2e"
   },
   "outputs": [],
   "source": [
    "col_renamed_df = col_renaming(user_df, col_mapping)\n",
    "col_renamed_df.show()"
   ]
  },
  {
   "cell_type": "markdown",
   "metadata": {
    "application/vnd.databricks.v1+cell": {
     "cellMetadata": {},
     "inputWidgets": {},
     "nuid": "b4dc8249-3157-45c2-8a0b-5db7144af4d8",
     "showTitle": false,
     "title": ""
    },
    "id": "SAvetaqzDb2o"
   },
   "source": [
    "#apply schema"
   ]
  },
  {
   "cell_type": "code",
   "execution_count": 0,
   "metadata": {
    "application/vnd.databricks.v1+cell": {
     "cellMetadata": {},
     "inputWidgets": {},
     "nuid": "3f53a914-4684-4af0-ba20-597ab898e0ab",
     "showTitle": false,
     "title": ""
    },
    "id": "iE75ChuCARa_"
   },
   "outputs": [],
   "source": [
    "schema = {\n",
    "'user_id': 'INT',\n",
    " 'age':'INT',\n",
    " 'gender':'STRING',\n",
    " 'occupation':'STRING',\n",
    " 'zip_code':'INT'\n",
    "}"
   ]
  },
  {
   "cell_type": "code",
   "execution_count": 0,
   "metadata": {
    "application/vnd.databricks.v1+cell": {
     "cellMetadata": {},
     "inputWidgets": {},
     "nuid": "ea48623d-feed-4f05-8304-d5d0c065b6d1",
     "showTitle": false,
     "title": ""
    },
    "id": "JvCJ1oR2GEcB"
   },
   "outputs": [],
   "source": [
    "def date_type_conversion(df, schema):\n",
    "  column_list = []\n",
    "  for column, datatype in schema.items():\n",
    "      column_list.append(f\"cast({column} as {datatype}) {column}\")\n",
    "      data_type_converted_df = df.selectExpr(column_list)\n",
    "\n",
    "  return data_type_converted_df"
   ]
  },
  {
   "cell_type": "code",
   "execution_count": 0,
   "metadata": {
    "application/vnd.databricks.v1+cell": {
     "cellMetadata": {},
     "inputWidgets": {},
     "nuid": "8a9ede81-da2d-4a15-9964-4c5fbb570c8a",
     "showTitle": false,
     "title": ""
    },
    "colab": {
     "base_uri": "https://localhost:8080/"
    },
    "id": "XZrVwe9eGPpg",
    "outputId": "3ce96732-288f-44aa-ac76-aea3750973dd"
   },
   "outputs": [],
   "source": [
    "data_type_converted_df = date_type_conversion(col_renamed_df, schema)\n",
    "col_renamed_df.printSchema()\n",
    "data_type_converted_df.printSchema()"
   ]
  },
  {
   "cell_type": "markdown",
   "metadata": {
    "application/vnd.databricks.v1+cell": {
     "cellMetadata": {},
     "inputWidgets": {},
     "nuid": "755d48e8-4f9b-4f6b-b234-72b01d31586f",
     "showTitle": false,
     "title": ""
    },
    "id": "Puu9I8avGXmX"
   },
   "source": [
    "#apply schema using structtype"
   ]
  },
  {
   "cell_type": "code",
   "execution_count": 0,
   "metadata": {
    "application/vnd.databricks.v1+cell": {
     "cellMetadata": {},
     "inputWidgets": {},
     "nuid": "12b5a2d4-eb29-419d-921b-ad9c080afb76",
     "showTitle": false,
     "title": ""
    },
    "id": "xW4LsaAEHm1t"
   },
   "outputs": [],
   "source": [
    "from pyspark.sql.types import StructType,StructField, StringType, IntegerType"
   ]
  },
  {
   "cell_type": "code",
   "execution_count": 0,
   "metadata": {
    "application/vnd.databricks.v1+cell": {
     "cellMetadata": {},
     "inputWidgets": {},
     "nuid": "02a2123d-5961-4d10-82e4-964dcdb7d2a8",
     "showTitle": false,
     "title": ""
    },
    "id": "wpG60FrIIb-u"
   },
   "outputs": [],
   "source": [
    "struct_schema = StructType([ \\\n",
    "    StructField(\"user_id\",IntegerType(),True), \\\n",
    "    StructField(\"age\",IntegerType(),True), \\\n",
    "    StructField(\"gender\",StringType(),True), \\\n",
    "    StructField(\"occupation\",StringType(),True), \\\n",
    "    StructField(\"zip_code\",IntegerType(),True) \\\n",
    "  ])"
   ]
  },
  {
   "cell_type": "code",
   "execution_count": 0,
   "metadata": {
    "application/vnd.databricks.v1+cell": {
     "cellMetadata": {},
     "inputWidgets": {},
     "nuid": "e83807d6-3eca-4b80-840c-1840cf18e6c8",
     "showTitle": false,
     "title": ""
    },
    "id": "UB1hjKs6IbBq"
   },
   "outputs": [],
   "source": [
    "user_df = spark.read\\\n",
    "    .format('csv')\\\n",
    "    .option('Header',False)\\\n",
    "    .schema(struct_schema)\\\n",
    "    .option('sep','|')\\\n",
    "    .load('user.user')"
   ]
  },
  {
   "cell_type": "code",
   "execution_count": 0,
   "metadata": {
    "application/vnd.databricks.v1+cell": {
     "cellMetadata": {},
     "inputWidgets": {},
     "nuid": "6aca3d2c-9e2a-41d3-9abf-4aecfc28d1d8",
     "showTitle": false,
     "title": ""
    },
    "colab": {
     "base_uri": "https://localhost:8080/"
    },
    "id": "t-ID7hqbIdG4",
    "outputId": "e16cfbbc-fba6-4c7f-a6d6-36cad7db9889"
   },
   "outputs": [],
   "source": [
    "user_df.printSchema()"
   ]
  },
  {
   "cell_type": "code",
   "execution_count": 0,
   "metadata": {
    "application/vnd.databricks.v1+cell": {
     "cellMetadata": {},
     "inputWidgets": {},
     "nuid": "139aaaf3-0c65-45cd-ac5c-c221815f49e5",
     "showTitle": false,
     "title": ""
    },
    "colab": {
     "base_uri": "https://localhost:8080/"
    },
    "id": "EhGEZ-E8Imr1",
    "outputId": "e5cc2095-938c-45e2-cb98-3e6976180ce1"
   },
   "outputs": [],
   "source": [
    "user_df.show()"
   ]
  },
  {
   "cell_type": "markdown",
   "metadata": {
    "application/vnd.databricks.v1+cell": {
     "cellMetadata": {},
     "inputWidgets": {},
     "nuid": "6efa5d8b-0d99-4101-b916-1e4175108bfe",
     "showTitle": false,
     "title": ""
    },
    "id": "9KsgYbf1NhmW"
   },
   "source": [
    "#other options to cast"
   ]
  },
  {
   "cell_type": "code",
   "execution_count": 0,
   "metadata": {
    "application/vnd.databricks.v1+cell": {
     "cellMetadata": {},
     "inputWidgets": {},
     "nuid": "58a1e7c3-67f9-4003-8f3f-fb6c69bb8a75",
     "showTitle": false,
     "title": ""
    },
    "colab": {
     "base_uri": "https://localhost:8080/"
    },
    "id": "8BJ-YpXINk4v",
    "outputId": "f2eb9483-28ea-4ac4-c630-8288dcdc4430"
   },
   "outputs": [],
   "source": [
    "col_renamed_df.printSchema()\n",
    "col_renamed_df.show(2)"
   ]
  },
  {
   "cell_type": "code",
   "execution_count": 0,
   "metadata": {
    "application/vnd.databricks.v1+cell": {
     "cellMetadata": {},
     "inputWidgets": {},
     "nuid": "7b8a854b-c1f0-4763-8bc3-da35d9c3035a",
     "showTitle": false,
     "title": ""
    },
    "colab": {
     "base_uri": "https://localhost:8080/"
    },
    "id": "U1NF953yNygf",
    "outputId": "4addcd6e-69ea-4a57-c2cb-a2b5c2ab22cd"
   },
   "outputs": [],
   "source": [
    "col_renamed_df.select(col_renamed_df.age.cast(\"int\")).printSchema()\n",
    "col_renamed_df.selectExpr('cast(age as INT) as age_int').printSchema()\n",
    "col_renamed_df.withColumn('new_age',lit(None)).printSchema()"
   ]
  },
  {
   "cell_type": "code",
   "execution_count": 0,
   "metadata": {
    "application/vnd.databricks.v1+cell": {
     "cellMetadata": {},
     "inputWidgets": {},
     "nuid": "4fb358ef-3cac-4dc9-b1de-71c875583710",
     "showTitle": false,
     "title": ""
    },
    "id": "RUQwilCgO2UM"
   },
   "outputs": [],
   "source": []
  }
 ],
 "metadata": {
  "application/vnd.databricks.v1+notebook": {
   "dashboards": [],
   "environmentMetadata": null,
   "language": "python",
   "notebookMetadata": {},
   "notebookName": "05_schema_control",
   "widgets": {}
  },
  "colab": {
   "authorship_tag": "ABX9TyN54rNGuTSXHYmdGxR6Sefp",
   "include_colab_link": true,
   "mount_file_id": "18-poI3ZmLoG-obz8rWMPZ2BBz69SzE-g",
   "provenance": []
  },
  "kernelspec": {
   "display_name": "Python 3",
   "name": "python3"
  },
  "language_info": {
   "name": "python"
  }
 },
 "nbformat": 4,
 "nbformat_minor": 0
}
