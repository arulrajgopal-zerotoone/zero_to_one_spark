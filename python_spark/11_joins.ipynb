{
 "cells": [
  {
   "cell_type": "markdown",
   "metadata": {
    "application/vnd.databricks.v1+cell": {
     "cellMetadata": {},
     "inputWidgets": {},
     "nuid": "983411bd-29ef-49c5-8aba-9e1b38ea2223",
     "showTitle": false,
     "title": ""
    },
    "colab_type": "text",
    "id": "view-in-github"
   },
   "source": [
    "<a href=\"https://colab.research.google.com/github/arulrajgopal-zerotoone/zero_to_one_spark/blob/main/apache_spark/13_joins.ipynb\" target=\"_parent\"><img src=\"https://colab.research.google.com/assets/colab-badge.svg\" alt=\"Open In Colab\"/></a>"
   ]
  },
  {
   "cell_type": "code",
   "execution_count": 0,
   "metadata": {
    "application/vnd.databricks.v1+cell": {
     "cellMetadata": {},
     "inputWidgets": {},
     "nuid": "82ac370d-369e-4575-b056-39a226428ac3",
     "showTitle": false,
     "title": ""
    },
    "colab": {
     "base_uri": "https://localhost:8080/"
    },
    "id": "QCF5-hhC5vLG",
    "outputId": "c3351506-c1ba-4d41-c476-eb9d0863524f"
   },
   "outputs": [],
   "source": [
    "!pip install pyspark\n",
    "\n",
    "from pyspark.sql import SparkSession\n",
    "\n",
    "#create spark session\n",
    "spark= SparkSession.builder.appName('mysparksession').getOrCreate()\n",
    "\n",
    "#create spark context\n",
    "sc = spark.sparkContext"
   ]
  },
  {
   "cell_type": "code",
   "execution_count": 0,
   "metadata": {
    "application/vnd.databricks.v1+cell": {
     "cellMetadata": {},
     "inputWidgets": {},
     "nuid": "af5f39f7-a1f8-4a56-813a-1b54a79a6fa5",
     "showTitle": false,
     "title": ""
    },
    "id": "6oFpwFolDIUR"
   },
   "outputs": [],
   "source": [
    "from pyspark.sql.functions import col,broadcast\n",
    "from pyspark.sql.types import StructType, StructField, StringType, IntegerType\n"
   ]
  },
  {
   "cell_type": "code",
   "execution_count": 0,
   "metadata": {
    "application/vnd.databricks.v1+cell": {
     "cellMetadata": {},
     "inputWidgets": {},
     "nuid": "6074db39-0623-4ca2-bd49-76090887a799",
     "showTitle": false,
     "title": ""
    },
    "colab": {
     "base_uri": "https://localhost:8080/"
    },
    "id": "nOs1wzo_-dZL",
    "outputId": "e43ce0a1-7015-4e19-cf90-65cb56e566ba"
   },
   "outputs": [],
   "source": [
    "emp = [(1,\"Smith\",-1,\"2018\",\"10\",\"M\",3000), \\\n",
    "    (2,\"Rose\",1,\"2010\",\"20\",\"M\",4000), \\\n",
    "    (3,\"Williams\",1,\"2010\",\"10\",\"M\",1000), \\\n",
    "    (4,\"Jones\",2,\"2005\",\"10\",\"F\",2000), \\\n",
    "    (5,\"Brown\",2,\"2010\",\"40\",\"\",-1), \\\n",
    "      (6,\"Brown\",2,\"2010\",\"50\",\"\",-1) \\\n",
    "  ]\n",
    "empColumns = [\"emp_id\",\"name\",\"superior_emp_id\",\"year_joined\", \\\n",
    "       \"emp_dept_id\",\"gender\",\"salary\"]\n",
    "\n",
    "empDF = spark.createDataFrame(data=emp, schema = empColumns)\n",
    "\n",
    "\n",
    "dept = [(\"Finance\",10), \\\n",
    "    (\"Marketing\",20), \\\n",
    "    (\"Sales\",30), \\\n",
    "    (\"IT\",40) \\\n",
    "  ]\n",
    "deptColumns = [\"dept_name\",\"dept_id\"]\n",
    "deptDF = spark.createDataFrame(data=dept, schema = deptColumns)\n",
    "\n",
    "empDF.printSchema()\n",
    "deptDF.printSchema()\n",
    "empDF.show(truncate=False)\n",
    "deptDF.show(truncate=False)"
   ]
  },
  {
   "cell_type": "markdown",
   "metadata": {
    "application/vnd.databricks.v1+cell": {
     "cellMetadata": {},
     "inputWidgets": {},
     "nuid": "0cf23e8f-bdb7-4cf5-9367-05e5bf1b8645",
     "showTitle": false,
     "title": ""
    },
    "id": "jADrN9WwDSXn"
   },
   "source": [
    "## spark joins\n",
    "1. inner\n",
    "2. outer, full, fullouter, full_outer\n",
    "3. left, leftouter, left_outer\n",
    "4. right, rightouter, right_outer\n",
    "5. anti, leftanti, left_anti\n",
    "6. semi, leftsemi, left_semi"
   ]
  },
  {
   "cell_type": "markdown",
   "metadata": {
    "application/vnd.databricks.v1+cell": {
     "cellMetadata": {},
     "inputWidgets": {},
     "nuid": "4244b90a-edc6-4327-bf77-788fff7e5078",
     "showTitle": false,
     "title": ""
    },
    "id": "J1aaFKGaDTpo"
   },
   "source": [
    "#inner"
   ]
  },
  {
   "cell_type": "code",
   "execution_count": 0,
   "metadata": {
    "application/vnd.databricks.v1+cell": {
     "cellMetadata": {},
     "inputWidgets": {},
     "nuid": "1e8d90c6-7cb9-4662-a6fa-9987ad8a7277",
     "showTitle": false,
     "title": ""
    },
    "colab": {
     "base_uri": "https://localhost:8080/"
    },
    "id": "20bni5YP-d_S",
    "outputId": "29d7c8ab-d2fd-478e-d832-3e140360f139"
   },
   "outputs": [],
   "source": [
    "#inner join\n",
    "empDF.join(deptDF,empDF.emp_dept_id ==  deptDF.dept_id,\"inner\") \\\n",
    "     .show(truncate=False)"
   ]
  },
  {
   "cell_type": "markdown",
   "metadata": {
    "application/vnd.databricks.v1+cell": {
     "cellMetadata": {},
     "inputWidgets": {},
     "nuid": "86f00431-6b66-4a87-96cc-f3399b267d19",
     "showTitle": false,
     "title": ""
    },
    "id": "8vijmCvEDa2o"
   },
   "source": [
    "#outer"
   ]
  },
  {
   "cell_type": "code",
   "execution_count": 0,
   "metadata": {
    "application/vnd.databricks.v1+cell": {
     "cellMetadata": {},
     "inputWidgets": {},
     "nuid": "1ad4180c-1634-465a-bda7-df3160187b8a",
     "showTitle": false,
     "title": ""
    },
    "colab": {
     "base_uri": "https://localhost:8080/"
    },
    "id": "4Eucg4I8-d9K",
    "outputId": "c03f63c2-7111-48b3-8d1d-77b685bcc8f1"
   },
   "outputs": [],
   "source": [
    "#outer\n",
    "empDF.join(deptDF,empDF.emp_dept_id ==  deptDF.dept_id,\"outer\")\\\n",
    "    .show(truncate=False)\n"
   ]
  },
  {
   "cell_type": "markdown",
   "metadata": {
    "application/vnd.databricks.v1+cell": {
     "cellMetadata": {},
     "inputWidgets": {},
     "nuid": "4bf610d1-6a89-4b1f-9036-8ed70801ca90",
     "showTitle": false,
     "title": ""
    },
    "id": "Bm8t2MJVDeHf"
   },
   "source": [
    "#right"
   ]
  },
  {
   "cell_type": "code",
   "execution_count": 0,
   "metadata": {
    "application/vnd.databricks.v1+cell": {
     "cellMetadata": {},
     "inputWidgets": {},
     "nuid": "076b5551-7371-42bb-9399-3c2431f8e0ef",
     "showTitle": false,
     "title": ""
    },
    "colab": {
     "base_uri": "https://localhost:8080/"
    },
    "id": "-eng4Mx9-1zk",
    "outputId": "740d55cd-a0ce-4b8a-90ae-a7d2bc355c04"
   },
   "outputs": [],
   "source": [
    "# right\n",
    "empDF.join(deptDF,empDF.emp_dept_id ==  deptDF.dept_id,\"right\") \\\n",
    "   .show(truncate=False)"
   ]
  },
  {
   "cell_type": "markdown",
   "metadata": {
    "application/vnd.databricks.v1+cell": {
     "cellMetadata": {},
     "inputWidgets": {},
     "nuid": "59beb250-a2d0-478e-a5e8-c3a691f9c9a1",
     "showTitle": false,
     "title": ""
    },
    "id": "LOLoVL9RDfPB"
   },
   "source": [
    "#left"
   ]
  },
  {
   "cell_type": "code",
   "execution_count": 0,
   "metadata": {
    "application/vnd.databricks.v1+cell": {
     "cellMetadata": {},
     "inputWidgets": {},
     "nuid": "901ea8e9-4b28-4333-9eca-0df8a6561a54",
     "showTitle": false,
     "title": ""
    },
    "colab": {
     "base_uri": "https://localhost:8080/"
    },
    "id": "JLOmHy1jD8vS",
    "outputId": "6c9b8938-ce36-4293-f54d-3d114467a409"
   },
   "outputs": [],
   "source": [
    "# left\n",
    "empDF.join(deptDF,empDF.emp_dept_id ==  deptDF.dept_id,\"left\")\\\n",
    "    .show(truncate=False)"
   ]
  },
  {
   "cell_type": "markdown",
   "metadata": {
    "application/vnd.databricks.v1+cell": {
     "cellMetadata": {},
     "inputWidgets": {},
     "nuid": "54204481-ec2c-4b45-983a-126a903f7ea9",
     "showTitle": false,
     "title": ""
    },
    "id": "wblmE7MHDg_t"
   },
   "source": [
    "#left anti & left semi"
   ]
  },
  {
   "cell_type": "code",
   "execution_count": 0,
   "metadata": {
    "application/vnd.databricks.v1+cell": {
     "cellMetadata": {},
     "inputWidgets": {},
     "nuid": "38e0f7c1-3d9b-4310-98d1-9c9d4736202d",
     "showTitle": false,
     "title": ""
    },
    "colab": {
     "base_uri": "https://localhost:8080/"
    },
    "id": "G8_YkGN2EtOX",
    "outputId": "7d2d684b-3004-4495-b6c5-c8d5af3cba97"
   },
   "outputs": [],
   "source": [
    "# left\n",
    "empDF.join(deptDF,empDF.emp_dept_id ==  deptDF.dept_id,\"left\")\\\n",
    "      .filter(col(\"dept_id\").isNull())\\\n",
    "      .drop(\"dept_name\",\"dept_id\")\\\n",
    "      .show(truncate=False)"
   ]
  },
  {
   "cell_type": "code",
   "execution_count": 0,
   "metadata": {
    "application/vnd.databricks.v1+cell": {
     "cellMetadata": {},
     "inputWidgets": {},
     "nuid": "25161825-b7a2-42a4-8d6b-4c15641b7464",
     "showTitle": false,
     "title": ""
    },
    "colab": {
     "base_uri": "https://localhost:8080/"
    },
    "id": "Ghnifo0LD51X",
    "outputId": "62e874d3-a185-4ac9-c007-5e990a59ede6"
   },
   "outputs": [],
   "source": [
    "# left anti join\n",
    "empDF.join(deptDF,empDF.emp_dept_id ==  deptDF.dept_id,\"leftanti\")\\\n",
    "   .show(truncate=False)"
   ]
  },
  {
   "cell_type": "code",
   "execution_count": 0,
   "metadata": {
    "application/vnd.databricks.v1+cell": {
     "cellMetadata": {},
     "inputWidgets": {},
     "nuid": "46b0abff-16cb-46c9-a331-27cef41f161f",
     "showTitle": false,
     "title": ""
    },
    "colab": {
     "base_uri": "https://localhost:8080/"
    },
    "id": "N7MX2OMY-6CD",
    "outputId": "4e46ab26-bd37-42ea-9c57-7f67d3420574"
   },
   "outputs": [],
   "source": [
    "# left_semi\n",
    "empDF.join(deptDF,empDF.emp_dept_id ==  deptDF.dept_id,\"leftsemi\")\\\n",
    "   .show(truncate=False)"
   ]
  },
  {
   "cell_type": "markdown",
   "metadata": {
    "application/vnd.databricks.v1+cell": {
     "cellMetadata": {},
     "inputWidgets": {},
     "nuid": "8ed96a6c-454b-4045-8208-4539b64f9a01",
     "showTitle": false,
     "title": ""
    },
    "id": "4FD-vcggFdfV"
   },
   "source": [
    "#join with multiple keys"
   ]
  },
  {
   "cell_type": "code",
   "execution_count": 0,
   "metadata": {
    "application/vnd.databricks.v1+cell": {
     "cellMetadata": {},
     "inputWidgets": {},
     "nuid": "1cbffab0-3026-492c-90d3-868d2798c367",
     "showTitle": false,
     "title": ""
    },
    "colab": {
     "base_uri": "https://localhost:8080/"
    },
    "id": "S-duaW8jCdk0",
    "outputId": "05888f0c-f309-4f3f-bd1a-ef927b40a9ac"
   },
   "outputs": [],
   "source": [
    "record_1 = [1,'A','arul','cricket']\n",
    "record_2 = [2,'A','sekar','chess']\n",
    "record_3 = [3,'A','kumar','tennis']\n",
    "record_4 = [1,'B', 'ganesh','football']\n",
    "record_5 = [2,'B','vinoth','volleyball']\n",
    "record_6 = [3,'B','Ravi','hockey']\n",
    "\n",
    "record_6 = [1, 'A','Engineer']\n",
    "record_7 = [2, 'A', 'doctor']\n",
    "record_8 = [2,'B', 'lawyer']\n",
    "\n",
    "list1 = [record_1, record_2, record_3,record_4,record_5]\n",
    "list2 = [record_6, record_7, record_8]\n",
    "\n",
    "df_schema = StructType(fields=[StructField(\"sr_no\", IntegerType(), False),\n",
    "                               StructField(\"section\", StringType(), False),\n",
    "                                StructField(\"name\", StringType(), True),\n",
    "                               StructField(\"fav_game\", StringType(), True)\n",
    "])\n",
    "\n",
    "df_2_schema = StructType(fields=[StructField(\"sr_no\", IntegerType(), False),\n",
    "                                 StructField(\"section\", StringType(), False),\n",
    "                                StructField(\"profession\", StringType(), True),\n",
    "])\n",
    "\n",
    "df = spark.createDataFrame(list1, df_schema)\n",
    "df_2 = spark.createDataFrame(list2, df_2_schema)\n",
    "df.show()\n",
    "df_2.show()"
   ]
  },
  {
   "cell_type": "code",
   "execution_count": 0,
   "metadata": {
    "application/vnd.databricks.v1+cell": {
     "cellMetadata": {},
     "inputWidgets": {},
     "nuid": "7d7f481a-1332-4a5e-8271-3c5c98a4aff7",
     "showTitle": false,
     "title": ""
    },
    "colab": {
     "base_uri": "https://localhost:8080/"
    },
    "id": "8nk2yDvtF9pC",
    "outputId": "6ef8ed02-5be3-41a8-ccb3-6e2692a9b635"
   },
   "outputs": [],
   "source": [
    "joined_df = df.alias('LH')\\\n",
    "                .join(df_2.alias('RH'), (col('LH.sr_no') == col('RH.sr_no')) & (col('LH.section') == col('RH.section')) , 'left')\\\n",
    "                .select('LH.*','RH.profession')\n",
    "\n",
    "joined_df.show()\n",
    "joined_df.explain(True)\n"
   ]
  },
  {
   "cell_type": "markdown",
   "metadata": {
    "application/vnd.databricks.v1+cell": {
     "cellMetadata": {},
     "inputWidgets": {},
     "nuid": "a7d33caf-2855-4f22-ab4a-253051eb3e29",
     "showTitle": false,
     "title": ""
    },
    "id": "a7kuJ_EZF_4m"
   },
   "source": [
    "#broadcast join\n",
    "Note: - this is not large enough to broadcast, but for demo purpose, it has been done."
   ]
  },
  {
   "cell_type": "code",
   "execution_count": 0,
   "metadata": {
    "application/vnd.databricks.v1+cell": {
     "cellMetadata": {},
     "inputWidgets": {},
     "nuid": "17df5b54-6d86-4a13-a610-ec6e91637cef",
     "showTitle": false,
     "title": ""
    },
    "colab": {
     "base_uri": "https://localhost:8080/",
     "height": 748
    },
    "id": "4Od-nLlICdiQ",
    "outputId": "845a09b5-227c-4985-9c34-36737876a640"
   },
   "outputs": [],
   "source": [
    "large_df = df\n",
    "small_df = df_2\n",
    "\n",
    "result_df = large_df.alias(\"LH\").join(broadcast(small_df.alias(\"RH\")), (col('LH.sr_no') == col('RH.sr_no')) & (col('LH.section') == col('RH.section')), \"left\")\n",
    "result_df.show()\n",
    "\n",
    "\n",
    "result_df.explain(True)\n",
    "\n",
    "\n",
    "spark.conf.get(\"spark.sql.autoBroadcastJoinThreshold\")\n",
    "\n",
    "\n",
    "# To disable autoBroadcastJoin >> set -1\n",
    "# By default it is 10485760 i.e. 10MB\n",
    "spark.conf.set(\"spark.sql.autoBroadcastJoinThreshold\", -1)\n",
    "spark.conf.get(\"spark.sql.autoBroadcastJoinThreshold\")"
   ]
  },
  {
   "cell_type": "code",
   "execution_count": 0,
   "metadata": {
    "application/vnd.databricks.v1+cell": {
     "cellMetadata": {},
     "inputWidgets": {},
     "nuid": "0af35474-cd86-4fe7-bc91-f1a3fb99d5dc",
     "showTitle": false,
     "title": ""
    },
    "id": "uJTPX4WYCdf8"
   },
   "outputs": [],
   "source": []
  }
 ],
 "metadata": {
  "application/vnd.databricks.v1+notebook": {
   "dashboards": [],
   "environmentMetadata": null,
   "language": "python",
   "notebookMetadata": {},
   "notebookName": "11_joins",
   "widgets": {}
  },
  "colab": {
   "authorship_tag": "ABX9TyOSJXrujlTdgF0jcb1ETWA5",
   "include_colab_link": true,
   "provenance": []
  },
  "kernelspec": {
   "display_name": "Python 3",
   "name": "python3"
  },
  "language_info": {
   "name": "python"
  }
 },
 "nbformat": 4,
 "nbformat_minor": 0
}
