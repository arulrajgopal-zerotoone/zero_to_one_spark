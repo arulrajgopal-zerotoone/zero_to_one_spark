{
 "cells": [
  {
   "cell_type": "markdown",
   "metadata": {
    "application/vnd.databricks.v1+cell": {
     "cellMetadata": {},
     "inputWidgets": {},
     "nuid": "e29a731e-56db-4bb6-8afc-139338989199",
     "showTitle": false,
     "title": ""
    },
    "colab_type": "text",
    "id": "view-in-github"
   },
   "source": [
    "<a href=\"https://colab.research.google.com/github/arulrajgopal-zerotoone/zero_to_one_spark/blob/main/apache_spark/02_create_rdd_dataframe_and_conversion.ipynb\" target=\"_parent\"><img src=\"https://colab.research.google.com/assets/colab-badge.svg\" alt=\"Open In Colab\"/></a>"
   ]
  },
  {
   "cell_type": "code",
   "execution_count": 0,
   "metadata": {
    "application/vnd.databricks.v1+cell": {
     "cellMetadata": {},
     "inputWidgets": {},
     "nuid": "d7fd0c3e-f09d-4cb3-8552-550a05ad69d9",
     "showTitle": false,
     "title": ""
    },
    "colab": {
     "base_uri": "https://localhost:8080/"
    },
    "id": "3EGLF_rs9lPn",
    "outputId": "65494a65-8b88-4389-e7b1-aaa301d59382"
   },
   "outputs": [],
   "source": [
    "!pip install pyspark\n",
    "\n",
    "from pyspark.sql import SparkSession\n",
    "\n",
    "#create spark session\n",
    "spark= SparkSession.builder.appName('mysparksession').getOrCreate()\n",
    "\n",
    "#create spark context\n",
    "sc = spark.sparkContext"
   ]
  },
  {
   "cell_type": "markdown",
   "metadata": {
    "application/vnd.databricks.v1+cell": {
     "cellMetadata": {},
     "inputWidgets": {},
     "nuid": "11a81bbb-7094-4121-9b64-2bc2ecebdf20",
     "showTitle": false,
     "title": ""
    },
    "id": "ewXq_60Y-nGt"
   },
   "source": [
    "#Create a RDD"
   ]
  },
  {
   "cell_type": "code",
   "execution_count": 0,
   "metadata": {
    "application/vnd.databricks.v1+cell": {
     "cellMetadata": {},
     "inputWidgets": {},
     "nuid": "490d7e95-2fac-4815-a130-80e6a1422efe",
     "showTitle": false,
     "title": ""
    },
    "colab": {
     "base_uri": "https://localhost:8080/"
    },
    "id": "2s42tJGm92QM",
    "outputId": "c14e49f2-931f-4d95-cf0d-a8e42e34ee66"
   },
   "outputs": [],
   "source": [
    "data = [('Alice', 25), ('Bob', 30), ('Charlie', 28)]\n",
    "rdd = sc.parallelize(data)\n",
    "rdd.collect()"
   ]
  },
  {
   "cell_type": "code",
   "execution_count": 0,
   "metadata": {
    "application/vnd.databricks.v1+cell": {
     "cellMetadata": {},
     "inputWidgets": {},
     "nuid": "d11c5511-c02c-45d2-8b59-f0bc96c844d2",
     "showTitle": false,
     "title": ""
    },
    "colab": {
     "base_uri": "https://localhost:8080/"
    },
    "id": "vHDUnYwR-fnP",
    "outputId": "55f185b7-2e9e-4bb0-c4cb-d66ecf87a1e1"
   },
   "outputs": [],
   "source": [
    "print(type(rdd))"
   ]
  },
  {
   "cell_type": "markdown",
   "metadata": {
    "application/vnd.databricks.v1+cell": {
     "cellMetadata": {},
     "inputWidgets": {},
     "nuid": "7b60c9b2-5379-4217-9a44-51abb8aa04a5",
     "showTitle": false,
     "title": ""
    },
    "id": "ug1aVUx--ooT"
   },
   "source": [
    "#Create a Dataframe"
   ]
  },
  {
   "cell_type": "code",
   "execution_count": 0,
   "metadata": {
    "application/vnd.databricks.v1+cell": {
     "cellMetadata": {},
     "inputWidgets": {},
     "nuid": "0e50257d-1a6a-428d-b82f-f1b83b7250bb",
     "showTitle": false,
     "title": ""
    },
    "colab": {
     "base_uri": "https://localhost:8080/"
    },
    "id": "ffvBdAEr9kN6",
    "outputId": "1465800a-5afe-4dc7-ab6e-a7c22279655d"
   },
   "outputs": [],
   "source": [
    "#using createDataFrame\n",
    "data = [\n",
    "    (\"John\", 28, \"New York\"),\n",
    "    (\"Jane\", 24, \"San Francisco\"),\n",
    "    (\"Bob\", 22, \"Los Angeles\"),\n",
    "    (\"Alice\", 30, \"Chicago\")\n",
    "]\n",
    "\n",
    "columns = [\"Name\", \"Age\",\"City\" ]\n",
    "\n",
    "\n",
    "df = spark.createDataFrame(data, columns)\n",
    "\n",
    "\n",
    "df.show()"
   ]
  },
  {
   "cell_type": "code",
   "execution_count": 0,
   "metadata": {
    "application/vnd.databricks.v1+cell": {
     "cellMetadata": {},
     "inputWidgets": {},
     "nuid": "a320b242-0501-4aea-8ead-73256d09a784",
     "showTitle": false,
     "title": ""
    },
    "colab": {
     "base_uri": "https://localhost:8080/"
    },
    "id": "bcb09BaSa9HD",
    "outputId": "9016e2dd-630f-407c-bf39-48a205d67b39"
   },
   "outputs": [],
   "source": [
    "#using range\n",
    "df1 = spark.range(0)\n",
    "df1.show()\n"
   ]
  },
  {
   "cell_type": "code",
   "execution_count": 0,
   "metadata": {
    "application/vnd.databricks.v1+cell": {
     "cellMetadata": {},
     "inputWidgets": {},
     "nuid": "b3410822-f5c5-4c44-a520-e5fe8acaf5cb",
     "showTitle": false,
     "title": ""
    },
    "colab": {
     "base_uri": "https://localhost:8080/"
    },
    "id": "OH_wO6YebBDF",
    "outputId": "26ff5849-48a8-478a-f9f6-4541cce1701f"
   },
   "outputs": [],
   "source": [
    "#create empty df\n",
    "from pyspark.sql.types import StructType,StructField, StringType, IntegerType\n",
    "\n",
    "\n",
    "schema = StructType([\n",
    "    StructField(\"Name\", StringType(), True),\n",
    "    StructField(\"Age\", IntegerType(), True)\n",
    "])\n",
    "\n",
    "\n",
    "empty_df = spark.createDataFrame([], schema)\n",
    "\n",
    "empty_df.show()\n"
   ]
  },
  {
   "cell_type": "markdown",
   "metadata": {
    "application/vnd.databricks.v1+cell": {
     "cellMetadata": {},
     "inputWidgets": {},
     "nuid": "9bc53d2c-43f5-418a-ad35-54453f47c93a",
     "showTitle": false,
     "title": ""
    },
    "id": "CxPWztMS-s-1"
   },
   "source": [
    "#Convert df into rdd"
   ]
  },
  {
   "cell_type": "code",
   "execution_count": 0,
   "metadata": {
    "application/vnd.databricks.v1+cell": {
     "cellMetadata": {},
     "inputWidgets": {},
     "nuid": "4e605c91-1550-408b-8881-b0d7e40755b0",
     "showTitle": false,
     "title": ""
    },
    "colab": {
     "base_uri": "https://localhost:8080/"
    },
    "id": "pr_PlfDn-se_",
    "outputId": "ccbd8dde-af8b-4559-8580-4233e067b739"
   },
   "outputs": [],
   "source": [
    "coverted_rdd = df.rdd\n",
    "\n",
    "coverted_rdd.collect()"
   ]
  },
  {
   "cell_type": "code",
   "execution_count": 0,
   "metadata": {
    "application/vnd.databricks.v1+cell": {
     "cellMetadata": {},
     "inputWidgets": {},
     "nuid": "ce2bb93a-954c-4c5f-93ad-fad5d4529d80",
     "showTitle": false,
     "title": ""
    },
    "colab": {
     "base_uri": "https://localhost:8080/"
    },
    "id": "gPQ-JRVf_V_A",
    "outputId": "8458604b-4148-4f7a-edd9-484e1374e4e2"
   },
   "outputs": [],
   "source": [
    "coverted_rdd.take(2)"
   ]
  },
  {
   "cell_type": "markdown",
   "metadata": {
    "application/vnd.databricks.v1+cell": {
     "cellMetadata": {},
     "inputWidgets": {},
     "nuid": "f6b54db0-d86a-48ff-8459-9db9b9c677f6",
     "showTitle": false,
     "title": ""
    },
    "id": "IcdpTlsj_kn9"
   },
   "source": [
    "#convert rdd into df"
   ]
  },
  {
   "cell_type": "code",
   "execution_count": 0,
   "metadata": {
    "application/vnd.databricks.v1+cell": {
     "cellMetadata": {},
     "inputWidgets": {},
     "nuid": "e8aac3b6-53ed-4208-8b04-32e9ecca063e",
     "showTitle": false,
     "title": ""
    },
    "colab": {
     "base_uri": "https://localhost:8080/"
    },
    "id": "pcoG6_D2_2qQ",
    "outputId": "006c16a8-c034-4f0a-e33c-96094a55365e"
   },
   "outputs": [],
   "source": [
    "rdd.collect()"
   ]
  },
  {
   "cell_type": "code",
   "execution_count": 0,
   "metadata": {
    "application/vnd.databricks.v1+cell": {
     "cellMetadata": {},
     "inputWidgets": {},
     "nuid": "97953383-f411-4c9a-aec7-96cc304d268e",
     "showTitle": false,
     "title": ""
    },
    "colab": {
     "base_uri": "https://localhost:8080/"
    },
    "id": "tO4Rzf1v_1QS",
    "outputId": "67707183-9a56-4c5c-d0d3-857612dcb9fa"
   },
   "outputs": [],
   "source": [
    "df_from_rdd = rdd.toDF()\n",
    "df_from_rdd.show()"
   ]
  }
 ],
 "metadata": {
  "application/vnd.databricks.v1+notebook": {
   "dashboards": [],
   "environmentMetadata": null,
   "language": "python",
   "notebookMetadata": {},
   "notebookName": "02_create_rdd_dataframe_and_conversion",
   "widgets": {}
  },
  "colab": {
   "authorship_tag": "ABX9TyNm8B99ezWzJI2G17J2lWRn",
   "include_colab_link": true,
   "provenance": []
  },
  "kernelspec": {
   "display_name": "Python 3",
   "name": "python3"
  },
  "language_info": {
   "name": "python"
  }
 },
 "nbformat": 4,
 "nbformat_minor": 0
}
