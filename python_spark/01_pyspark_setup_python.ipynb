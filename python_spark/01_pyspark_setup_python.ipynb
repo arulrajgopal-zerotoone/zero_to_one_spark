{
 "cells": [
  {
   "cell_type": "markdown",
   "metadata": {
    "application/vnd.databricks.v1+cell": {
     "cellMetadata": {},
     "inputWidgets": {},
     "nuid": "e90c5ffd-2d95-4cde-a4ed-f4e096bf8512",
     "showTitle": false,
     "title": ""
    },
    "colab_type": "text",
    "id": "view-in-github"
   },
   "source": [
    "<a href=\"https://colab.research.google.com/github/arulrajgopal-zerotoone/zero_to_one_spark/blob/main/apache_spark/01_pyspark_setup_python.ipynb\" target=\"_parent\"><img src=\"https://colab.research.google.com/assets/colab-badge.svg\" alt=\"Open In Colab\"/></a>"
   ]
  },
  {
   "cell_type": "code",
   "execution_count": 0,
   "metadata": {
    "application/vnd.databricks.v1+cell": {
     "cellMetadata": {},
     "inputWidgets": {},
     "nuid": "8a16ff1b-a060-4598-a9c0-507981c99aa1",
     "showTitle": false,
     "title": ""
    },
    "colab": {
     "base_uri": "https://localhost:8080/"
    },
    "id": "SgPxsyLz61HT",
    "outputId": "1993abd6-ab16-43a0-a27e-12faeaadd5d8"
   },
   "outputs": [],
   "source": [
    "!pip install pyspark\n",
    "\n",
    "from pyspark.sql import SparkSession\n",
    "\n",
    "#create spark session\n",
    "spark= SparkSession.builder.appName('mysparksession').getOrCreate()\n",
    "\n",
    "#create spark context\n",
    "sc = spark.sparkContext"
   ]
  },
  {
   "cell_type": "code",
   "execution_count": 0,
   "metadata": {
    "application/vnd.databricks.v1+cell": {
     "cellMetadata": {},
     "inputWidgets": {},
     "nuid": "3fb8a81b-2971-40fe-aa85-c0c0ef1f5625",
     "showTitle": false,
     "title": ""
    },
    "colab": {
     "base_uri": "https://localhost:8080/"
    },
    "id": "5KA1XDEw7DRB",
    "outputId": "0b5bd6e9-35d3-437d-fe6e-b07eb3ff3e96"
   },
   "outputs": [],
   "source": [
    "#printing spark version\n",
    "\n",
    "print(spark.version)"
   ]
  }
 ],
 "metadata": {
  "application/vnd.databricks.v1+notebook": {
   "dashboards": [],
   "environmentMetadata": null,
   "language": "python",
   "notebookMetadata": {},
   "notebookName": "01_pyspark_setup_python",
   "widgets": {}
  },
  "colab": {
   "authorship_tag": "ABX9TyO1Ko94bWkO9ADmH3WhPQtY",
   "include_colab_link": true,
   "provenance": []
  },
  "kernelspec": {
   "display_name": "Python 3",
   "name": "python3"
  },
  "language_info": {
   "name": "python"
  }
 },
 "nbformat": 4,
 "nbformat_minor": 0
}
