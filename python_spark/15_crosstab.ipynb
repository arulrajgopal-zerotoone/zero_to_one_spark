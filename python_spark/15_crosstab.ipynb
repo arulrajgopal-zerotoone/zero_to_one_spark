{
 "cells": [
  {
   "cell_type": "markdown",
   "metadata": {
    "application/vnd.databricks.v1+cell": {
     "cellMetadata": {},
     "inputWidgets": {},
     "nuid": "93424505-cc8d-4873-98cb-94c42171e049",
     "showTitle": false,
     "title": ""
    },
    "colab_type": "text",
    "id": "view-in-github"
   },
   "source": [
    "<a href=\"https://colab.research.google.com/github/arulrajgopal-zerotoone/zero_to_one_spark/blob/main/apache_spark/16_crosstab.ipynb\" target=\"_parent\"><img src=\"https://colab.research.google.com/assets/colab-badge.svg\" alt=\"Open In Colab\"/></a>"
   ]
  },
  {
   "cell_type": "code",
   "execution_count": 0,
   "metadata": {
    "application/vnd.databricks.v1+cell": {
     "cellMetadata": {},
     "inputWidgets": {},
     "nuid": "51ae9f11-d21c-432c-acc8-7b7e825a9b6f",
     "showTitle": false,
     "title": ""
    },
    "colab": {
     "base_uri": "https://localhost:8080/"
    },
    "id": "xRXIAgiO5F9j",
    "outputId": "cb56a5df-f581-4f2f-9621-265cb40b8f24"
   },
   "outputs": [],
   "source": [
    "!pip install pyspark\n",
    "\n",
    "from pyspark.sql import SparkSession\n",
    "\n",
    "#create spark session\n",
    "spark= SparkSession.builder.appName('mysparksession').getOrCreate()\n",
    "\n",
    "#create spark context\n",
    "sc = spark.sparkContext"
   ]
  },
  {
   "cell_type": "code",
   "execution_count": 0,
   "metadata": {
    "application/vnd.databricks.v1+cell": {
     "cellMetadata": {},
     "inputWidgets": {},
     "nuid": "afa3b861-a123-4a56-8220-26f7afe3879c",
     "showTitle": false,
     "title": ""
    },
    "id": "7AfqH98UNSB9"
   },
   "outputs": [],
   "source": [
    "from pyspark.sql.functions import sum"
   ]
  },
  {
   "cell_type": "code",
   "execution_count": 0,
   "metadata": {
    "application/vnd.databricks.v1+cell": {
     "cellMetadata": {},
     "inputWidgets": {},
     "nuid": "e08ecc90-396c-45e7-b050-29939dfd695e",
     "showTitle": false,
     "title": ""
    },
    "id": "b3ZbuocOL_kY"
   },
   "outputs": [],
   "source": [
    "data = [(\"Alice\", \"A\", 50),\n",
    "        (\"Bob\", \"B\", 60),\n",
    "        (\"Alice\", \"B\", 70),\n",
    "        (\"Bob\", \"A\", 80),\n",
    "        (\"Charlie\", \"A\", 90),\n",
    "        (\"Alice\", \"A\", 120),\n",
    "        (\"Bob\", \"B\", 150),\n",
    "        (\"Charlie\", \"B\", 200),\n",
    "        (\"Alice\", \"B\", 80),\n",
    "        (\"Charlie\", \"A\", 110)]\n",
    "\n",
    "# Define schema\n",
    "schema = [\"Name\", \"Category\", \"Value\"]\n",
    "\n",
    "# Create a DataFrame\n",
    "df = spark.createDataFrame(data, schema=schema)"
   ]
  },
  {
   "cell_type": "code",
   "execution_count": 0,
   "metadata": {
    "application/vnd.databricks.v1+cell": {
     "cellMetadata": {},
     "inputWidgets": {},
     "nuid": "c1563d10-10be-4618-8d02-e6143cd759fd",
     "showTitle": false,
     "title": ""
    },
    "colab": {
     "base_uri": "https://localhost:8080/"
    },
    "id": "ZRK3KT52PryK",
    "outputId": "4b7a8579-a4d0-4415-bf41-9b93959468d2"
   },
   "outputs": [],
   "source": [
    "df.show()\n",
    "\n",
    "df.crosstab(\"Name\", \"Category\").show()"
   ]
  }
 ],
 "metadata": {
  "application/vnd.databricks.v1+notebook": {
   "dashboards": [],
   "environmentMetadata": null,
   "language": "python",
   "notebookMetadata": {},
   "notebookName": "15_crosstab",
   "widgets": {}
  },
  "colab": {
   "authorship_tag": "ABX9TyMYGTdn7hl+iVpq+nmF5mFx",
   "include_colab_link": true,
   "provenance": []
  },
  "kernelspec": {
   "display_name": "Python 3",
   "name": "python3"
  },
  "language_info": {
   "name": "python"
  }
 },
 "nbformat": 4,
 "nbformat_minor": 0
}
