{
 "cells": [
  {
   "cell_type": "markdown",
   "metadata": {
    "application/vnd.databricks.v1+cell": {
     "cellMetadata": {},
     "inputWidgets": {},
     "nuid": "faab582f-395f-4610-b5f9-6634e21b1d32",
     "showTitle": false,
     "title": ""
    },
    "colab_type": "text",
    "id": "view-in-github"
   },
   "source": [
    "<a href=\"https://colab.research.google.com/github/arulrajgopal-zerotoone/zero_to_one_spark/blob/main/apache_spark/14_handle_nested_schema.ipynb\" target=\"_parent\"><img src=\"https://colab.research.google.com/assets/colab-badge.svg\" alt=\"Open In Colab\"/></a>"
   ]
  },
  {
   "cell_type": "code",
   "execution_count": 0,
   "metadata": {
    "application/vnd.databricks.v1+cell": {
     "cellMetadata": {},
     "inputWidgets": {},
     "nuid": "816aa2fe-d69a-4ead-9146-b66c281edeec",
     "showTitle": false,
     "title": ""
    },
    "colab": {
     "base_uri": "https://localhost:8080/"
    },
    "id": "jDlDZKXhJd_d",
    "outputId": "be7eed07-1af1-46fe-db45-8010022a9a9c"
   },
   "outputs": [],
   "source": [
    "!pip install pyspark\n",
    "\n",
    "from pyspark.sql import SparkSession\n",
    "\n",
    "#create spark session\n",
    "spark= SparkSession.builder.appName('mysparksession').getOrCreate()\n",
    "\n",
    "#create spark context\n",
    "sc = spark.sparkContext"
   ]
  },
  {
   "cell_type": "code",
   "execution_count": 0,
   "metadata": {
    "application/vnd.databricks.v1+cell": {
     "cellMetadata": {},
     "inputWidgets": {},
     "nuid": "8d8df1a8-97e1-4dc0-9f2e-f37b67d715d5",
     "showTitle": false,
     "title": ""
    },
    "id": "xYk2TWnrJd89"
   },
   "outputs": [],
   "source": [
    "from pyspark.sql.types import StructType, StructField, IntegerType, StringType, DateType\n",
    "from pyspark.sql.functions import concat, col,lit"
   ]
  },
  {
   "cell_type": "code",
   "execution_count": 0,
   "metadata": {
    "application/vnd.databricks.v1+cell": {
     "cellMetadata": {},
     "inputWidgets": {},
     "nuid": "776c085e-5202-428c-b8e8-d43d63dfe9d4",
     "showTitle": false,
     "title": ""
    },
    "id": "WtF9ZE6XJd6S"
   },
   "outputs": [],
   "source": [
    "name_schema = StructType(fields=[StructField(\"forename\", StringType(), True),\n",
    "                                 StructField(\"surname\", StringType(), True)\n",
    "\n",
    "])\n",
    "drivers_schema = StructType(fields=[StructField(\"driverId\", IntegerType(), False),\n",
    "                                    StructField(\"driverRef\", StringType(), True),\n",
    "                                    StructField(\"number\", IntegerType(), True),\n",
    "                                    StructField(\"code\", StringType(), True),\n",
    "                                    StructField(\"name\", name_schema),\n",
    "                                    StructField(\"dob\", DateType(), True),\n",
    "                                    StructField(\"nationality\", StringType(), True),\n",
    "                                    StructField(\"url\", StringType(), True)\n",
    "\n",
    "])"
   ]
  },
  {
   "cell_type": "code",
   "execution_count": 0,
   "metadata": {
    "application/vnd.databricks.v1+cell": {
     "cellMetadata": {},
     "inputWidgets": {},
     "nuid": "a557686b-ec75-4328-9a7b-84b78eb7d199",
     "showTitle": false,
     "title": ""
    },
    "colab": {
     "base_uri": "https://localhost:8080/"
    },
    "id": "p9RwRgNcJd3n",
    "outputId": "160ac78a-f262-46ed-c344-390bb35104cf"
   },
   "outputs": [],
   "source": [
    "drivers_df = spark.read \\\n",
    "    .format(\"json\")\\\n",
    "    .schema(drivers_schema)\\\n",
    "    .load('formula1_drivers.json')\n",
    "\n",
    "\n",
    "drivers_df.show()"
   ]
  },
  {
   "cell_type": "code",
   "execution_count": 0,
   "metadata": {
    "application/vnd.databricks.v1+cell": {
     "cellMetadata": {},
     "inputWidgets": {},
     "nuid": "02fd822d-b56c-4fba-bd3c-331cce6a2222",
     "showTitle": false,
     "title": ""
    },
    "colab": {
     "base_uri": "https://localhost:8080/"
    },
    "id": "IFCNSrfsK5O9",
    "outputId": "e14f47c2-ae64-4bb3-8e32-6893055e708d"
   },
   "outputs": [],
   "source": [
    "nest_removed_df = drivers_df.withColumn(\"name\", concat(col(\"name.forename\"), lit(\" \"), col(\"name.surname\")))\n",
    "nest_removed_df.show()"
   ]
  }
 ],
 "metadata": {
  "application/vnd.databricks.v1+notebook": {
   "dashboards": [],
   "environmentMetadata": null,
   "language": "python",
   "notebookMetadata": {},
   "notebookName": "13_handle_nested_schema",
   "widgets": {}
  },
  "colab": {
   "authorship_tag": "ABX9TyO7zZfgt85/aeFRo5kP7djI",
   "include_colab_link": true,
   "provenance": []
  },
  "kernelspec": {
   "display_name": "Python 3",
   "name": "python3"
  },
  "language_info": {
   "name": "python"
  }
 },
 "nbformat": 4,
 "nbformat_minor": 0
}
