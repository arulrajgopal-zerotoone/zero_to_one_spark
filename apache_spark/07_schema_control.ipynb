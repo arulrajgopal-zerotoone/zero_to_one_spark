{
 "cells": [
  {
   "cell_type": "markdown",
   "metadata": {
    "application/vnd.databricks.v1+cell": {
     "cellMetadata": {},
     "inputWidgets": {},
     "nuid": "a13fbb1f-1b2b-4f96-b0ab-68261ba20399",
     "showTitle": false,
     "title": ""
    },
    "colab_type": "text",
    "id": "view-in-github"
   },
   "source": [
    "<a href=\"https://colab.research.google.com/github/ArulrajGopal/Spark-Guide/blob/main/GogCol/07_schema_control.ipynb\" target=\"_parent\"><img src=\"https://colab.research.google.com/assets/colab-badge.svg\" alt=\"Open In Colab\"/></a>"
   ]
  },
  {
   "cell_type": "code",
   "execution_count": 0,
   "metadata": {
    "application/vnd.databricks.v1+cell": {
     "cellMetadata": {},
     "inputWidgets": {},
     "nuid": "4b57a6cc-ccd4-4bd1-831b-5483d510fa0c",
     "showTitle": false,
     "title": ""
    },
    "colab": {
     "base_uri": "https://localhost:8080/"
    },
    "id": "1h0a2D3UWdzf",
    "outputId": "06234408-f282-4f76-9a95-b010e289796c"
   },
   "outputs": [],
   "source": [
    "!pip install pyspark\n",
    "\n",
    "from pyspark.sql import SparkSession\n",
    "\n",
    "#create spark session\n",
    "spark= SparkSession.builder.appName('mysparksession').getOrCreate()\n",
    "\n",
    "#create spark context\n",
    "sc = spark.sparkContext"
   ]
  },
  {
   "cell_type": "code",
   "execution_count": 0,
   "metadata": {
    "application/vnd.databricks.v1+cell": {
     "cellMetadata": {},
     "inputWidgets": {},
     "nuid": "3f1ef6a6-359a-4280-a66d-53e373238b00",
     "showTitle": false,
     "title": ""
    },
    "colab": {
     "base_uri": "https://localhost:8080/"
    },
    "id": "0-EnCGPtAFe3",
    "outputId": "e32034d2-70d6-42dd-ecd6-5da98ca5441a"
   },
   "outputs": [],
   "source": [
    "!ls"
   ]
  },
  {
   "cell_type": "code",
   "execution_count": 0,
   "metadata": {
    "application/vnd.databricks.v1+cell": {
     "cellMetadata": {},
     "inputWidgets": {},
     "nuid": "21543520-36f7-4237-9f83-8a708e2507d9",
     "showTitle": false,
     "title": ""
    },
    "id": "GdJ8bKrF__oZ"
   },
   "outputs": [],
   "source": [
    "circuits_df = spark.read\\\n",
    "    .format(\"csv\")\\\n",
    "    .option('Header',True)\\\n",
    "    .option('InferSchema',True)\\\n",
    "    .load('circuits.csv')"
   ]
  },
  {
   "cell_type": "code",
   "execution_count": 0,
   "metadata": {
    "application/vnd.databricks.v1+cell": {
     "cellMetadata": {},
     "inputWidgets": {},
     "nuid": "29e4eed5-ce06-4ea9-b3a6-0c2905ba4c39",
     "showTitle": false,
     "title": ""
    },
    "colab": {
     "base_uri": "https://localhost:8080/"
    },
    "id": "gd944z21BYNg",
    "outputId": "3358bb17-e908-4584-b5de-45db47d8e74a"
   },
   "outputs": [],
   "source": [
    "circuits_df.printSchema()"
   ]
  },
  {
   "cell_type": "code",
   "execution_count": 0,
   "metadata": {
    "application/vnd.databricks.v1+cell": {
     "cellMetadata": {},
     "inputWidgets": {},
     "nuid": "957116cb-62e9-4d9e-a9b7-2022cee64ac5",
     "showTitle": false,
     "title": ""
    },
    "id": "Epp5QtVMKd-8"
   },
   "outputs": [],
   "source": [
    "circuits_df = spark.read\\\n",
    "    .format(\"csv\")\\\n",
    "    .option('Header',True)\\\n",
    "    .load('circuits.csv')"
   ]
  },
  {
   "cell_type": "code",
   "execution_count": 0,
   "metadata": {
    "application/vnd.databricks.v1+cell": {
     "cellMetadata": {},
     "inputWidgets": {},
     "nuid": "4299838a-885c-4738-b38b-b71bb622063a",
     "showTitle": false,
     "title": ""
    },
    "colab": {
     "base_uri": "https://localhost:8080/"
    },
    "id": "50qsivMTLp4n",
    "outputId": "a20cd587-01c6-4862-b7a5-2ccdfec294ae"
   },
   "outputs": [],
   "source": [
    "circuits_df.printSchema()"
   ]
  },
  {
   "cell_type": "code",
   "execution_count": 0,
   "metadata": {
    "application/vnd.databricks.v1+cell": {
     "cellMetadata": {},
     "inputWidgets": {},
     "nuid": "3f53a914-4684-4af0-ba20-597ab898e0ab",
     "showTitle": false,
     "title": ""
    },
    "id": "iE75ChuCARa_"
   },
   "outputs": [],
   "source": [
    "schema = {\n",
    "'circuitId': 'INT',\n",
    " 'circuitRef':'STRING',\n",
    " 'name':'STRING',\n",
    " 'location':'STRING',\n",
    " 'country':'STRING',\n",
    " 'lat':'Double',\n",
    " 'lng':'Double',\n",
    " 'alt':'int',\n",
    " 'url':'STRING'\n",
    "}\n",
    "\n",
    "column_list = []\n",
    "for column, datatype in schema.items():\n",
    "    column_list.append(f\"cast({column} as {datatype}) {column}\")\n",
    "    data_type_converted_df = circuits_df.selectExpr(column_list)"
   ]
  },
  {
   "cell_type": "code",
   "execution_count": 0,
   "metadata": {
    "application/vnd.databricks.v1+cell": {
     "cellMetadata": {},
     "inputWidgets": {},
     "nuid": "203ce754-1d6a-486d-9879-5a0a7a634cfc",
     "showTitle": false,
     "title": ""
    },
    "colab": {
     "base_uri": "https://localhost:8080/"
    },
    "id": "chot23oWKfx9",
    "outputId": "d8ca5236-2c0d-48b2-b607-fecd26757fcf"
   },
   "outputs": [],
   "source": [
    "\n",
    "data_type_converted_df.printSchema()"
   ]
  },
  {
   "cell_type": "code",
   "execution_count": 0,
   "metadata": {
    "application/vnd.databricks.v1+cell": {
     "cellMetadata": {},
     "inputWidgets": {},
     "nuid": "be497837-6292-4527-94fd-1feff828553d",
     "showTitle": false,
     "title": ""
    },
    "id": "e7NRh47wUnp6"
   },
   "outputs": [],
   "source": [
    "from pyspark.sql.types import StructType,StructField, StringType, IntegerType\n",
    "from pyspark.sql.functions import *"
   ]
  },
  {
   "cell_type": "code",
   "execution_count": 0,
   "metadata": {
    "application/vnd.databricks.v1+cell": {
     "cellMetadata": {},
     "inputWidgets": {},
     "nuid": "bf677221-c258-4c8a-88e7-d8fd3b3169ca",
     "showTitle": false,
     "title": ""
    },
    "colab": {
     "base_uri": "https://localhost:8080/"
    },
    "id": "-DSJgtzYUnV1",
    "outputId": "f312be2f-852c-4cd3-fc3d-ed1fd0176d09"
   },
   "outputs": [],
   "source": [
    "dataDF = [('james','1991-04-01','M',3000),\n",
    "  ('Michel','2000-05-19','M',4000),\n",
    "  ('Robert','1978-09-05','M',4000),\n",
    "  ('Maria','1967-12-01','F',4000),\n",
    "  ('Jen','1980-02-17','F',-1)\n",
    "]\n",
    "\n",
    "\n",
    "schema = StructType([StructField('name', StringType(), True),\n",
    "         StructField('dob', StringType(), True),\n",
    "         StructField('gender', StringType(), True),\n",
    "         StructField('salary', IntegerType(), True)\n",
    "         ])\n",
    "\n",
    "\n",
    "df = spark.createDataFrame(dataDF, schema)\n",
    "df.printSchema()\n",
    "df.show(truncate=False)"
   ]
  },
  {
   "cell_type": "code",
   "execution_count": 0,
   "metadata": {
    "application/vnd.databricks.v1+cell": {
     "cellMetadata": {},
     "inputWidgets": {},
     "nuid": "9d194b45-9d22-4650-b7eb-228d6809818f",
     "showTitle": false,
     "title": ""
    },
    "colab": {
     "base_uri": "https://localhost:8080/"
    },
    "id": "56dv8sWMcSAj",
    "outputId": "8924ed43-03bc-4c6c-d200-1e9eca54f0fc"
   },
   "outputs": [],
   "source": [
    "dataDF = [(('James','','Smith'),'1991-04-01','M',3000),\n",
    "  (('Michael','Rose',''),'2000-05-19','M',4000),\n",
    "  (('Robert','','Williams'),'1978-09-05','M',4000),\n",
    "  (('Maria','Anne','Jones'),'1967-12-01','F',4000),\n",
    "  (('Jen','Mary','Brown'),'1980-02-17','F',-1)\n",
    "]\n",
    "\n",
    "structureSchema = StructType([\n",
    "        StructField('name', StructType([\n",
    "             StructField('firstname', StringType(), True),\n",
    "             StructField('middlename', StringType(), True),\n",
    "             StructField('lastname', StringType(), True)\n",
    "             ])),\n",
    "         StructField('id', StringType(), True),\n",
    "         StructField('gender', StringType(), True),\n",
    "         StructField('salary', IntegerType(), True)\n",
    "         ])\n",
    "\n",
    "df2 = spark.createDataFrame(dataDF,structureSchema)\n",
    "df2.printSchema()\n",
    "df2.show(truncate=False)"
   ]
  },
  {
   "cell_type": "code",
   "execution_count": 0,
   "metadata": {
    "application/vnd.databricks.v1+cell": {
     "cellMetadata": {},
     "inputWidgets": {},
     "nuid": "3933b037-3715-4af1-9c6d-3e68660af489",
     "showTitle": false,
     "title": ""
    },
    "id": "cA_GVXthdL3s"
   },
   "outputs": [],
   "source": []
  }
 ],
 "metadata": {
  "application/vnd.databricks.v1+notebook": {
   "dashboards": [],
   "environmentMetadata": null,
   "language": "python",
   "notebookMetadata": {},
   "notebookName": "07_schema_control",
   "widgets": {}
  },
  "colab": {
   "authorship_tag": "ABX9TyOkiiQWGwhpuUxyVV4BvNnp",
   "include_colab_link": true,
   "mount_file_id": "18-poI3ZmLoG-obz8rWMPZ2BBz69SzE-g",
   "provenance": []
  },
  "kernelspec": {
   "display_name": "Python 3",
   "name": "python3"
  },
  "language_info": {
   "name": "python"
  }
 },
 "nbformat": 4,
 "nbformat_minor": 0
}
