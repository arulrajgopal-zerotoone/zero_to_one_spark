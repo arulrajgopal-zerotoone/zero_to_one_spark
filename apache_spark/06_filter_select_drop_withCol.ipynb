{
  "cells": [
    {
      "cell_type": "markdown",
      "metadata": {
        "id": "view-in-github",
        "colab_type": "text"
      },
      "source": [
        "<a href=\"https://colab.research.google.com/github/arulrajgopal-zerotoone/zero_to_one_spark/blob/main/apache_spark/06_filter_select_drop_withCol.ipynb\" target=\"_parent\"><img src=\"https://colab.research.google.com/assets/colab-badge.svg\" alt=\"Open In Colab\"/></a>"
      ]
    },
    {
      "cell_type": "code",
      "execution_count": 1,
      "metadata": {
        "application/vnd.databricks.v1+cell": {
          "cellMetadata": {},
          "inputWidgets": {},
          "nuid": "326c7070-2565-4db2-87d8-37a21c1fde08",
          "showTitle": false,
          "title": ""
        },
        "colab": {
          "base_uri": "https://localhost:8080/"
        },
        "id": "v4xrHnuULiq3",
        "outputId": "97f31b73-ecc1-4e0c-c434-615e39851aa7"
      },
      "outputs": [
        {
          "output_type": "stream",
          "name": "stdout",
          "text": [
            "Collecting pyspark\n",
            "  Downloading pyspark-3.5.3.tar.gz (317.3 MB)\n",
            "\u001b[2K     \u001b[90m━━━━━━━━━━━━━━━━━━━━━━━━━━━━━━━━━━━━━━━━\u001b[0m \u001b[32m317.3/317.3 MB\u001b[0m \u001b[31m4.2 MB/s\u001b[0m eta \u001b[36m0:00:00\u001b[0m\n",
            "\u001b[?25h  Preparing metadata (setup.py) ... \u001b[?25l\u001b[?25hdone\n",
            "Requirement already satisfied: py4j==0.10.9.7 in /usr/local/lib/python3.10/dist-packages (from pyspark) (0.10.9.7)\n",
            "Building wheels for collected packages: pyspark\n",
            "  Building wheel for pyspark (setup.py) ... \u001b[?25l\u001b[?25hdone\n",
            "  Created wheel for pyspark: filename=pyspark-3.5.3-py2.py3-none-any.whl size=317840625 sha256=7f0e69838ff6f9e93c1f05e0a66fc8ff2b214a3a5c1a14feeaeb651fe77ac625\n",
            "  Stored in directory: /root/.cache/pip/wheels/1b/3a/92/28b93e2fbfdbb07509ca4d6f50c5e407f48dce4ddbda69a4ab\n",
            "Successfully built pyspark\n",
            "Installing collected packages: pyspark\n",
            "Successfully installed pyspark-3.5.3\n"
          ]
        }
      ],
      "source": [
        "!pip install pyspark\n",
        "\n",
        "from pyspark.sql import SparkSession\n",
        "\n",
        "#create spark session\n",
        "spark= SparkSession.builder.appName('mysparksession').getOrCreate()\n",
        "\n",
        "#create spark context\n",
        "sc = spark.sparkContext"
      ]
    },
    {
      "cell_type": "code",
      "execution_count": 2,
      "metadata": {
        "application/vnd.databricks.v1+cell": {
          "cellMetadata": {},
          "inputWidgets": {},
          "nuid": "da1f07fb-6579-44f3-a382-e9f3096d77b3",
          "showTitle": false,
          "title": ""
        },
        "colab": {
          "base_uri": "https://localhost:8080/"
        },
        "id": "iecLSZcACvo5",
        "outputId": "d9d25475-fd0f-4bd6-9e54-d4b3e241c6da"
      },
      "outputs": [
        {
          "output_type": "stream",
          "name": "stdout",
          "text": [
            "+-----+---+-------------+\n",
            "| Name|Age|         City|\n",
            "+-----+---+-------------+\n",
            "| John| 28|     New York|\n",
            "| Jane| 24|San Francisco|\n",
            "|  Bob| 22|  Los Angeles|\n",
            "|Alice| 30|      Chicago|\n",
            "| Jane| 24|San Francisco|\n",
            "|Alice| 70|        Tokyo|\n",
            "|Vievk| 34|         NULL|\n",
            "+-----+---+-------------+\n",
            "\n"
          ]
        }
      ],
      "source": [
        "data = [\n",
        "    (\"John\", 28, \"New York\"),\n",
        "    (\"Jane\", 24, \"San Francisco\"),\n",
        "    (\"Bob\", 22, \"Los Angeles\"),\n",
        "    (\"Alice\", 30, \"Chicago\"),\n",
        "    (\"Jane\", 24, \"San Francisco\"),\n",
        "    (\"Alice\", 70, \"Tokyo\"),\n",
        "    (\"Vievk\",34, None)\n",
        "]\n",
        "\n",
        "columns = [\"Name\", \"Age\",\"City\" ]\n",
        "\n",
        "\n",
        "df = spark.createDataFrame(data, columns)\n",
        "\n",
        "\n",
        "df.show()"
      ]
    },
    {
      "cell_type": "code",
      "execution_count": 3,
      "metadata": {
        "application/vnd.databricks.v1+cell": {
          "cellMetadata": {},
          "inputWidgets": {},
          "nuid": "b9ce6ee8-0ebb-4324-83d8-5fc1e22f8a71",
          "showTitle": false,
          "title": ""
        },
        "id": "BSPt9H7nx2gZ"
      },
      "outputs": [],
      "source": [
        "from pyspark.sql.functions import col, max"
      ]
    },
    {
      "cell_type": "code",
      "execution_count": 22,
      "metadata": {
        "application/vnd.databricks.v1+cell": {
          "cellMetadata": {},
          "inputWidgets": {},
          "nuid": "a952e9f0-5c69-4d43-afaf-96b8fecd6bb6",
          "showTitle": false,
          "title": ""
        },
        "colab": {
          "base_uri": "https://localhost:8080/"
        },
        "id": "3SBfSPRAxyVL",
        "outputId": "271fcfe4-34a1-4291-96bd-0732fb54cc66"
      },
      "outputs": [
        {
          "output_type": "stream",
          "name": "stdout",
          "text": [
            "+-----+---+--------+\n",
            "| Name|Age|    City|\n",
            "+-----+---+--------+\n",
            "| John| 28|New York|\n",
            "|Alice| 30| Chicago|\n",
            "|Alice| 70|   Tokyo|\n",
            "|Vievk| 34|    NULL|\n",
            "+-----+---+--------+\n",
            "\n"
          ]
        }
      ],
      "source": [
        "df.filter(col(\"Age\") > 25).show()"
      ]
    },
    {
      "cell_type": "code",
      "execution_count": 21,
      "metadata": {
        "application/vnd.databricks.v1+cell": {
          "cellMetadata": {},
          "inputWidgets": {},
          "nuid": "7a6fe608-c06a-45fa-b7ac-498aeef5a474",
          "showTitle": false,
          "title": ""
        },
        "colab": {
          "base_uri": "https://localhost:8080/"
        },
        "id": "3RMK4ltCyBXp",
        "outputId": "566a6f81-90c8-4997-ebe6-db2cfde21def"
      },
      "outputs": [
        {
          "output_type": "stream",
          "name": "stdout",
          "text": [
            "+-----+---+\n",
            "| Name|Age|\n",
            "+-----+---+\n",
            "| John| 28|\n",
            "| Jane| 24|\n",
            "|  Bob| 22|\n",
            "|Alice| 30|\n",
            "| Jane| 24|\n",
            "|Alice| 70|\n",
            "|Vievk| 34|\n",
            "+-----+---+\n",
            "\n"
          ]
        }
      ],
      "source": [
        "df.select(\"Name\",\"Age\").show()"
      ]
    },
    {
      "cell_type": "code",
      "execution_count": 20,
      "metadata": {
        "application/vnd.databricks.v1+cell": {
          "cellMetadata": {},
          "inputWidgets": {},
          "nuid": "b491cf3a-12c7-4498-9c23-5d37e3e7a37d",
          "showTitle": false,
          "title": ""
        },
        "colab": {
          "base_uri": "https://localhost:8080/"
        },
        "id": "onGsShZpz_oz",
        "outputId": "63679bd5-ebec-456a-df94-efe27be2c021"
      },
      "outputs": [
        {
          "output_type": "stream",
          "name": "stdout",
          "text": [
            "+-----+-------------+\n",
            "| Name|         City|\n",
            "+-----+-------------+\n",
            "| John|     New York|\n",
            "| Jane|San Francisco|\n",
            "|  Bob|  Los Angeles|\n",
            "|Alice|      Chicago|\n",
            "| Jane|San Francisco|\n",
            "|Alice|        Tokyo|\n",
            "|Vievk|         NULL|\n",
            "+-----+-------------+\n",
            "\n"
          ]
        }
      ],
      "source": [
        "df.drop(\"Age\").show()"
      ]
    },
    {
      "cell_type": "code",
      "source": [
        "df.withColumn(\"Age\", col(\"Age\") + 1).show()"
      ],
      "metadata": {
        "id": "X2q0h2TEQzTK",
        "outputId": "20c3887d-15a3-4d3b-bb0d-1ba0535817db",
        "colab": {
          "base_uri": "https://localhost:8080/"
        }
      },
      "execution_count": 23,
      "outputs": [
        {
          "output_type": "stream",
          "name": "stdout",
          "text": [
            "+-----+---+-------------+\n",
            "| Name|Age|         City|\n",
            "+-----+---+-------------+\n",
            "| John| 29|     New York|\n",
            "| Jane| 25|San Francisco|\n",
            "|  Bob| 23|  Los Angeles|\n",
            "|Alice| 31|      Chicago|\n",
            "| Jane| 25|San Francisco|\n",
            "|Alice| 71|        Tokyo|\n",
            "|Vievk| 35|         NULL|\n",
            "+-----+---+-------------+\n",
            "\n"
          ]
        }
      ]
    },
    {
      "cell_type": "code",
      "source": [
        "df.withColumnRenamed(\"Name\", \"Full Name\").show()"
      ],
      "metadata": {
        "id": "qcSDk1fqQ7xJ",
        "outputId": "4c3b757e-6174-4b94-b8fa-b33c58ec15d4",
        "colab": {
          "base_uri": "https://localhost:8080/"
        }
      },
      "execution_count": 24,
      "outputs": [
        {
          "output_type": "stream",
          "name": "stdout",
          "text": [
            "+---------+---+-------------+\n",
            "|Full Name|Age|         City|\n",
            "+---------+---+-------------+\n",
            "|     John| 28|     New York|\n",
            "|     Jane| 24|San Francisco|\n",
            "|      Bob| 22|  Los Angeles|\n",
            "|    Alice| 30|      Chicago|\n",
            "|     Jane| 24|San Francisco|\n",
            "|    Alice| 70|        Tokyo|\n",
            "|    Vievk| 34|         NULL|\n",
            "+---------+---+-------------+\n",
            "\n"
          ]
        }
      ]
    },
    {
      "cell_type": "code",
      "source": [],
      "metadata": {
        "id": "zdrxYR5QQ94F"
      },
      "execution_count": null,
      "outputs": []
    }
  ],
  "metadata": {
    "application/vnd.databricks.v1+notebook": {
      "dashboards": [],
      "environmentMetadata": null,
      "language": "python",
      "notebookMetadata": {},
      "notebookName": "08_filter_select_drop_withCol",
      "widgets": {}
    },
    "colab": {
      "provenance": [],
      "authorship_tag": "ABX9TyNaG9m6cV+ec74d539RL6Mh",
      "include_colab_link": true
    },
    "kernelspec": {
      "display_name": "Python 3",
      "name": "python3"
    },
    "language_info": {
      "name": "python"
    }
  },
  "nbformat": 4,
  "nbformat_minor": 0
}