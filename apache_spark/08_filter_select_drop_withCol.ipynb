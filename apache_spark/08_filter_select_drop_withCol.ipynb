{
 "cells": [
  {
   "cell_type": "markdown",
   "metadata": {
    "application/vnd.databricks.v1+cell": {
     "cellMetadata": {},
     "inputWidgets": {},
     "nuid": "fb91f5f8-07e9-4a53-ad9d-a0706087bb9c",
     "showTitle": false,
     "title": ""
    },
    "colab_type": "text",
    "id": "view-in-github"
   },
   "source": [
    "<a href=\"https://colab.research.google.com/github/ArulrajGopal/Spark-Guide/blob/main/GogCol/08_filter_select_drop_dropdup_dropna.ipynb\" target=\"_parent\"><img src=\"https://colab.research.google.com/assets/colab-badge.svg\" alt=\"Open In Colab\"/></a>"
   ]
  },
  {
   "cell_type": "code",
   "execution_count": 0,
   "metadata": {
    "application/vnd.databricks.v1+cell": {
     "cellMetadata": {},
     "inputWidgets": {},
     "nuid": "326c7070-2565-4db2-87d8-37a21c1fde08",
     "showTitle": false,
     "title": ""
    },
    "colab": {
     "base_uri": "https://localhost:8080/"
    },
    "id": "v4xrHnuULiq3",
    "outputId": "35de27e1-d553-4c5a-eaf1-d190d120f29e"
   },
   "outputs": [],
   "source": [
    "!pip install pyspark\n",
    "\n",
    "from pyspark.sql import SparkSession\n",
    "\n",
    "#create spark session\n",
    "spark= SparkSession.builder.appName('mysparksession').getOrCreate()\n",
    "\n",
    "#create spark context\n",
    "sc = spark.sparkContext"
   ]
  },
  {
   "cell_type": "code",
   "execution_count": 0,
   "metadata": {
    "application/vnd.databricks.v1+cell": {
     "cellMetadata": {},
     "inputWidgets": {},
     "nuid": "da1f07fb-6579-44f3-a382-e9f3096d77b3",
     "showTitle": false,
     "title": ""
    },
    "colab": {
     "base_uri": "https://localhost:8080/"
    },
    "id": "iecLSZcACvo5",
    "outputId": "5ba35b4f-3e6f-4edb-cdf7-9893bb2fc28d"
   },
   "outputs": [],
   "source": [
    "data = [\n",
    "    (\"John\", 28, \"New York\"),\n",
    "    (\"Jane\", 24, \"San Francisco\"),\n",
    "    (\"Bob\", 22, \"Los Angeles\"),\n",
    "    (\"Alice\", 30, \"Chicago\"),\n",
    "    (\"Jane\", 24, \"San Francisco\"),\n",
    "    (\"Alice\", 70, \"Tokyo\"),\n",
    "    (\"Vievk\",34, None)\n",
    "]\n",
    "\n",
    "columns = [\"Name\", \"Age\",\"City\" ]\n",
    "\n",
    "\n",
    "df = spark.createDataFrame(data, columns)\n",
    "\n",
    "\n",
    "df.show()"
   ]
  },
  {
   "cell_type": "code",
   "execution_count": 0,
   "metadata": {
    "application/vnd.databricks.v1+cell": {
     "cellMetadata": {},
     "inputWidgets": {},
     "nuid": "b9ce6ee8-0ebb-4324-83d8-5fc1e22f8a71",
     "showTitle": false,
     "title": ""
    },
    "id": "BSPt9H7nx2gZ"
   },
   "outputs": [],
   "source": [
    "from pyspark.sql.functions import col, max"
   ]
  },
  {
   "cell_type": "code",
   "execution_count": 0,
   "metadata": {
    "application/vnd.databricks.v1+cell": {
     "cellMetadata": {},
     "inputWidgets": {},
     "nuid": "a952e9f0-5c69-4d43-afaf-96b8fecd6bb6",
     "showTitle": false,
     "title": ""
    },
    "colab": {
     "base_uri": "https://localhost:8080/"
    },
    "id": "3SBfSPRAxyVL",
    "outputId": "a00900e6-184b-4435-c570-741ea4a1ae87"
   },
   "outputs": [],
   "source": [
    "df1 = df.filter(col(\"Age\") > 25)\n",
    "df1.show()"
   ]
  },
  {
   "cell_type": "code",
   "execution_count": 0,
   "metadata": {
    "application/vnd.databricks.v1+cell": {
     "cellMetadata": {},
     "inputWidgets": {},
     "nuid": "7a6fe608-c06a-45fa-b7ac-498aeef5a474",
     "showTitle": false,
     "title": ""
    },
    "colab": {
     "base_uri": "https://localhost:8080/"
    },
    "id": "3RMK4ltCyBXp",
    "outputId": "cb96dcca-88ed-4191-80cd-6fc6c6eb58d6"
   },
   "outputs": [],
   "source": [
    "df2 = df.select(\"Name\",\"Age\")\n",
    "df2.show()"
   ]
  },
  {
   "cell_type": "code",
   "execution_count": 0,
   "metadata": {
    "application/vnd.databricks.v1+cell": {
     "cellMetadata": {},
     "inputWidgets": {},
     "nuid": "b491cf3a-12c7-4498-9c23-5d37e3e7a37d",
     "showTitle": false,
     "title": ""
    },
    "colab": {
     "base_uri": "https://localhost:8080/"
    },
    "id": "onGsShZpz_oz",
    "outputId": "afb982c4-c661-4aa5-a8a2-7e127307ad39"
   },
   "outputs": [],
   "source": [
    "df3 = df.drop(\"Age\")\n",
    "df3.show()"
   ]
  },
  {
   "cell_type": "code",
   "execution_count": 0,
   "metadata": {
    "application/vnd.databricks.v1+cell": {
     "cellMetadata": {},
     "inputWidgets": {},
     "nuid": "5580eb93-d137-4394-9a4f-7a74d5698c27",
     "showTitle": false,
     "title": ""
    },
    "colab": {
     "base_uri": "https://localhost:8080/"
    },
    "id": "ADuOBWzsJFd_",
    "outputId": "2e310260-cfdf-41b3-9dd1-2fdd65073bbf"
   },
   "outputs": [],
   "source": [
    "df.show()"
   ]
  },
  {
   "cell_type": "code",
   "execution_count": 0,
   "metadata": {
    "application/vnd.databricks.v1+cell": {
     "cellMetadata": {},
     "inputWidgets": {},
     "nuid": "8f74efb1-97ab-4803-918f-cbbd6f8ec55f",
     "showTitle": false,
     "title": ""
    },
    "colab": {
     "base_uri": "https://localhost:8080/"
    },
    "id": "hgA1EVje0NO-",
    "outputId": "b8ab38cf-55c3-4a1a-f552-027846a2bb23"
   },
   "outputs": [],
   "source": [
    "df4 = df.dropDuplicates()\n",
    "df5 = df.dropDuplicates([\"Name\"])\n",
    "df4.show()\n",
    "df5.show()"
   ]
  },
  {
   "cell_type": "code",
   "execution_count": 0,
   "metadata": {
    "application/vnd.databricks.v1+cell": {
     "cellMetadata": {},
     "inputWidgets": {},
     "nuid": "1115889f-f43e-4ac8-8770-71f20beb6764",
     "showTitle": false,
     "title": ""
    },
    "id": "u9aQhPbT1OUq"
   },
   "outputs": [],
   "source": [
    "df6 = df.dropna()"
   ]
  },
  {
   "cell_type": "code",
   "execution_count": 0,
   "metadata": {
    "application/vnd.databricks.v1+cell": {
     "cellMetadata": {},
     "inputWidgets": {},
     "nuid": "6588f3ab-ea18-4650-8081-0d68f9dad65c",
     "showTitle": false,
     "title": ""
    },
    "colab": {
     "base_uri": "https://localhost:8080/"
    },
    "id": "CpkVIKzI1dOf",
    "outputId": "6bf604bb-8137-42da-e60f-922bae081f76"
   },
   "outputs": [],
   "source": [
    "df6.count()"
   ]
  },
  {
   "cell_type": "code",
   "execution_count": 0,
   "metadata": {
    "application/vnd.databricks.v1+cell": {
     "cellMetadata": {},
     "inputWidgets": {},
     "nuid": "387b749c-b389-4c0c-97ff-61885c40969b",
     "showTitle": false,
     "title": ""
    },
    "colab": {
     "base_uri": "https://localhost:8080/"
    },
    "id": "mROKZsuTLa9F",
    "outputId": "7e56c815-dd43-48ba-9e8a-e51768ff4479"
   },
   "outputs": [],
   "source": [
    "df5.show()"
   ]
  },
  {
   "cell_type": "code",
   "execution_count": 0,
   "metadata": {
    "application/vnd.databricks.v1+cell": {
     "cellMetadata": {},
     "inputWidgets": {},
     "nuid": "2543dbf8-c5bf-478e-bf57-7c6c958456c2",
     "showTitle": false,
     "title": ""
    },
    "id": "MUrxQcH6MJzY"
   },
   "outputs": [],
   "source": [
    "#1\n",
    "final_df = df5.dropna().filter(col(\"age\")>24)"
   ]
  },
  {
   "cell_type": "code",
   "execution_count": 0,
   "metadata": {
    "application/vnd.databricks.v1+cell": {
     "cellMetadata": {},
     "inputWidgets": {},
     "nuid": "ee3151d4-6fc2-4942-8d75-d31de857f89f",
     "showTitle": false,
     "title": ""
    },
    "colab": {
     "base_uri": "https://localhost:8080/"
    },
    "id": "rLJ7jI_wMu4c",
    "outputId": "cca73a48-a0bc-46f5-cb1c-d500212dbf89"
   },
   "outputs": [],
   "source": [
    "final_df.show()"
   ]
  },
  {
   "cell_type": "code",
   "execution_count": 0,
   "metadata": {
    "application/vnd.databricks.v1+cell": {
     "cellMetadata": {},
     "inputWidgets": {},
     "nuid": "63a76aaf-a8b6-42e5-9568-b25b0aef4ab3",
     "showTitle": false,
     "title": ""
    },
    "id": "pRz3VJ4-dl5L"
   },
   "outputs": [],
   "source": [
    "dataDF = [(('James','','Smith'),'1991-04-01','M',3000),\n",
    "  (('Michael','Rose',''),'2000-05-19','M',4000),\n",
    "  (('Robert','','Williams'),'1978-09-05','M',4000),\n",
    "  (('Maria','Anne','Jones'),'1967-12-01','F',4000),\n",
    "  (('Jen','Mary','Brown'),'1980-02-17','F',-1)\n",
    "]\n",
    "\n",
    "structureSchema = StructType([\n",
    "        StructField('name', StructType([\n",
    "             StructField('firstname', StringType(), True),\n",
    "             StructField('middlename', StringType(), True),\n",
    "             StructField('lastname', StringType(), True)\n",
    "             ])),\n",
    "         StructField('id', StringType(), True),\n",
    "         StructField('gender', StringType(), True),\n",
    "         StructField('salary', IntegerType(), True)\n",
    "         ])\n",
    "\n",
    "df2 = spark.createDataFrame(dataDF,structureSchema)\n",
    "df2.printSchema()\n",
    "df2.show(truncate=False)"
   ]
  },
  {
   "cell_type": "code",
   "execution_count": 0,
   "metadata": {
    "application/vnd.databricks.v1+cell": {
     "cellMetadata": {},
     "inputWidgets": {},
     "nuid": "46df84b0-6b0e-4a9d-b252-3730c16eec7f",
     "showTitle": false,
     "title": ""
    },
    "id": "yLsYx3FAdol1"
   },
   "outputs": [],
   "source": [
    "df.withColumnRenamed(\"dob\",\"DateOfBirth\").show()"
   ]
  },
  {
   "cell_type": "code",
   "execution_count": 0,
   "metadata": {
    "application/vnd.databricks.v1+cell": {
     "cellMetadata": {},
     "inputWidgets": {},
     "nuid": "d868b028-d479-4b61-94fb-43a3d04e78f0",
     "showTitle": false,
     "title": ""
    },
    "id": "qr6bjFg-dqlf"
   },
   "outputs": [],
   "source": [
    "df.withColumn(\"fname\",col(\"name.firstname\")) \\\n",
    "      .withColumn(\"mname\",col(\"name.middlename\")) \\\n",
    "      .withColumn(\"lname\",col(\"name.lastname\")) \\\n",
    "      .drop(\"name\")\\\n",
    "      .show()"
   ]
  },
  {
   "cell_type": "code",
   "execution_count": 0,
   "metadata": {
    "application/vnd.databricks.v1+cell": {
     "cellMetadata": {},
     "inputWidgets": {},
     "nuid": "6670a5c3-4025-4361-b2df-344ca9880d91",
     "showTitle": false,
     "title": ""
    },
    "id": "fWQFYleGfzBv"
   },
   "outputs": [],
   "source": [
    "df.withColumn(\"timestamp_column\", current_timestamp())\\\n",
    " .withColumn(\"salary\",col(\"Salary\")/10)\\\n",
    " .show(truncate=False)"
   ]
  }
 ],
 "metadata": {
  "application/vnd.databricks.v1+notebook": {
   "dashboards": [],
   "environmentMetadata": null,
   "language": "python",
   "notebookMetadata": {},
   "notebookName": "08_filter_select_drop_withCol",
   "widgets": {}
  },
  "colab": {
   "authorship_tag": "ABX9TyOMCgWEiwsYyKMy3svhGeso",
   "include_colab_link": true,
   "provenance": []
  },
  "kernelspec": {
   "display_name": "Python 3",
   "name": "python3"
  },
  "language_info": {
   "name": "python"
  }
 },
 "nbformat": 4,
 "nbformat_minor": 0
}
