{
  "cells": [
    {
      "cell_type": "markdown",
      "metadata": {
        "id": "view-in-github",
        "colab_type": "text"
      },
      "source": [
        "<a href=\"https://colab.research.google.com/github/arulrajgopal-zerotoone/zero_to_one_spark/blob/main/apache_spark/16_crosstab.ipynb\" target=\"_parent\"><img src=\"https://colab.research.google.com/assets/colab-badge.svg\" alt=\"Open In Colab\"/></a>"
      ]
    },
    {
      "cell_type": "code",
      "execution_count": 1,
      "metadata": {
        "application/vnd.databricks.v1+cell": {
          "cellMetadata": {},
          "inputWidgets": {},
          "nuid": "51ae9f11-d21c-432c-acc8-7b7e825a9b6f",
          "showTitle": false,
          "title": ""
        },
        "colab": {
          "base_uri": "https://localhost:8080/"
        },
        "id": "xRXIAgiO5F9j",
        "outputId": "cb56a5df-f581-4f2f-9621-265cb40b8f24"
      },
      "outputs": [
        {
          "output_type": "stream",
          "name": "stdout",
          "text": [
            "Collecting pyspark\n",
            "  Downloading pyspark-3.5.3.tar.gz (317.3 MB)\n",
            "\u001b[2K     \u001b[90m━━━━━━━━━━━━━━━━━━━━━━━━━━━━━━━━━━━━━━━━\u001b[0m \u001b[32m317.3/317.3 MB\u001b[0m \u001b[31m3.9 MB/s\u001b[0m eta \u001b[36m0:00:00\u001b[0m\n",
            "\u001b[?25h  Preparing metadata (setup.py) ... \u001b[?25l\u001b[?25hdone\n",
            "Requirement already satisfied: py4j==0.10.9.7 in /usr/local/lib/python3.10/dist-packages (from pyspark) (0.10.9.7)\n",
            "Building wheels for collected packages: pyspark\n",
            "  Building wheel for pyspark (setup.py) ... \u001b[?25l\u001b[?25hdone\n",
            "  Created wheel for pyspark: filename=pyspark-3.5.3-py2.py3-none-any.whl size=317840625 sha256=787446c9242c6893d2f8e3abc1d4a5c7546c8a34f5ed0a715823b5f65fa51804\n",
            "  Stored in directory: /root/.cache/pip/wheels/1b/3a/92/28b93e2fbfdbb07509ca4d6f50c5e407f48dce4ddbda69a4ab\n",
            "Successfully built pyspark\n",
            "Installing collected packages: pyspark\n",
            "Successfully installed pyspark-3.5.3\n"
          ]
        }
      ],
      "source": [
        "!pip install pyspark\n",
        "\n",
        "from pyspark.sql import SparkSession\n",
        "\n",
        "#create spark session\n",
        "spark= SparkSession.builder.appName('mysparksession').getOrCreate()\n",
        "\n",
        "#create spark context\n",
        "sc = spark.sparkContext"
      ]
    },
    {
      "cell_type": "code",
      "execution_count": 2,
      "metadata": {
        "application/vnd.databricks.v1+cell": {
          "cellMetadata": {},
          "inputWidgets": {},
          "nuid": "afa3b861-a123-4a56-8220-26f7afe3879c",
          "showTitle": false,
          "title": ""
        },
        "id": "7AfqH98UNSB9"
      },
      "outputs": [],
      "source": [
        "from pyspark.sql.functions import sum"
      ]
    },
    {
      "cell_type": "code",
      "execution_count": 3,
      "metadata": {
        "application/vnd.databricks.v1+cell": {
          "cellMetadata": {},
          "inputWidgets": {},
          "nuid": "e08ecc90-396c-45e7-b050-29939dfd695e",
          "showTitle": false,
          "title": ""
        },
        "id": "b3ZbuocOL_kY"
      },
      "outputs": [],
      "source": [
        "data = [(\"Alice\", \"A\", 50),\n",
        "        (\"Bob\", \"B\", 60),\n",
        "        (\"Alice\", \"B\", 70),\n",
        "        (\"Bob\", \"A\", 80),\n",
        "        (\"Charlie\", \"A\", 90),\n",
        "        (\"Alice\", \"A\", 120),\n",
        "        (\"Bob\", \"B\", 150),\n",
        "        (\"Charlie\", \"B\", 200),\n",
        "        (\"Alice\", \"B\", 80),\n",
        "        (\"Charlie\", \"A\", 110)]\n",
        "\n",
        "# Define schema\n",
        "schema = [\"Name\", \"Category\", \"Value\"]\n",
        "\n",
        "# Create a DataFrame\n",
        "df = spark.createDataFrame(data, schema=schema)"
      ]
    },
    {
      "cell_type": "code",
      "execution_count": 4,
      "metadata": {
        "application/vnd.databricks.v1+cell": {
          "cellMetadata": {},
          "inputWidgets": {},
          "nuid": "c1563d10-10be-4618-8d02-e6143cd759fd",
          "showTitle": false,
          "title": ""
        },
        "colab": {
          "base_uri": "https://localhost:8080/"
        },
        "id": "ZRK3KT52PryK",
        "outputId": "4b7a8579-a4d0-4415-bf41-9b93959468d2"
      },
      "outputs": [
        {
          "output_type": "stream",
          "name": "stdout",
          "text": [
            "+-------+--------+-----+\n",
            "|   Name|Category|Value|\n",
            "+-------+--------+-----+\n",
            "|  Alice|       A|   50|\n",
            "|    Bob|       B|   60|\n",
            "|  Alice|       B|   70|\n",
            "|    Bob|       A|   80|\n",
            "|Charlie|       A|   90|\n",
            "|  Alice|       A|  120|\n",
            "|    Bob|       B|  150|\n",
            "|Charlie|       B|  200|\n",
            "|  Alice|       B|   80|\n",
            "|Charlie|       A|  110|\n",
            "+-------+--------+-----+\n",
            "\n",
            "+-------------+---+---+\n",
            "|Name_Category|  A|  B|\n",
            "+-------------+---+---+\n",
            "|      Charlie|  2|  1|\n",
            "|          Bob|  1|  2|\n",
            "|        Alice|  2|  2|\n",
            "+-------------+---+---+\n",
            "\n"
          ]
        }
      ],
      "source": [
        "df.show()\n",
        "\n",
        "df.crosstab(\"Name\", \"Category\").show()"
      ]
    }
  ],
  "metadata": {
    "application/vnd.databricks.v1+notebook": {
      "dashboards": [],
      "environmentMetadata": null,
      "language": "python",
      "notebookMetadata": {},
      "notebookName": "15_crosstab",
      "widgets": {}
    },
    "colab": {
      "provenance": [],
      "authorship_tag": "ABX9TyMYGTdn7hl+iVpq+nmF5mFx",
      "include_colab_link": true
    },
    "kernelspec": {
      "display_name": "Python 3",
      "name": "python3"
    },
    "language_info": {
      "name": "python"
    }
  },
  "nbformat": 4,
  "nbformat_minor": 0
}