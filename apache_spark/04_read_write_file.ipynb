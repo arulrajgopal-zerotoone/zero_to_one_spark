{
  "cells": [
    {
      "cell_type": "markdown",
      "metadata": {
        "id": "view-in-github",
        "colab_type": "text"
      },
      "source": [
        "<a href=\"https://colab.research.google.com/github/arulrajgopal-zerotoone/zero_to_one_spark/blob/main/apache_spark/04_read_write_file.ipynb\" target=\"_parent\"><img src=\"https://colab.research.google.com/assets/colab-badge.svg\" alt=\"Open In Colab\"/></a>"
      ]
    },
    {
      "cell_type": "code",
      "execution_count": 1,
      "metadata": {
        "application/vnd.databricks.v1+cell": {
          "cellMetadata": {},
          "inputWidgets": {},
          "nuid": "fa268be7-1e6a-4897-ad25-dfc37abb7cd5",
          "showTitle": false,
          "title": ""
        },
        "colab": {
          "base_uri": "https://localhost:8080/"
        },
        "id": "v4xrHnuULiq3",
        "outputId": "20ae53f5-86e1-411b-8c52-2281c9ddc425"
      },
      "outputs": [
        {
          "output_type": "stream",
          "name": "stdout",
          "text": [
            "Collecting pyspark\n",
            "  Downloading pyspark-3.5.3.tar.gz (317.3 MB)\n",
            "\u001b[2K     \u001b[90m━━━━━━━━━━━━━━━━━━━━━━━━━━━━━━━━━━━━━━━━\u001b[0m \u001b[32m317.3/317.3 MB\u001b[0m \u001b[31m1.6 MB/s\u001b[0m eta \u001b[36m0:00:00\u001b[0m\n",
            "\u001b[?25h  Preparing metadata (setup.py) ... \u001b[?25l\u001b[?25hdone\n",
            "Requirement already satisfied: py4j==0.10.9.7 in /usr/local/lib/python3.10/dist-packages (from pyspark) (0.10.9.7)\n",
            "Building wheels for collected packages: pyspark\n",
            "  Building wheel for pyspark (setup.py) ... \u001b[?25l\u001b[?25hdone\n",
            "  Created wheel for pyspark: filename=pyspark-3.5.3-py2.py3-none-any.whl size=317840625 sha256=a732cc48a69555a1e01f9d027749e5f38bb9e9f92141981b993d86c9d93aed0e\n",
            "  Stored in directory: /root/.cache/pip/wheels/1b/3a/92/28b93e2fbfdbb07509ca4d6f50c5e407f48dce4ddbda69a4ab\n",
            "Successfully built pyspark\n",
            "Installing collected packages: pyspark\n",
            "Successfully installed pyspark-3.5.3\n"
          ]
        }
      ],
      "source": [
        "!pip install pyspark\n",
        "\n",
        "from pyspark.sql import SparkSession\n",
        "\n",
        "#create spark session\n",
        "spark= SparkSession.builder.appName('mysparksession').getOrCreate()\n",
        "\n",
        "#create spark context\n",
        "sc = spark.sparkContext"
      ]
    },
    {
      "cell_type": "code",
      "source": [
        "!ls"
      ],
      "metadata": {
        "colab": {
          "base_uri": "https://localhost:8080/"
        },
        "id": "EbuPpT-voP-C",
        "outputId": "b61dc751-845c-4627-c3e3-06195f9106ab"
      },
      "execution_count": 16,
      "outputs": [
        {
          "output_type": "stream",
          "name": "stdout",
          "text": [
            "item.item  sample_data\tuser.user\n"
          ]
        }
      ]
    },
    {
      "cell_type": "markdown",
      "source": [
        "#Read a file"
      ],
      "metadata": {
        "id": "GyBxltZhqv13"
      }
    },
    {
      "cell_type": "code",
      "source": [
        "from pyspark.sql.types import StructType,StructField, StringType, IntegerType"
      ],
      "metadata": {
        "id": "k5fQWo92rSLB"
      },
      "execution_count": 22,
      "outputs": []
    },
    {
      "cell_type": "code",
      "source": [
        "schema = StructType([ \\\n",
        "    StructField(\"user_id\",IntegerType(),True), \\\n",
        "    StructField(\"age\",IntegerType(),True), \\\n",
        "    StructField(\"gender\",StringType(),True), \\\n",
        "    StructField(\"occupation\",StringType(),True), \\\n",
        "    StructField(\"zip_code\",IntegerType(),True) \\\n",
        "  ])\n",
        "\n",
        "user_df = spark.read\\\n",
        "    .format('csv')\\\n",
        "    .option('Header',False)\\\n",
        "    .schema(schema)\\\n",
        "    .option('sep','|')\\\n",
        "    .load('user.user')"
      ],
      "metadata": {
        "id": "m4kEIczvoJ3D"
      },
      "execution_count": 23,
      "outputs": []
    },
    {
      "cell_type": "code",
      "source": [
        "user_df.show()"
      ],
      "metadata": {
        "colab": {
          "base_uri": "https://localhost:8080/"
        },
        "id": "m9mdyzVMolWN",
        "outputId": "55fad1b2-5258-4e77-e256-f6fc885b0b43"
      },
      "execution_count": 24,
      "outputs": [
        {
          "output_type": "stream",
          "name": "stdout",
          "text": [
            "+-------+---+------+-------------+--------+\n",
            "|user_id|age|gender|   occupation|zip_code|\n",
            "+-------+---+------+-------------+--------+\n",
            "|      1| 24|     M|   technician|   85711|\n",
            "|      2| 53|     F|        other|   94043|\n",
            "|      3| 23|     M|       writer|   32067|\n",
            "|      4| 24|     M|   technician|   43537|\n",
            "|      5| 33|     F|        other|   15213|\n",
            "|      6| 42|     M|    executive|   98101|\n",
            "|      7| 57|     M|administrator|   91344|\n",
            "|      8| 36|     M|administrator|    5201|\n",
            "|      9| 29|     M|      student|    1002|\n",
            "|     10| 53|     M|       lawyer|   90703|\n",
            "|     11| 39|     F|        other|   30329|\n",
            "|     12| 28|     F|        other|    6405|\n",
            "|     13| 47|     M|     educator|   29206|\n",
            "|     14| 45|     M|    scientist|   55106|\n",
            "|     15| 49|     F|     educator|   97301|\n",
            "|     16| 21|     M|entertainment|   10309|\n",
            "|     17| 30|     M|   programmer|    6355|\n",
            "|     18| 35|     F|        other|   37212|\n",
            "|     19| 40|     M|    librarian|    2138|\n",
            "|     20| 42|     F|    homemaker|   95660|\n",
            "+-------+---+------+-------------+--------+\n",
            "only showing top 20 rows\n",
            "\n"
          ]
        }
      ]
    },
    {
      "cell_type": "markdown",
      "source": [
        "#write a file"
      ],
      "metadata": {
        "id": "N8f9HXKaqxXD"
      }
    },
    {
      "cell_type": "code",
      "source": [
        "from google.colab import drive\n",
        "drive.mount('/content/drive')"
      ],
      "metadata": {
        "colab": {
          "base_uri": "https://localhost:8080/"
        },
        "id": "kaOsXVC-pUcU",
        "outputId": "a73f55d8-ac65-4ab0-ff33-b16d41c2609b"
      },
      "execution_count": 25,
      "outputs": [
        {
          "output_type": "stream",
          "name": "stdout",
          "text": [
            "Drive already mounted at /content/drive; to attempt to forcibly remount, call drive.mount(\"/content/drive\", force_remount=True).\n"
          ]
        }
      ]
    },
    {
      "cell_type": "code",
      "source": [
        "user_df\\\n",
        ".write\\\n",
        ".mode('overwrite')\\\n",
        ".parquet('/content/drive/MyDrive/ColabOutput/user_file')\n",
        "\n",
        "print(\"write successfull\")"
      ],
      "metadata": {
        "colab": {
          "base_uri": "https://localhost:8080/"
        },
        "id": "OF7bnhuWpUZu",
        "outputId": "f2775496-37c4-4dc3-9aa8-f1814c3fb67e"
      },
      "execution_count": 26,
      "outputs": [
        {
          "output_type": "stream",
          "name": "stdout",
          "text": [
            "write successfull\n"
          ]
        }
      ]
    },
    {
      "cell_type": "markdown",
      "source": [
        "# read a pre-written file"
      ],
      "metadata": {
        "id": "-kJA-fj4qyo6"
      }
    },
    {
      "cell_type": "code",
      "source": [
        "new_user_df = spark.read\\\n",
        "    .option('Header',True)\\\n",
        "    .load('/content/drive/MyDrive/user_file')"
      ],
      "metadata": {
        "id": "Vo8cdL9csIXC"
      },
      "execution_count": null,
      "outputs": []
    },
    {
      "cell_type": "code",
      "source": [
        "new_user_df"
      ],
      "metadata": {
        "id": "eG8QbJiVr2ZV"
      },
      "execution_count": null,
      "outputs": []
    }
  ],
  "metadata": {
    "application/vnd.databricks.v1+notebook": {
      "dashboards": [],
      "environmentMetadata": null,
      "language": "python",
      "notebookMetadata": {},
      "notebookName": "06_Read_pre_written_file",
      "widgets": {}
    },
    "colab": {
      "provenance": [],
      "authorship_tag": "ABX9TyOiLtACoxEDp+HyV4fsfSlz",
      "include_colab_link": true
    },
    "kernelspec": {
      "display_name": "Python 3",
      "name": "python3"
    },
    "language_info": {
      "name": "python"
    }
  },
  "nbformat": 4,
  "nbformat_minor": 0
}