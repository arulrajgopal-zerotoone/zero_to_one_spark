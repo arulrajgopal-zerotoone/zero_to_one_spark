{
 "cells": [
  {
   "cell_type": "markdown",
   "metadata": {
    "application/vnd.databricks.v1+cell": {
     "cellMetadata": {},
     "inputWidgets": {},
     "nuid": "78741c98-2dd1-427a-9bfb-2c087fc6b33b",
     "showTitle": false,
     "title": ""
    },
    "colab_type": "text",
    "id": "view-in-github"
   },
   "source": [
    "<a href=\"https://colab.research.google.com/github/ArulrajGopal/Spark-Guide/blob/main/03_Reading_unstructured_file.ipynb\" target=\"_parent\"><img src=\"https://colab.research.google.com/assets/colab-badge.svg\" alt=\"Open In Colab\"/></a>"
   ]
  },
  {
   "cell_type": "code",
   "execution_count": 0,
   "metadata": {
    "application/vnd.databricks.v1+cell": {
     "cellMetadata": {},
     "inputWidgets": {},
     "nuid": "be128ca0-0649-4925-9751-b19914513faf",
     "showTitle": false,
     "title": ""
    },
    "colab": {
     "base_uri": "https://localhost:8080/"
    },
    "id": "1h0a2D3UWdzf",
    "outputId": "ec1330b8-3757-4160-c63b-5a6b16c3e6e2"
   },
   "outputs": [],
   "source": [
    "!pip install pyspark\n",
    "\n",
    "from pyspark.sql import SparkSession\n",
    "\n",
    "#create spark session\n",
    "spark= SparkSession.builder.appName('mysparksession').getOrCreate()\n",
    "\n",
    "#create spark context\n",
    "sc = spark.sparkContext"
   ]
  },
  {
   "cell_type": "code",
   "execution_count": 0,
   "metadata": {
    "application/vnd.databricks.v1+cell": {
     "cellMetadata": {},
     "inputWidgets": {},
     "nuid": "6a9fd095-3fdd-4df1-89aa-4958a98a2329",
     "showTitle": false,
     "title": ""
    },
    "id": "BimzV4p49F4U"
   },
   "outputs": [],
   "source": [
    "!ls"
   ]
  },
  {
   "cell_type": "code",
   "execution_count": 0,
   "metadata": {
    "application/vnd.databricks.v1+cell": {
     "cellMetadata": {},
     "inputWidgets": {},
     "nuid": "85648612-666f-4e1c-ac03-e81d13db3564",
     "showTitle": false,
     "title": ""
    },
    "id": "EtCEx7Wua168"
   },
   "outputs": [],
   "source": [
    "text_file = sc.textFile('/content/english_passage.txt')"
   ]
  },
  {
   "cell_type": "code",
   "execution_count": 0,
   "metadata": {
    "application/vnd.databricks.v1+cell": {
     "cellMetadata": {},
     "inputWidgets": {},
     "nuid": "30d0b426-39ed-4e40-86f7-bb154f134ba9",
     "showTitle": false,
     "title": ""
    },
    "id": "uPmwaegvbQKw"
   },
   "outputs": [],
   "source": [
    "rdd_text_file = text_file\\\n",
    "                    .flatMap(lambda x: x.split(' '))\\\n",
    "                    .map(lambda x : (x,1))\\\n",
    "                    .reduceByKey(lambda x,y:x+y)"
   ]
  },
  {
   "cell_type": "code",
   "execution_count": 0,
   "metadata": {
    "application/vnd.databricks.v1+cell": {
     "cellMetadata": {},
     "inputWidgets": {},
     "nuid": "8089be07-b80f-425c-91dc-f61bb1591271",
     "showTitle": false,
     "title": ""
    },
    "colab": {
     "base_uri": "https://localhost:8080/"
    },
    "id": "7VRefKwdbQso",
    "outputId": "d89a72ea-5cf8-4f31-8400-3706b6019737"
   },
   "outputs": [],
   "source": [
    "df = rdd_text_file\\\n",
    "              .toDF([\"column1\", \"column2\"])\n",
    "df.show()"
   ]
  },
  {
   "cell_type": "code",
   "execution_count": 0,
   "metadata": {
    "application/vnd.databricks.v1+cell": {
     "cellMetadata": {},
     "inputWidgets": {},
     "nuid": "308de880-e4bd-434f-9c3f-791cf93f6f23",
     "showTitle": false,
     "title": ""
    },
    "id": "8Cmfc4TkJy5v"
   },
   "outputs": [],
   "source": [
    "from pyspark.sql.functions import col, max"
   ]
  },
  {
   "cell_type": "code",
   "execution_count": 0,
   "metadata": {
    "application/vnd.databricks.v1+cell": {
     "cellMetadata": {},
     "inputWidgets": {},
     "nuid": "2bbcca05-c83f-436c-b5bf-8611392495ca",
     "showTitle": false,
     "title": ""
    },
    "id": "jsiElqv0IlE1"
   },
   "outputs": [],
   "source": [
    "maximum_count = df.agg(max(\"column2\")).collect()[0][0]"
   ]
  },
  {
   "cell_type": "code",
   "execution_count": 0,
   "metadata": {
    "application/vnd.databricks.v1+cell": {
     "cellMetadata": {},
     "inputWidgets": {},
     "nuid": "d20239c9-4945-4930-ad70-ad187b2b9610",
     "showTitle": false,
     "title": ""
    },
    "colab": {
     "base_uri": "https://localhost:8080/"
    },
    "id": "pPYaTOYhJwh_",
    "outputId": "2bc0e070-0930-426b-9896-b27522a73576"
   },
   "outputs": [],
   "source": [
    "filtered_df = df.filter(col(\"column2\")== maximum_count)\n",
    "filtered_df.show()"
   ]
  },
  {
   "cell_type": "code",
   "execution_count": 0,
   "metadata": {
    "application/vnd.databricks.v1+cell": {
     "cellMetadata": {},
     "inputWidgets": {},
     "nuid": "375749eb-b853-4e46-a3ae-973488a88bec",
     "showTitle": false,
     "title": ""
    },
    "colab": {
     "base_uri": "https://localhost:8080/"
    },
    "id": "0UqKEuU6IEsW",
    "outputId": "9254b4a8-e006-4e62-8a08-9b7a8274ee5c"
   },
   "outputs": [],
   "source": [
    "from google.colab import drive\n",
    "drive.mount('/content/drive')"
   ]
  },
  {
   "cell_type": "code",
   "execution_count": 0,
   "metadata": {
    "application/vnd.databricks.v1+cell": {
     "cellMetadata": {},
     "inputWidgets": {},
     "nuid": "05d07745-4daf-40a7-9b6f-eabe43fd13ce",
     "showTitle": false,
     "title": ""
    },
    "colab": {
     "base_uri": "https://localhost:8080/"
    },
    "id": "37TYQkGkEptY",
    "outputId": "7e202acf-a114-449f-869d-948002b554de"
   },
   "outputs": [],
   "source": [
    "filtered_df\\\n",
    ".write\\\n",
    ".mode('overwrite')\\\n",
    ".parquet('/content/drive/MyDrive/ColabOutput/max_used_word')\n",
    "\n",
    "print(\"write successfull\")"
   ]
  },
  {
   "cell_type": "code",
   "execution_count": 0,
   "metadata": {
    "application/vnd.databricks.v1+cell": {
     "cellMetadata": {},
     "inputWidgets": {},
     "nuid": "659bf321-552e-48c7-942e-fd965ed2ad2e",
     "showTitle": false,
     "title": ""
    },
    "id": "rVfvc8qVJgt-"
   },
   "outputs": [],
   "source": []
  }
 ],
 "metadata": {
  "application/vnd.databricks.v1+notebook": {
   "dashboards": [],
   "environmentMetadata": null,
   "language": "python",
   "notebookMetadata": {},
   "notebookName": "04_Read_write_unstructured_file",
   "widgets": {}
  },
  "colab": {
   "authorship_tag": "ABX9TyMTN5dkd0/CdORrZKsaHHGn",
   "include_colab_link": true,
   "mount_file_id": "18-poI3ZmLoG-obz8rWMPZ2BBz69SzE-g",
   "provenance": []
  },
  "kernelspec": {
   "display_name": "Python 3",
   "name": "python3"
  },
  "language_info": {
   "name": "python"
  }
 },
 "nbformat": 4,
 "nbformat_minor": 0
}
