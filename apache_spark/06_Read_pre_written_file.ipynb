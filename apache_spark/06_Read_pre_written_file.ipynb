{
 "cells": [
  {
   "cell_type": "markdown",
   "metadata": {
    "application/vnd.databricks.v1+cell": {
     "cellMetadata": {},
     "inputWidgets": {},
     "nuid": "24824861-4d47-4bf8-9605-b3b9864fcec7",
     "showTitle": false,
     "title": ""
    },
    "colab_type": "text",
    "id": "view-in-github"
   },
   "source": [
    "<a href=\"https://colab.research.google.com/github/ArulrajGopal/Spark-Guide/blob/main/06_Read_pre_written_file.ipynb\" target=\"_parent\"><img src=\"https://colab.research.google.com/assets/colab-badge.svg\" alt=\"Open In Colab\"/></a>"
   ]
  },
  {
   "cell_type": "code",
   "execution_count": 0,
   "metadata": {
    "application/vnd.databricks.v1+cell": {
     "cellMetadata": {},
     "inputWidgets": {},
     "nuid": "fa268be7-1e6a-4897-ad25-dfc37abb7cd5",
     "showTitle": false,
     "title": ""
    },
    "colab": {
     "base_uri": "https://localhost:8080/"
    },
    "id": "v4xrHnuULiq3",
    "outputId": "316d4c0c-1682-4fc5-fc4d-bfffb19b3526"
   },
   "outputs": [],
   "source": [
    "!pip install pyspark\n",
    "\n",
    "from pyspark.sql import SparkSession\n",
    "\n",
    "#create spark session\n",
    "spark= SparkSession.builder.appName('mysparksession').getOrCreate()\n",
    "\n",
    "#create spark context\n",
    "sc = spark.sparkContext"
   ]
  },
  {
   "cell_type": "code",
   "execution_count": 0,
   "metadata": {
    "application/vnd.databricks.v1+cell": {
     "cellMetadata": {},
     "inputWidgets": {},
     "nuid": "12a3a811-1211-4199-988a-0f137b6e0c50",
     "showTitle": false,
     "title": ""
    },
    "colab": {
     "base_uri": "https://localhost:8080/"
    },
    "id": "uPBVI1yHZChp",
    "outputId": "39762c61-64b2-438a-9070-1d15d0871d76"
   },
   "outputs": [],
   "source": [
    "from google.colab import drive\n",
    "drive.mount('/content/drive')"
   ]
  },
  {
   "cell_type": "code",
   "execution_count": 0,
   "metadata": {
    "application/vnd.databricks.v1+cell": {
     "cellMetadata": {},
     "inputWidgets": {},
     "nuid": "66b67633-2b3d-4446-9a8d-fce7723f7980",
     "showTitle": false,
     "title": ""
    },
    "id": "OeZ3Mrb7Lk93"
   },
   "outputs": [],
   "source": [
    "read_df = spark.read\\\n",
    "    .option('Header',True)\\\n",
    "    .load('/content/drive/MyDrive/ColabOutput/max_used_word')"
   ]
  },
  {
   "cell_type": "code",
   "execution_count": 0,
   "metadata": {
    "application/vnd.databricks.v1+cell": {
     "cellMetadata": {},
     "inputWidgets": {},
     "nuid": "de3de27f-ee52-4d5d-8f80-0fb8b79548b1",
     "showTitle": false,
     "title": ""
    },
    "colab": {
     "base_uri": "https://localhost:8080/"
    },
    "id": "wqC-DhjaaxLW",
    "outputId": "4cea45f5-c0d2-4ca4-c7b7-e2e4dcd1c002"
   },
   "outputs": [],
   "source": [
    "read_df.show()"
   ]
  }
 ],
 "metadata": {
  "application/vnd.databricks.v1+notebook": {
   "dashboards": [],
   "environmentMetadata": null,
   "language": "python",
   "notebookMetadata": {},
   "notebookName": "06_Read_pre_written_file",
   "widgets": {}
  },
  "colab": {
   "authorship_tag": "ABX9TyM//2wMDiTdTQMsdml9YAw8",
   "include_colab_link": true,
   "provenance": []
  },
  "kernelspec": {
   "display_name": "Python 3",
   "name": "python3"
  },
  "language_info": {
   "name": "python"
  }
 },
 "nbformat": 4,
 "nbformat_minor": 0
}
