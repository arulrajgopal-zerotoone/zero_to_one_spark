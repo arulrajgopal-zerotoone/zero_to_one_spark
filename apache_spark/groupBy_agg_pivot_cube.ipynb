{
 "cells": [
  {
   "cell_type": "markdown",
   "metadata": {
    "application/vnd.databricks.v1+cell": {
     "cellMetadata": {},
     "inputWidgets": {},
     "nuid": "aee39f98-a37d-423f-9be3-c3feeee7d849",
     "showTitle": false,
     "title": ""
    },
    "colab_type": "text",
    "id": "view-in-github"
   },
   "source": [
    "<a href=\"https://colab.research.google.com/github/ArulrajGopal/Spark-Guide/blob/main/GogCol/14_groupBy_agg_pivot_cube.ipynb\" target=\"_parent\"><img src=\"https://colab.research.google.com/assets/colab-badge.svg\" alt=\"Open In Colab\"/></a>"
   ]
  },
  {
   "cell_type": "code",
   "execution_count": 0,
   "metadata": {
    "application/vnd.databricks.v1+cell": {
     "cellMetadata": {},
     "inputWidgets": {},
     "nuid": "78475c4b-36f9-4bbe-aa2a-c27983b185ef",
     "showTitle": false,
     "title": ""
    },
    "colab": {
     "base_uri": "https://localhost:8080/"
    },
    "id": "lvRm8tpT2MJ6",
    "outputId": "41aade7f-26bc-4efb-ba0e-e168674040f8"
   },
   "outputs": [],
   "source": [
    "!pip install pyspark\n",
    "\n",
    "from pyspark.sql import SparkSession\n",
    "\n",
    "#create spark session\n",
    "spark= SparkSession.builder.appName('mysparksession').getOrCreate()\n",
    "\n",
    "#create spark context\n",
    "sc = spark.sparkContext"
   ]
  },
  {
   "cell_type": "code",
   "execution_count": 0,
   "metadata": {
    "application/vnd.databricks.v1+cell": {
     "cellMetadata": {},
     "inputWidgets": {},
     "nuid": "458d5c5a-6f0e-4b81-8c8c-8242b9cc19ff",
     "showTitle": false,
     "title": ""
    },
    "id": "Xn4pHRQJvjrg"
   },
   "outputs": [],
   "source": [
    "from pyspark.sql.functions import col,sum,avg,max\n"
   ]
  },
  {
   "cell_type": "code",
   "execution_count": 0,
   "metadata": {
    "application/vnd.databricks.v1+cell": {
     "cellMetadata": {},
     "inputWidgets": {},
     "nuid": "02b3c135-9e06-4a7d-bc58-0c32e5a06981",
     "showTitle": false,
     "title": ""
    },
    "colab": {
     "base_uri": "https://localhost:8080/"
    },
    "id": "6szsg1slQsxs",
    "outputId": "81ea4369-3b66-4dce-b8bb-29a933fb0d29"
   },
   "outputs": [],
   "source": [
    "simpleData = [(\"James\",\"Sales\",\"NY\",90000,34,10000),\n",
    "    (\"Michael\",\"Sales\",\"NY\",86000,56,20000),\n",
    "    (\"Robert\",\"Sales\",\"CA\",81000,30,23000),\n",
    "    (\"Maria\",\"Finance\",\"CA\",90000,24,23000),\n",
    "    (\"Raman\",\"Finance\",\"CA\",99000,40,24000),\n",
    "    (\"Scott\",\"Finance\",\"NY\",83000,36,19000),\n",
    "    (\"Jen\",\"Finance\",\"NY\",79000,53,15000),\n",
    "    (\"Jeff\",\"Marketing\",\"CA\",80000,25,18000),\n",
    "    (\"Kumar\",\"Marketing\",\"NY\",91000,50,21000)\n",
    "  ]\n",
    "\n",
    "schema = [\"employee_name\",\"department\",\"state\",\"salary\",\"age\",\"bonus\"]\n",
    "df = spark.createDataFrame(data=simpleData, schema = schema)\n",
    "df.printSchema()\n",
    "df.show(truncate=False)\n"
   ]
  },
  {
   "cell_type": "code",
   "execution_count": 0,
   "metadata": {
    "application/vnd.databricks.v1+cell": {
     "cellMetadata": {},
     "inputWidgets": {},
     "nuid": "82f8c37a-1bad-4fd1-a4a7-3efc44d0344b",
     "showTitle": false,
     "title": ""
    },
    "colab": {
     "base_uri": "https://localhost:8080/"
    },
    "id": "JWFtt6fZQwHW",
    "outputId": "e81f2fda-0167-469c-9cf8-366740c02d55"
   },
   "outputs": [],
   "source": [
    "df.groupBy(\"department\").sum(\"salary\").show(truncate=False)"
   ]
  },
  {
   "cell_type": "code",
   "execution_count": 0,
   "metadata": {
    "application/vnd.databricks.v1+cell": {
     "cellMetadata": {},
     "inputWidgets": {},
     "nuid": "499230b1-55b3-4971-8035-1f65768a0b22",
     "showTitle": false,
     "title": ""
    },
    "colab": {
     "base_uri": "https://localhost:8080/"
    },
    "id": "X4CfbUxzQ3X2",
    "outputId": "cf287195-b063-480b-d427-95689abfd587"
   },
   "outputs": [],
   "source": [
    "df.groupBy(\"department\",\"state\") \\\n",
    "    .sum(\"salary\",\"bonus\") \\\n",
    "   .show(truncate=False)"
   ]
  },
  {
   "cell_type": "code",
   "execution_count": 0,
   "metadata": {
    "application/vnd.databricks.v1+cell": {
     "cellMetadata": {},
     "inputWidgets": {},
     "nuid": "7f7d5771-95f2-4d0a-a870-92423b1e1945",
     "showTitle": false,
     "title": ""
    },
    "colab": {
     "base_uri": "https://localhost:8080/"
    },
    "id": "BVGiPmA4Q5-n",
    "outputId": "022db9b1-93b0-488b-8c98-31048c6aa0ed"
   },
   "outputs": [],
   "source": [
    "df.groupBy(\"department\") \\\n",
    "    .agg(sum(\"salary\").alias(\"sum_salary\"), \\\n",
    "      avg(\"salary\").alias(\"avg_salary\"), \\\n",
    "      sum(\"bonus\").alias(\"sum_bonus\"), \\\n",
    "      max(\"bonus\").alias(\"max_bonus\")) \\\n",
    "    .where(col(\"sum_bonus\") >= 50000) \\\n",
    "    .show(truncate=False)"
   ]
  },
  {
   "cell_type": "code",
   "execution_count": 0,
   "metadata": {
    "application/vnd.databricks.v1+cell": {
     "cellMetadata": {},
     "inputWidgets": {},
     "nuid": "bb054fb0-3735-4acf-a1be-7a9f43168009",
     "showTitle": false,
     "title": ""
    },
    "id": "rY0YXtmaRK1l"
   },
   "outputs": [],
   "source": []
  },
  {
   "cell_type": "code",
   "execution_count": 0,
   "metadata": {
    "application/vnd.databricks.v1+cell": {
     "cellMetadata": {},
     "inputWidgets": {},
     "nuid": "f8757f63-5b18-4317-8dbf-c6af0d4f292c",
     "showTitle": false,
     "title": ""
    },
    "id": "JlR26jS8RKzY"
   },
   "outputs": [],
   "source": []
  },
  {
   "cell_type": "code",
   "execution_count": 0,
   "metadata": {
    "application/vnd.databricks.v1+cell": {
     "cellMetadata": {},
     "inputWidgets": {},
     "nuid": "ac8c71b5-0573-41bc-9150-b5121a4b1f15",
     "showTitle": false,
     "title": ""
    },
    "id": "YaH34Z5nRBLe"
   },
   "outputs": [],
   "source": [
    "# from pyspark.sql.functions import expr\n",
    "\n",
    "# data = [(\"Banana\",1000,\"USA\"), (\"Carrots\",1500,\"USA\"), (\"Beans\",1600,\"USA\"), \\\n",
    "#       (\"Orange\",2000,\"USA\"),(\"Orange\",2000,\"USA\"),(\"Banana\",400,\"China\"), \\\n",
    "#       (\"Carrots\",1200,\"China\"),(\"Beans\",1500,\"China\"),(\"Orange\",4000,\"China\"), \\\n",
    "#       (\"Banana\",2000,\"Canada\"),(\"Carrots\",2000,\"Canada\"),(\"Beans\",2000,\"Mexico\")]\n",
    "\n",
    "# columns= [\"Product\",\"Amount\",\"Country\"]\n",
    "# df = spark.createDataFrame(data = data, schema = columns)\n",
    "# df.printSchema()\n",
    "# df.show(truncate=False)\n",
    "\n",
    "# pivotDF = df.groupBy(\"Product\").pivot(\"Country\").sum(\"Amount\")\n",
    "# pivotDF.printSchema()\n",
    "# pivotDF.show(truncate=False)\n",
    "\n",
    "# pivotDF = df.groupBy(\"Product\",\"Country\") \\\n",
    "#       .sum(\"Amount\") \\\n",
    "#       .groupBy(\"Product\") \\\n",
    "#       .pivot(\"Country\") \\\n",
    "#       .sum(\"sum(Amount)\")\n",
    "# pivotDF.printSchema()\n",
    "# pivotDF.show(truncate=False)\n",
    "\n",
    "# \"\"\" unpivot \"\"\"\n",
    "# unpivotExpr = \"stack(3, 'Canada', Canada, 'China', China, 'Mexico', Mexico) as (Country,Total)\"\n",
    "# unPivotDF = pivotDF.select(\"Product\", expr(unpivotExpr)) \\\n",
    "#     .where(\"Total is not null\")\n",
    "# unPivotDF.show(truncate=False)"
   ]
  },
  {
   "cell_type": "code",
   "execution_count": 0,
   "metadata": {
    "application/vnd.databricks.v1+cell": {
     "cellMetadata": {},
     "inputWidgets": {},
     "nuid": "5c2a50a6-e413-46f8-bd91-baa3e6e0fd22",
     "showTitle": false,
     "title": ""
    },
    "colab": {
     "base_uri": "https://localhost:8080/"
    },
    "id": "MK9s_DJcRRra",
    "outputId": "38c00332-cc6d-42b4-9d97-fcb11b08f4e9"
   },
   "outputs": [],
   "source": [
    "# from pyspark.sql.functions import sum\n",
    "\n",
    "# # Create a Spark session\n",
    "# spark = SparkSession.builder.appName(\"CubeExample\").getOrCreate()\n",
    "\n",
    "# # Sample data\n",
    "# data = [(\"Animal\", \"Dog\", 10),\n",
    "#         (\"Animal\", \"Cat\", 20),\n",
    "#         (\"Flower\", \"Jasmine\", 30),\n",
    "#         (\"Flower\", \"Sunflower\", 40)]\n",
    "\n",
    "# # Define the schema\n",
    "# schema = [\"Category\", \"Subcategory\", \"Price\"]\n",
    "\n",
    "# # Create a DataFrame\n",
    "# df = spark.createDataFrame(data, schema=schema)\n",
    "\n",
    "\n",
    "# df.show()\n",
    "# df.cube(\"Category\", \"Subcategory\").agg(sum(\"Price\").alias(\"TotalValue\")).show()\n"
   ]
  },
  {
   "cell_type": "code",
   "execution_count": 0,
   "metadata": {
    "application/vnd.databricks.v1+cell": {
     "cellMetadata": {},
     "inputWidgets": {},
     "nuid": "477ab600-46d4-4858-aa01-7361ee71e449",
     "showTitle": false,
     "title": ""
    },
    "id": "yEUzDljeRwMs"
   },
   "outputs": [],
   "source": []
  }
 ],
 "metadata": {
  "application/vnd.databricks.v1+notebook": {
   "dashboards": [],
   "environmentMetadata": null,
   "language": "python",
   "notebookMetadata": {},
   "notebookName": "14_groupBy_agg_pivot_cube",
   "widgets": {}
  },
  "colab": {
   "authorship_tag": "ABX9TyMIcDR+4MEIbA9RNIFqv91B",
   "include_colab_link": true,
   "provenance": []
  },
  "kernelspec": {
   "display_name": "Python 3",
   "name": "python3"
  },
  "language_info": {
   "name": "python"
  }
 },
 "nbformat": 4,
 "nbformat_minor": 0
}
