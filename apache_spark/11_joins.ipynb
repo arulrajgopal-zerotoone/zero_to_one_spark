{
  "cells": [
    {
      "cell_type": "markdown",
      "metadata": {
        "id": "view-in-github",
        "colab_type": "text"
      },
      "source": [
        "<a href=\"https://colab.research.google.com/github/arulrajgopal-zerotoone/zero_to_one_spark/blob/main/apache_spark/13_joins.ipynb\" target=\"_parent\"><img src=\"https://colab.research.google.com/assets/colab-badge.svg\" alt=\"Open In Colab\"/></a>"
      ]
    },
    {
      "cell_type": "code",
      "execution_count": 1,
      "metadata": {
        "application/vnd.databricks.v1+cell": {
          "cellMetadata": {},
          "inputWidgets": {},
          "nuid": "82ac370d-369e-4575-b056-39a226428ac3",
          "showTitle": false,
          "title": ""
        },
        "colab": {
          "base_uri": "https://localhost:8080/"
        },
        "id": "QCF5-hhC5vLG",
        "outputId": "c3351506-c1ba-4d41-c476-eb9d0863524f"
      },
      "outputs": [
        {
          "output_type": "stream",
          "name": "stdout",
          "text": [
            "Collecting pyspark\n",
            "  Downloading pyspark-3.5.3.tar.gz (317.3 MB)\n",
            "\u001b[2K     \u001b[90m━━━━━━━━━━━━━━━━━━━━━━━━━━━━━━━━━━━━━━━━\u001b[0m \u001b[32m317.3/317.3 MB\u001b[0m \u001b[31m4.4 MB/s\u001b[0m eta \u001b[36m0:00:00\u001b[0m\n",
            "\u001b[?25h  Preparing metadata (setup.py) ... \u001b[?25l\u001b[?25hdone\n",
            "Requirement already satisfied: py4j==0.10.9.7 in /usr/local/lib/python3.10/dist-packages (from pyspark) (0.10.9.7)\n",
            "Building wheels for collected packages: pyspark\n",
            "  Building wheel for pyspark (setup.py) ... \u001b[?25l\u001b[?25hdone\n",
            "  Created wheel for pyspark: filename=pyspark-3.5.3-py2.py3-none-any.whl size=317840625 sha256=cd70f761d4092d19674d6455348464e1ae75628e1b8a95d4344b18f49f2304b1\n",
            "  Stored in directory: /root/.cache/pip/wheels/1b/3a/92/28b93e2fbfdbb07509ca4d6f50c5e407f48dce4ddbda69a4ab\n",
            "Successfully built pyspark\n",
            "Installing collected packages: pyspark\n",
            "Successfully installed pyspark-3.5.3\n"
          ]
        }
      ],
      "source": [
        "!pip install pyspark\n",
        "\n",
        "from pyspark.sql import SparkSession\n",
        "\n",
        "#create spark session\n",
        "spark= SparkSession.builder.appName('mysparksession').getOrCreate()\n",
        "\n",
        "#create spark context\n",
        "sc = spark.sparkContext"
      ]
    },
    {
      "cell_type": "code",
      "source": [
        "from pyspark.sql.functions import col,broadcast\n",
        "from pyspark.sql.types import StructType, StructField, StringType, IntegerType\n"
      ],
      "metadata": {
        "id": "6oFpwFolDIUR"
      },
      "execution_count": 12,
      "outputs": []
    },
    {
      "cell_type": "code",
      "execution_count": 3,
      "metadata": {
        "application/vnd.databricks.v1+cell": {
          "cellMetadata": {},
          "inputWidgets": {},
          "nuid": "6074db39-0623-4ca2-bd49-76090887a799",
          "showTitle": false,
          "title": ""
        },
        "colab": {
          "base_uri": "https://localhost:8080/"
        },
        "id": "nOs1wzo_-dZL",
        "outputId": "e43ce0a1-7015-4e19-cf90-65cb56e566ba"
      },
      "outputs": [
        {
          "output_type": "stream",
          "name": "stdout",
          "text": [
            "root\n",
            " |-- emp_id: long (nullable = true)\n",
            " |-- name: string (nullable = true)\n",
            " |-- superior_emp_id: long (nullable = true)\n",
            " |-- year_joined: string (nullable = true)\n",
            " |-- emp_dept_id: string (nullable = true)\n",
            " |-- gender: string (nullable = true)\n",
            " |-- salary: long (nullable = true)\n",
            "\n",
            "root\n",
            " |-- dept_name: string (nullable = true)\n",
            " |-- dept_id: long (nullable = true)\n",
            "\n",
            "+------+--------+---------------+-----------+-----------+------+------+\n",
            "|emp_id|name    |superior_emp_id|year_joined|emp_dept_id|gender|salary|\n",
            "+------+--------+---------------+-----------+-----------+------+------+\n",
            "|1     |Smith   |-1             |2018       |10         |M     |3000  |\n",
            "|2     |Rose    |1              |2010       |20         |M     |4000  |\n",
            "|3     |Williams|1              |2010       |10         |M     |1000  |\n",
            "|4     |Jones   |2              |2005       |10         |F     |2000  |\n",
            "|5     |Brown   |2              |2010       |40         |      |-1    |\n",
            "|6     |Brown   |2              |2010       |50         |      |-1    |\n",
            "+------+--------+---------------+-----------+-----------+------+------+\n",
            "\n",
            "+---------+-------+\n",
            "|dept_name|dept_id|\n",
            "+---------+-------+\n",
            "|Finance  |10     |\n",
            "|Marketing|20     |\n",
            "|Sales    |30     |\n",
            "|IT       |40     |\n",
            "+---------+-------+\n",
            "\n"
          ]
        }
      ],
      "source": [
        "emp = [(1,\"Smith\",-1,\"2018\",\"10\",\"M\",3000), \\\n",
        "    (2,\"Rose\",1,\"2010\",\"20\",\"M\",4000), \\\n",
        "    (3,\"Williams\",1,\"2010\",\"10\",\"M\",1000), \\\n",
        "    (4,\"Jones\",2,\"2005\",\"10\",\"F\",2000), \\\n",
        "    (5,\"Brown\",2,\"2010\",\"40\",\"\",-1), \\\n",
        "      (6,\"Brown\",2,\"2010\",\"50\",\"\",-1) \\\n",
        "  ]\n",
        "empColumns = [\"emp_id\",\"name\",\"superior_emp_id\",\"year_joined\", \\\n",
        "       \"emp_dept_id\",\"gender\",\"salary\"]\n",
        "\n",
        "empDF = spark.createDataFrame(data=emp, schema = empColumns)\n",
        "\n",
        "\n",
        "dept = [(\"Finance\",10), \\\n",
        "    (\"Marketing\",20), \\\n",
        "    (\"Sales\",30), \\\n",
        "    (\"IT\",40) \\\n",
        "  ]\n",
        "deptColumns = [\"dept_name\",\"dept_id\"]\n",
        "deptDF = spark.createDataFrame(data=dept, schema = deptColumns)\n",
        "\n",
        "empDF.printSchema()\n",
        "deptDF.printSchema()\n",
        "empDF.show(truncate=False)\n",
        "deptDF.show(truncate=False)"
      ]
    },
    {
      "cell_type": "markdown",
      "source": [
        "## spark joins\n",
        "1. inner\n",
        "2. outer, full, fullouter, full_outer\n",
        "3. left, leftouter, left_outer\n",
        "4. right, rightouter, right_outer\n",
        "5. anti, leftanti, left_anti\n",
        "6. semi, leftsemi, left_semi"
      ],
      "metadata": {
        "id": "jADrN9WwDSXn"
      }
    },
    {
      "cell_type": "markdown",
      "source": [
        "#inner"
      ],
      "metadata": {
        "id": "J1aaFKGaDTpo"
      }
    },
    {
      "cell_type": "code",
      "execution_count": 4,
      "metadata": {
        "application/vnd.databricks.v1+cell": {
          "cellMetadata": {},
          "inputWidgets": {},
          "nuid": "1e8d90c6-7cb9-4662-a6fa-9987ad8a7277",
          "showTitle": false,
          "title": ""
        },
        "colab": {
          "base_uri": "https://localhost:8080/"
        },
        "id": "20bni5YP-d_S",
        "outputId": "29d7c8ab-d2fd-478e-d832-3e140360f139"
      },
      "outputs": [
        {
          "output_type": "stream",
          "name": "stdout",
          "text": [
            "+------+--------+---------------+-----------+-----------+------+------+---------+-------+\n",
            "|emp_id|name    |superior_emp_id|year_joined|emp_dept_id|gender|salary|dept_name|dept_id|\n",
            "+------+--------+---------------+-----------+-----------+------+------+---------+-------+\n",
            "|1     |Smith   |-1             |2018       |10         |M     |3000  |Finance  |10     |\n",
            "|3     |Williams|1              |2010       |10         |M     |1000  |Finance  |10     |\n",
            "|4     |Jones   |2              |2005       |10         |F     |2000  |Finance  |10     |\n",
            "|2     |Rose    |1              |2010       |20         |M     |4000  |Marketing|20     |\n",
            "|5     |Brown   |2              |2010       |40         |      |-1    |IT       |40     |\n",
            "+------+--------+---------------+-----------+-----------+------+------+---------+-------+\n",
            "\n"
          ]
        }
      ],
      "source": [
        "#inner join\n",
        "empDF.join(deptDF,empDF.emp_dept_id ==  deptDF.dept_id,\"inner\") \\\n",
        "     .show(truncate=False)"
      ]
    },
    {
      "cell_type": "markdown",
      "source": [
        "#outer"
      ],
      "metadata": {
        "id": "8vijmCvEDa2o"
      }
    },
    {
      "cell_type": "code",
      "execution_count": 5,
      "metadata": {
        "application/vnd.databricks.v1+cell": {
          "cellMetadata": {},
          "inputWidgets": {},
          "nuid": "1ad4180c-1634-465a-bda7-df3160187b8a",
          "showTitle": false,
          "title": ""
        },
        "colab": {
          "base_uri": "https://localhost:8080/"
        },
        "id": "4Eucg4I8-d9K",
        "outputId": "c03f63c2-7111-48b3-8d1d-77b685bcc8f1"
      },
      "outputs": [
        {
          "output_type": "stream",
          "name": "stdout",
          "text": [
            "+------+--------+---------------+-----------+-----------+------+------+---------+-------+\n",
            "|emp_id|name    |superior_emp_id|year_joined|emp_dept_id|gender|salary|dept_name|dept_id|\n",
            "+------+--------+---------------+-----------+-----------+------+------+---------+-------+\n",
            "|1     |Smith   |-1             |2018       |10         |M     |3000  |Finance  |10     |\n",
            "|3     |Williams|1              |2010       |10         |M     |1000  |Finance  |10     |\n",
            "|4     |Jones   |2              |2005       |10         |F     |2000  |Finance  |10     |\n",
            "|2     |Rose    |1              |2010       |20         |M     |4000  |Marketing|20     |\n",
            "|NULL  |NULL    |NULL           |NULL       |NULL       |NULL  |NULL  |Sales    |30     |\n",
            "|5     |Brown   |2              |2010       |40         |      |-1    |IT       |40     |\n",
            "|6     |Brown   |2              |2010       |50         |      |-1    |NULL     |NULL   |\n",
            "+------+--------+---------------+-----------+-----------+------+------+---------+-------+\n",
            "\n"
          ]
        }
      ],
      "source": [
        "#outer\n",
        "empDF.join(deptDF,empDF.emp_dept_id ==  deptDF.dept_id,\"outer\")\\\n",
        "    .show(truncate=False)\n"
      ]
    },
    {
      "cell_type": "markdown",
      "source": [
        "#right"
      ],
      "metadata": {
        "id": "Bm8t2MJVDeHf"
      }
    },
    {
      "cell_type": "code",
      "execution_count": 6,
      "metadata": {
        "application/vnd.databricks.v1+cell": {
          "cellMetadata": {},
          "inputWidgets": {},
          "nuid": "076b5551-7371-42bb-9399-3c2431f8e0ef",
          "showTitle": false,
          "title": ""
        },
        "colab": {
          "base_uri": "https://localhost:8080/"
        },
        "id": "-eng4Mx9-1zk",
        "outputId": "740d55cd-a0ce-4b8a-90ae-a7d2bc355c04"
      },
      "outputs": [
        {
          "output_type": "stream",
          "name": "stdout",
          "text": [
            "+------+--------+---------------+-----------+-----------+------+------+---------+-------+\n",
            "|emp_id|name    |superior_emp_id|year_joined|emp_dept_id|gender|salary|dept_name|dept_id|\n",
            "+------+--------+---------------+-----------+-----------+------+------+---------+-------+\n",
            "|4     |Jones   |2              |2005       |10         |F     |2000  |Finance  |10     |\n",
            "|3     |Williams|1              |2010       |10         |M     |1000  |Finance  |10     |\n",
            "|1     |Smith   |-1             |2018       |10         |M     |3000  |Finance  |10     |\n",
            "|2     |Rose    |1              |2010       |20         |M     |4000  |Marketing|20     |\n",
            "|NULL  |NULL    |NULL           |NULL       |NULL       |NULL  |NULL  |Sales    |30     |\n",
            "|5     |Brown   |2              |2010       |40         |      |-1    |IT       |40     |\n",
            "+------+--------+---------------+-----------+-----------+------+------+---------+-------+\n",
            "\n"
          ]
        }
      ],
      "source": [
        "# right\n",
        "empDF.join(deptDF,empDF.emp_dept_id ==  deptDF.dept_id,\"right\") \\\n",
        "   .show(truncate=False)"
      ]
    },
    {
      "cell_type": "markdown",
      "source": [
        "#left"
      ],
      "metadata": {
        "id": "LOLoVL9RDfPB"
      }
    },
    {
      "cell_type": "code",
      "execution_count": 7,
      "metadata": {
        "application/vnd.databricks.v1+cell": {
          "cellMetadata": {},
          "inputWidgets": {},
          "nuid": "901ea8e9-4b28-4333-9eca-0df8a6561a54",
          "showTitle": false,
          "title": ""
        },
        "colab": {
          "base_uri": "https://localhost:8080/"
        },
        "id": "JLOmHy1jD8vS",
        "outputId": "6c9b8938-ce36-4293-f54d-3d114467a409"
      },
      "outputs": [
        {
          "output_type": "stream",
          "name": "stdout",
          "text": [
            "+------+--------+---------------+-----------+-----------+------+------+---------+-------+\n",
            "|emp_id|name    |superior_emp_id|year_joined|emp_dept_id|gender|salary|dept_name|dept_id|\n",
            "+------+--------+---------------+-----------+-----------+------+------+---------+-------+\n",
            "|1     |Smith   |-1             |2018       |10         |M     |3000  |Finance  |10     |\n",
            "|3     |Williams|1              |2010       |10         |M     |1000  |Finance  |10     |\n",
            "|2     |Rose    |1              |2010       |20         |M     |4000  |Marketing|20     |\n",
            "|6     |Brown   |2              |2010       |50         |      |-1    |NULL     |NULL   |\n",
            "|4     |Jones   |2              |2005       |10         |F     |2000  |Finance  |10     |\n",
            "|5     |Brown   |2              |2010       |40         |      |-1    |IT       |40     |\n",
            "+------+--------+---------------+-----------+-----------+------+------+---------+-------+\n",
            "\n"
          ]
        }
      ],
      "source": [
        "# left\n",
        "empDF.join(deptDF,empDF.emp_dept_id ==  deptDF.dept_id,\"left\")\\\n",
        "    .show(truncate=False)"
      ]
    },
    {
      "cell_type": "markdown",
      "source": [
        "#left anti & left semi"
      ],
      "metadata": {
        "id": "wblmE7MHDg_t"
      }
    },
    {
      "cell_type": "code",
      "execution_count": 8,
      "metadata": {
        "application/vnd.databricks.v1+cell": {
          "cellMetadata": {},
          "inputWidgets": {},
          "nuid": "38e0f7c1-3d9b-4310-98d1-9c9d4736202d",
          "showTitle": false,
          "title": ""
        },
        "colab": {
          "base_uri": "https://localhost:8080/"
        },
        "id": "G8_YkGN2EtOX",
        "outputId": "7d2d684b-3004-4495-b6c5-c8d5af3cba97"
      },
      "outputs": [
        {
          "output_type": "stream",
          "name": "stdout",
          "text": [
            "+------+-----+---------------+-----------+-----------+------+------+\n",
            "|emp_id|name |superior_emp_id|year_joined|emp_dept_id|gender|salary|\n",
            "+------+-----+---------------+-----------+-----------+------+------+\n",
            "|6     |Brown|2              |2010       |50         |      |-1    |\n",
            "+------+-----+---------------+-----------+-----------+------+------+\n",
            "\n"
          ]
        }
      ],
      "source": [
        "# left\n",
        "empDF.join(deptDF,empDF.emp_dept_id ==  deptDF.dept_id,\"left\")\\\n",
        "      .filter(col(\"dept_id\").isNull())\\\n",
        "      .drop(\"dept_name\",\"dept_id\")\\\n",
        "      .show(truncate=False)"
      ]
    },
    {
      "cell_type": "code",
      "execution_count": 9,
      "metadata": {
        "application/vnd.databricks.v1+cell": {
          "cellMetadata": {},
          "inputWidgets": {},
          "nuid": "25161825-b7a2-42a4-8d6b-4c15641b7464",
          "showTitle": false,
          "title": ""
        },
        "colab": {
          "base_uri": "https://localhost:8080/"
        },
        "id": "Ghnifo0LD51X",
        "outputId": "62e874d3-a185-4ac9-c007-5e990a59ede6"
      },
      "outputs": [
        {
          "output_type": "stream",
          "name": "stdout",
          "text": [
            "+------+-----+---------------+-----------+-----------+------+------+\n",
            "|emp_id|name |superior_emp_id|year_joined|emp_dept_id|gender|salary|\n",
            "+------+-----+---------------+-----------+-----------+------+------+\n",
            "|6     |Brown|2              |2010       |50         |      |-1    |\n",
            "+------+-----+---------------+-----------+-----------+------+------+\n",
            "\n"
          ]
        }
      ],
      "source": [
        "# left anti join\n",
        "empDF.join(deptDF,empDF.emp_dept_id ==  deptDF.dept_id,\"leftanti\")\\\n",
        "   .show(truncate=False)"
      ]
    },
    {
      "cell_type": "code",
      "execution_count": 10,
      "metadata": {
        "application/vnd.databricks.v1+cell": {
          "cellMetadata": {},
          "inputWidgets": {},
          "nuid": "46b0abff-16cb-46c9-a331-27cef41f161f",
          "showTitle": false,
          "title": ""
        },
        "colab": {
          "base_uri": "https://localhost:8080/"
        },
        "id": "N7MX2OMY-6CD",
        "outputId": "4e46ab26-bd37-42ea-9c57-7f67d3420574"
      },
      "outputs": [
        {
          "output_type": "stream",
          "name": "stdout",
          "text": [
            "+------+--------+---------------+-----------+-----------+------+------+\n",
            "|emp_id|name    |superior_emp_id|year_joined|emp_dept_id|gender|salary|\n",
            "+------+--------+---------------+-----------+-----------+------+------+\n",
            "|1     |Smith   |-1             |2018       |10         |M     |3000  |\n",
            "|3     |Williams|1              |2010       |10         |M     |1000  |\n",
            "|4     |Jones   |2              |2005       |10         |F     |2000  |\n",
            "|2     |Rose    |1              |2010       |20         |M     |4000  |\n",
            "|5     |Brown   |2              |2010       |40         |      |-1    |\n",
            "+------+--------+---------------+-----------+-----------+------+------+\n",
            "\n"
          ]
        }
      ],
      "source": [
        "# left_semi\n",
        "empDF.join(deptDF,empDF.emp_dept_id ==  deptDF.dept_id,\"leftsemi\")\\\n",
        "   .show(truncate=False)"
      ]
    },
    {
      "cell_type": "markdown",
      "source": [
        "#join with multiple keys"
      ],
      "metadata": {
        "id": "4FD-vcggFdfV"
      }
    },
    {
      "cell_type": "code",
      "source": [
        "record_1 = [1,'A','arul','cricket']\n",
        "record_2 = [2,'A','sekar','chess']\n",
        "record_3 = [3,'A','kumar','tennis']\n",
        "record_4 = [1,'B', 'ganesh','football']\n",
        "record_5 = [2,'B','vinoth','volleyball']\n",
        "record_6 = [3,'B','Ravi','hockey']\n",
        "\n",
        "record_6 = [1, 'A','Engineer']\n",
        "record_7 = [2, 'A', 'doctor']\n",
        "record_8 = [2,'B', 'lawyer']\n",
        "\n",
        "list1 = [record_1, record_2, record_3,record_4,record_5]\n",
        "list2 = [record_6, record_7, record_8]\n",
        "\n",
        "df_schema = StructType(fields=[StructField(\"sr_no\", IntegerType(), False),\n",
        "                               StructField(\"section\", StringType(), False),\n",
        "                                StructField(\"name\", StringType(), True),\n",
        "                               StructField(\"fav_game\", StringType(), True)\n",
        "])\n",
        "\n",
        "df_2_schema = StructType(fields=[StructField(\"sr_no\", IntegerType(), False),\n",
        "                                 StructField(\"section\", StringType(), False),\n",
        "                                StructField(\"profession\", StringType(), True),\n",
        "])\n",
        "\n",
        "df = spark.createDataFrame(list1, df_schema)\n",
        "df_2 = spark.createDataFrame(list2, df_2_schema)\n",
        "df.show()\n",
        "df_2.show()"
      ],
      "metadata": {
        "id": "S-duaW8jCdk0",
        "outputId": "05888f0c-f309-4f3f-bd1a-ef927b40a9ac",
        "colab": {
          "base_uri": "https://localhost:8080/"
        }
      },
      "execution_count": 13,
      "outputs": [
        {
          "output_type": "stream",
          "name": "stdout",
          "text": [
            "+-----+-------+------+----------+\n",
            "|sr_no|section|  name|  fav_game|\n",
            "+-----+-------+------+----------+\n",
            "|    1|      A|  arul|   cricket|\n",
            "|    2|      A| sekar|     chess|\n",
            "|    3|      A| kumar|    tennis|\n",
            "|    1|      B|ganesh|  football|\n",
            "|    2|      B|vinoth|volleyball|\n",
            "+-----+-------+------+----------+\n",
            "\n",
            "+-----+-------+----------+\n",
            "|sr_no|section|profession|\n",
            "+-----+-------+----------+\n",
            "|    1|      A|  Engineer|\n",
            "|    2|      A|    doctor|\n",
            "|    2|      B|    lawyer|\n",
            "+-----+-------+----------+\n",
            "\n"
          ]
        }
      ]
    },
    {
      "cell_type": "code",
      "source": [
        "joined_df = df.alias('LH')\\\n",
        "                .join(df_2.alias('RH'), (col('LH.sr_no') == col('RH.sr_no')) & (col('LH.section') == col('RH.section')) , 'left')\\\n",
        "                .select('LH.*','RH.profession')\n",
        "\n",
        "joined_df.show()\n",
        "joined_df.explain(True)\n"
      ],
      "metadata": {
        "id": "8nk2yDvtF9pC",
        "outputId": "6ef8ed02-5be3-41a8-ccb3-6e2692a9b635",
        "colab": {
          "base_uri": "https://localhost:8080/"
        }
      },
      "execution_count": 14,
      "outputs": [
        {
          "output_type": "stream",
          "name": "stdout",
          "text": [
            "+-----+-------+------+----------+----------+\n",
            "|sr_no|section|  name|  fav_game|profession|\n",
            "+-----+-------+------+----------+----------+\n",
            "|    1|      A|  arul|   cricket|  Engineer|\n",
            "|    2|      A| sekar|     chess|    doctor|\n",
            "|    3|      A| kumar|    tennis|      NULL|\n",
            "|    2|      B|vinoth|volleyball|    lawyer|\n",
            "|    1|      B|ganesh|  football|      NULL|\n",
            "+-----+-------+------+----------+----------+\n",
            "\n",
            "== Parsed Logical Plan ==\n",
            "'Project [LH.*, 'RH.profession]\n",
            "+- Join LeftOuter, ((sr_no#416 = sr_no#424) AND (section#417 = section#425))\n",
            "   :- SubqueryAlias LH\n",
            "   :  +- LogicalRDD [sr_no#416, section#417, name#418, fav_game#419], false\n",
            "   +- SubqueryAlias RH\n",
            "      +- LogicalRDD [sr_no#424, section#425, profession#426], false\n",
            "\n",
            "== Analyzed Logical Plan ==\n",
            "sr_no: int, section: string, name: string, fav_game: string, profession: string\n",
            "Project [sr_no#416, section#417, name#418, fav_game#419, profession#426]\n",
            "+- Join LeftOuter, ((sr_no#416 = sr_no#424) AND (section#417 = section#425))\n",
            "   :- SubqueryAlias LH\n",
            "   :  +- LogicalRDD [sr_no#416, section#417, name#418, fav_game#419], false\n",
            "   +- SubqueryAlias RH\n",
            "      +- LogicalRDD [sr_no#424, section#425, profession#426], false\n",
            "\n",
            "== Optimized Logical Plan ==\n",
            "Project [sr_no#416, section#417, name#418, fav_game#419, profession#426]\n",
            "+- Join LeftOuter, ((sr_no#416 = sr_no#424) AND (section#417 = section#425))\n",
            "   :- LogicalRDD [sr_no#416, section#417, name#418, fav_game#419], false\n",
            "   +- LogicalRDD [sr_no#424, section#425, profession#426], false\n",
            "\n",
            "== Physical Plan ==\n",
            "AdaptiveSparkPlan isFinalPlan=false\n",
            "+- Project [sr_no#416, section#417, name#418, fav_game#419, profession#426]\n",
            "   +- SortMergeJoin [sr_no#416, section#417], [sr_no#424, section#425], LeftOuter\n",
            "      :- Sort [sr_no#416 ASC NULLS FIRST, section#417 ASC NULLS FIRST], false, 0\n",
            "      :  +- Exchange hashpartitioning(sr_no#416, section#417, 200), ENSURE_REQUIREMENTS, [plan_id=1026]\n",
            "      :     +- Scan ExistingRDD[sr_no#416,section#417,name#418,fav_game#419]\n",
            "      +- Sort [sr_no#424 ASC NULLS FIRST, section#425 ASC NULLS FIRST], false, 0\n",
            "         +- Exchange hashpartitioning(sr_no#424, section#425, 200), ENSURE_REQUIREMENTS, [plan_id=1027]\n",
            "            +- Scan ExistingRDD[sr_no#424,section#425,profession#426]\n",
            "\n"
          ]
        }
      ]
    },
    {
      "cell_type": "markdown",
      "source": [
        "#broadcast join\n",
        "Note: - this is not large enough to broadcast, but for demo purpose, it has been done."
      ],
      "metadata": {
        "id": "a7kuJ_EZF_4m"
      }
    },
    {
      "cell_type": "code",
      "source": [
        "large_df = df\n",
        "small_df = df_2\n",
        "\n",
        "result_df = large_df.alias(\"LH\").join(broadcast(small_df.alias(\"RH\")), (col('LH.sr_no') == col('RH.sr_no')) & (col('LH.section') == col('RH.section')), \"left\")\n",
        "result_df.show()\n",
        "\n",
        "\n",
        "result_df.explain(True)\n",
        "\n",
        "\n",
        "spark.conf.get(\"spark.sql.autoBroadcastJoinThreshold\")\n",
        "\n",
        "\n",
        "# To disable autoBroadcastJoin >> set -1\n",
        "# By default it is 10485760 i.e. 10MB\n",
        "spark.conf.set(\"spark.sql.autoBroadcastJoinThreshold\", -1)\n",
        "spark.conf.get(\"spark.sql.autoBroadcastJoinThreshold\")"
      ],
      "metadata": {
        "id": "4Od-nLlICdiQ",
        "outputId": "845a09b5-227c-4985-9c34-36737876a640",
        "colab": {
          "base_uri": "https://localhost:8080/",
          "height": 748
        }
      },
      "execution_count": 16,
      "outputs": [
        {
          "output_type": "stream",
          "name": "stdout",
          "text": [
            "+-----+-------+------+----------+-----+-------+----------+\n",
            "|sr_no|section|  name|  fav_game|sr_no|section|profession|\n",
            "+-----+-------+------+----------+-----+-------+----------+\n",
            "|    1|      A|  arul|   cricket|    1|      A|  Engineer|\n",
            "|    2|      A| sekar|     chess|    2|      A|    doctor|\n",
            "|    3|      A| kumar|    tennis| NULL|   NULL|      NULL|\n",
            "|    1|      B|ganesh|  football| NULL|   NULL|      NULL|\n",
            "|    2|      B|vinoth|volleyball|    2|      B|    lawyer|\n",
            "+-----+-------+------+----------+-----+-------+----------+\n",
            "\n",
            "== Parsed Logical Plan ==\n",
            "Join LeftOuter, ((sr_no#416 = sr_no#424) AND (section#417 = section#425))\n",
            ":- SubqueryAlias LH\n",
            ":  +- LogicalRDD [sr_no#416, section#417, name#418, fav_game#419], false\n",
            "+- ResolvedHint (strategy=broadcast)\n",
            "   +- SubqueryAlias RH\n",
            "      +- LogicalRDD [sr_no#424, section#425, profession#426], false\n",
            "\n",
            "== Analyzed Logical Plan ==\n",
            "sr_no: int, section: string, name: string, fav_game: string, sr_no: int, section: string, profession: string\n",
            "Join LeftOuter, ((sr_no#416 = sr_no#424) AND (section#417 = section#425))\n",
            ":- SubqueryAlias LH\n",
            ":  +- LogicalRDD [sr_no#416, section#417, name#418, fav_game#419], false\n",
            "+- ResolvedHint (strategy=broadcast)\n",
            "   +- SubqueryAlias RH\n",
            "      +- LogicalRDD [sr_no#424, section#425, profession#426], false\n",
            "\n",
            "== Optimized Logical Plan ==\n",
            "Join LeftOuter, ((sr_no#416 = sr_no#424) AND (section#417 = section#425)), rightHint=(strategy=broadcast)\n",
            ":- LogicalRDD [sr_no#416, section#417, name#418, fav_game#419], false\n",
            "+- LogicalRDD [sr_no#424, section#425, profession#426], false\n",
            "\n",
            "== Physical Plan ==\n",
            "AdaptiveSparkPlan isFinalPlan=false\n",
            "+- BroadcastHashJoin [sr_no#416, section#417], [sr_no#424, section#425], LeftOuter, BuildRight, false\n",
            "   :- Scan ExistingRDD[sr_no#416,section#417,name#418,fav_game#419]\n",
            "   +- BroadcastExchange HashedRelationBroadcastMode(List(input[0, int, false], input[1, string, false]),false), [plan_id=1101]\n",
            "      +- Scan ExistingRDD[sr_no#424,section#425,profession#426]\n",
            "\n"
          ]
        },
        {
          "output_type": "execute_result",
          "data": {
            "text/plain": [
              "'-1'"
            ],
            "application/vnd.google.colaboratory.intrinsic+json": {
              "type": "string"
            }
          },
          "metadata": {},
          "execution_count": 16
        }
      ]
    },
    {
      "cell_type": "code",
      "source": [],
      "metadata": {
        "id": "uJTPX4WYCdf8"
      },
      "execution_count": null,
      "outputs": []
    }
  ],
  "metadata": {
    "application/vnd.databricks.v1+notebook": {
      "dashboards": [],
      "environmentMetadata": null,
      "language": "python",
      "notebookMetadata": {},
      "notebookName": "09_joins",
      "widgets": {}
    },
    "colab": {
      "provenance": [],
      "authorship_tag": "ABX9TyOSJXrujlTdgF0jcb1ETWA5",
      "include_colab_link": true
    },
    "kernelspec": {
      "display_name": "Python 3",
      "name": "python3"
    },
    "language_info": {
      "name": "python"
    }
  },
  "nbformat": 4,
  "nbformat_minor": 0
}
