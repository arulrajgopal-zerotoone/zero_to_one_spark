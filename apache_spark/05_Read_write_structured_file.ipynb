{
 "cells": [
  {
   "cell_type": "markdown",
   "metadata": {
    "application/vnd.databricks.v1+cell": {
     "cellMetadata": {},
     "inputWidgets": {},
     "nuid": "f0f52dd8-8db7-41bc-8dea-908fe25d900d",
     "showTitle": false,
     "title": ""
    },
    "colab_type": "text",
    "id": "view-in-github"
   },
   "source": [
    "<a href=\"https://colab.research.google.com/github/ArulrajGopal/Spark-Guide/blob/main/05_Read_write_structured_file.ipynb\" target=\"_parent\"><img src=\"https://colab.research.google.com/assets/colab-badge.svg\" alt=\"Open In Colab\"/></a>"
   ]
  },
  {
   "cell_type": "code",
   "execution_count": 0,
   "metadata": {
    "application/vnd.databricks.v1+cell": {
     "cellMetadata": {},
     "inputWidgets": {},
     "nuid": "1d3aef36-2b62-408d-b529-896d90244c68",
     "showTitle": false,
     "title": ""
    },
    "colab": {
     "base_uri": "https://localhost:8080/"
    },
    "id": "v4xrHnuULiq3",
    "outputId": "9545b06f-1e6e-4bca-da99-617aabe683d1"
   },
   "outputs": [],
   "source": [
    "!pip install pyspark\n",
    "\n",
    "from pyspark.sql import SparkSession\n",
    "\n",
    "#create spark session\n",
    "spark= SparkSession.builder.appName('mysparksession').getOrCreate()\n",
    "\n",
    "#create spark context\n",
    "sc = spark.sparkContext"
   ]
  },
  {
   "cell_type": "code",
   "execution_count": 0,
   "metadata": {
    "application/vnd.databricks.v1+cell": {
     "cellMetadata": {},
     "inputWidgets": {},
     "nuid": "871ec9d2-8387-4993-a773-acf4202b12a9",
     "showTitle": false,
     "title": ""
    },
    "id": "OeZ3Mrb7Lk93"
   },
   "outputs": [],
   "source": [
    "circuits_df = spark.read\\\n",
    "    .format(\"csv\")\\\n",
    "    .option('Header',True)\\\n",
    "    .load('circuits.csv')"
   ]
  },
  {
   "cell_type": "code",
   "execution_count": 0,
   "metadata": {
    "application/vnd.databricks.v1+cell": {
     "cellMetadata": {},
     "inputWidgets": {},
     "nuid": "263b633a-f835-48ff-8fd7-071a5580dce2",
     "showTitle": false,
     "title": ""
    },
    "colab": {
     "base_uri": "https://localhost:8080/"
    },
    "id": "_J1c2X2xCwxM",
    "outputId": "0bd20d44-9934-41a9-9edb-30ec3d13ff22"
   },
   "outputs": [],
   "source": [
    "from google.colab import drive\n",
    "drive.mount('/content/drive')"
   ]
  },
  {
   "cell_type": "code",
   "execution_count": 0,
   "metadata": {
    "application/vnd.databricks.v1+cell": {
     "cellMetadata": {},
     "inputWidgets": {},
     "nuid": "63ca5282-4094-4a95-81a5-6a0d39b98fe5",
     "showTitle": false,
     "title": ""
    },
    "colab": {
     "base_uri": "https://localhost:8080/"
    },
    "id": "f7oDmAacPEd3",
    "outputId": "50caf912-e57f-4e98-df5c-d35e022071e3"
   },
   "outputs": [],
   "source": [
    "circuits_df\\\n",
    ".write\\\n",
    ".mode('overwrite')\\\n",
    ".parquet('/content/drive/MyDrive/ColabOutput/circuits2')\n",
    "\n",
    "print(\"write successfull\")"
   ]
  }
 ],
 "metadata": {
  "application/vnd.databricks.v1+notebook": {
   "dashboards": [],
   "environmentMetadata": null,
   "language": "python",
   "notebookMetadata": {},
   "notebookName": "05_Read_write_structured_file",
   "widgets": {}
  },
  "colab": {
   "authorship_tag": "ABX9TyNWF0qK/GhheQjcWMS74OZr",
   "include_colab_link": true,
   "provenance": []
  },
  "kernelspec": {
   "display_name": "Python 3",
   "name": "python3"
  },
  "language_info": {
   "name": "python"
  }
 },
 "nbformat": 4,
 "nbformat_minor": 0
}
