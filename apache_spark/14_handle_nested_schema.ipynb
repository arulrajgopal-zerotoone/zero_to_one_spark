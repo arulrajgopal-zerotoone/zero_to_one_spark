{
  "nbformat": 4,
  "nbformat_minor": 0,
  "metadata": {
    "colab": {
      "provenance": [],
      "authorship_tag": "ABX9TyO7zZfgt85/aeFRo5kP7djI",
      "include_colab_link": true
    },
    "kernelspec": {
      "name": "python3",
      "display_name": "Python 3"
    },
    "language_info": {
      "name": "python"
    }
  },
  "cells": [
    {
      "cell_type": "markdown",
      "metadata": {
        "id": "view-in-github",
        "colab_type": "text"
      },
      "source": [
        "<a href=\"https://colab.research.google.com/github/arulrajgopal-zerotoone/zero_to_one_spark/blob/main/apache_spark/14_handle_nested_schema.ipynb\" target=\"_parent\"><img src=\"https://colab.research.google.com/assets/colab-badge.svg\" alt=\"Open In Colab\"/></a>"
      ]
    },
    {
      "cell_type": "code",
      "source": [
        "!pip install pyspark\n",
        "\n",
        "from pyspark.sql import SparkSession\n",
        "\n",
        "#create spark session\n",
        "spark= SparkSession.builder.appName('mysparksession').getOrCreate()\n",
        "\n",
        "#create spark context\n",
        "sc = spark.sparkContext"
      ],
      "metadata": {
        "id": "jDlDZKXhJd_d",
        "outputId": "be7eed07-1af1-46fe-db45-8010022a9a9c",
        "colab": {
          "base_uri": "https://localhost:8080/"
        }
      },
      "execution_count": 2,
      "outputs": [
        {
          "output_type": "stream",
          "name": "stdout",
          "text": [
            "Requirement already satisfied: pyspark in /usr/local/lib/python3.10/dist-packages (3.5.3)\n",
            "Requirement already satisfied: py4j==0.10.9.7 in /usr/local/lib/python3.10/dist-packages (from pyspark) (0.10.9.7)\n"
          ]
        }
      ]
    },
    {
      "cell_type": "code",
      "source": [
        "from pyspark.sql.types import StructType, StructField, IntegerType, StringType, DateType\n",
        "from pyspark.sql.functions import concat, col,lit"
      ],
      "metadata": {
        "id": "xYk2TWnrJd89"
      },
      "execution_count": 3,
      "outputs": []
    },
    {
      "cell_type": "code",
      "source": [
        "name_schema = StructType(fields=[StructField(\"forename\", StringType(), True),\n",
        "                                 StructField(\"surname\", StringType(), True)\n",
        "\n",
        "])\n",
        "drivers_schema = StructType(fields=[StructField(\"driverId\", IntegerType(), False),\n",
        "                                    StructField(\"driverRef\", StringType(), True),\n",
        "                                    StructField(\"number\", IntegerType(), True),\n",
        "                                    StructField(\"code\", StringType(), True),\n",
        "                                    StructField(\"name\", name_schema),\n",
        "                                    StructField(\"dob\", DateType(), True),\n",
        "                                    StructField(\"nationality\", StringType(), True),\n",
        "                                    StructField(\"url\", StringType(), True)\n",
        "\n",
        "])"
      ],
      "metadata": {
        "id": "WtF9ZE6XJd6S"
      },
      "execution_count": 5,
      "outputs": []
    },
    {
      "cell_type": "code",
      "source": [
        "drivers_df = spark.read \\\n",
        "    .format(\"json\")\\\n",
        "    .schema(drivers_schema)\\\n",
        "    .load('formula1_drivers.json')\n",
        "\n",
        "\n",
        "drivers_df.show()"
      ],
      "metadata": {
        "id": "p9RwRgNcJd3n",
        "outputId": "160ac78a-f262-46ed-c344-390bb35104cf",
        "colab": {
          "base_uri": "https://localhost:8080/"
        }
      },
      "execution_count": 10,
      "outputs": [
        {
          "output_type": "stream",
          "name": "stdout",
          "text": [
            "+--------+----------+------+----+--------------------+----------+-----------+--------------------+\n",
            "|driverId| driverRef|number|code|                name|       dob|nationality|                 url|\n",
            "+--------+----------+------+----+--------------------+----------+-----------+--------------------+\n",
            "|       1|  hamilton|    44| HAM|   {Lewis, Hamilton}|1985-01-07|    British|http://en.wikiped...|\n",
            "|       2|  heidfeld|  NULL| HEI|    {Nick, Heidfeld}|1977-05-10|     German|http://en.wikiped...|\n",
            "|       3|   rosberg|     6| ROS|     {Nico, Rosberg}|1985-06-27|     German|http://en.wikiped...|\n",
            "|       4|    alonso|    14| ALO|  {Fernando, Alonso}|1981-07-29|    Spanish|http://en.wikiped...|\n",
            "|       5|kovalainen|  NULL| KOV|{Heikki, Kovalainen}|1981-10-19|    Finnish|http://en.wikiped...|\n",
            "|       6|  nakajima|  NULL| NAK|  {Kazuki, Nakajima}|1985-01-11|   Japanese|http://en.wikiped...|\n",
            "|       7|  bourdais|  NULL| BOU|{Sébastien, Bourd...|1979-02-28|     French|http://en.wikiped...|\n",
            "|       8| raikkonen|     7| RAI|   {Kimi, Räikkönen}|1979-10-17|    Finnish|http://en.wikiped...|\n",
            "|       9|    kubica|    88| KUB|    {Robert, Kubica}|1984-12-07|     Polish|http://en.wikiped...|\n",
            "|      10|     glock|  NULL| GLO|       {Timo, Glock}|1982-03-18|     German|http://en.wikiped...|\n",
            "|      11|      sato|  NULL| SAT|      {Takuma, Sato}|1977-01-28|   Japanese|http://en.wikiped...|\n",
            "|      12| piquet_jr|  NULL| PIQ|{Nelson, Piquet Jr.}|1985-07-25|  Brazilian|http://en.wikiped...|\n",
            "|      13|     massa|    19| MAS|     {Felipe, Massa}|1981-04-25|  Brazilian|http://en.wikiped...|\n",
            "|      14| coulthard|  NULL| COU|  {David, Coulthard}|1971-03-27|    British|http://en.wikiped...|\n",
            "|      15|    trulli|  NULL| TRU|     {Jarno, Trulli}|1974-07-13|    Italian|http://en.wikiped...|\n",
            "|      16|     sutil|    99| SUT|     {Adrian, Sutil}|1983-01-11|     German|http://en.wikiped...|\n",
            "|      17|    webber|  NULL| WEB|      {Mark, Webber}|1976-08-27| Australian|http://en.wikiped...|\n",
            "|      18|    button|    22| BUT|    {Jenson, Button}|1980-01-19|    British|http://en.wikiped...|\n",
            "|      19|  davidson|  NULL| DAV| {Anthony, Davidson}|1979-04-18|    British|http://en.wikiped...|\n",
            "|      20|    vettel|     5| VET| {Sebastian, Vettel}|1987-07-03|     German|http://en.wikiped...|\n",
            "+--------+----------+------+----+--------------------+----------+-----------+--------------------+\n",
            "only showing top 20 rows\n",
            "\n"
          ]
        }
      ]
    },
    {
      "cell_type": "code",
      "source": [
        "nest_removed_df = drivers_df.withColumn(\"name\", concat(col(\"name.forename\"), lit(\" \"), col(\"name.surname\")))\n",
        "nest_removed_df.show()"
      ],
      "metadata": {
        "id": "IFCNSrfsK5O9",
        "outputId": "e14f47c2-ae64-4bb3-8e32-6893055e708d",
        "colab": {
          "base_uri": "https://localhost:8080/"
        }
      },
      "execution_count": 13,
      "outputs": [
        {
          "output_type": "stream",
          "name": "stdout",
          "text": [
            "+--------+----------+------+----+------------------+----------+-----------+--------------------+\n",
            "|driverId| driverRef|number|code|              name|       dob|nationality|                 url|\n",
            "+--------+----------+------+----+------------------+----------+-----------+--------------------+\n",
            "|       1|  hamilton|    44| HAM|    Lewis Hamilton|1985-01-07|    British|http://en.wikiped...|\n",
            "|       2|  heidfeld|  NULL| HEI|     Nick Heidfeld|1977-05-10|     German|http://en.wikiped...|\n",
            "|       3|   rosberg|     6| ROS|      Nico Rosberg|1985-06-27|     German|http://en.wikiped...|\n",
            "|       4|    alonso|    14| ALO|   Fernando Alonso|1981-07-29|    Spanish|http://en.wikiped...|\n",
            "|       5|kovalainen|  NULL| KOV| Heikki Kovalainen|1981-10-19|    Finnish|http://en.wikiped...|\n",
            "|       6|  nakajima|  NULL| NAK|   Kazuki Nakajima|1985-01-11|   Japanese|http://en.wikiped...|\n",
            "|       7|  bourdais|  NULL| BOU|Sébastien Bourdais|1979-02-28|     French|http://en.wikiped...|\n",
            "|       8| raikkonen|     7| RAI|    Kimi Räikkönen|1979-10-17|    Finnish|http://en.wikiped...|\n",
            "|       9|    kubica|    88| KUB|     Robert Kubica|1984-12-07|     Polish|http://en.wikiped...|\n",
            "|      10|     glock|  NULL| GLO|        Timo Glock|1982-03-18|     German|http://en.wikiped...|\n",
            "|      11|      sato|  NULL| SAT|       Takuma Sato|1977-01-28|   Japanese|http://en.wikiped...|\n",
            "|      12| piquet_jr|  NULL| PIQ| Nelson Piquet Jr.|1985-07-25|  Brazilian|http://en.wikiped...|\n",
            "|      13|     massa|    19| MAS|      Felipe Massa|1981-04-25|  Brazilian|http://en.wikiped...|\n",
            "|      14| coulthard|  NULL| COU|   David Coulthard|1971-03-27|    British|http://en.wikiped...|\n",
            "|      15|    trulli|  NULL| TRU|      Jarno Trulli|1974-07-13|    Italian|http://en.wikiped...|\n",
            "|      16|     sutil|    99| SUT|      Adrian Sutil|1983-01-11|     German|http://en.wikiped...|\n",
            "|      17|    webber|  NULL| WEB|       Mark Webber|1976-08-27| Australian|http://en.wikiped...|\n",
            "|      18|    button|    22| BUT|     Jenson Button|1980-01-19|    British|http://en.wikiped...|\n",
            "|      19|  davidson|  NULL| DAV|  Anthony Davidson|1979-04-18|    British|http://en.wikiped...|\n",
            "|      20|    vettel|     5| VET|  Sebastian Vettel|1987-07-03|     German|http://en.wikiped...|\n",
            "+--------+----------+------+----+------------------+----------+-----------+--------------------+\n",
            "only showing top 20 rows\n",
            "\n"
          ]
        }
      ]
    }
  ]
}