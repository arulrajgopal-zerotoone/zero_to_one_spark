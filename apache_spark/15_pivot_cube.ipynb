{
  "cells": [
    {
      "cell_type": "markdown",
      "metadata": {
        "id": "view-in-github",
        "colab_type": "text"
      },
      "source": [
        "<a href=\"https://colab.research.google.com/github/arulrajgopal-zerotoone/zero_to_one_spark/blob/main/apache_spark/15_pivot_cube.ipynb\" target=\"_parent\"><img src=\"https://colab.research.google.com/assets/colab-badge.svg\" alt=\"Open In Colab\"/></a>"
      ]
    },
    {
      "cell_type": "code",
      "execution_count": 1,
      "metadata": {
        "application/vnd.databricks.v1+cell": {
          "cellMetadata": {},
          "inputWidgets": {},
          "nuid": "78475c4b-36f9-4bbe-aa2a-c27983b185ef",
          "showTitle": false,
          "title": ""
        },
        "id": "lvRm8tpT2MJ6",
        "outputId": "ba8cfaa4-d4d2-40f1-b258-29d2eee157b5",
        "colab": {
          "base_uri": "https://localhost:8080/"
        }
      },
      "outputs": [
        {
          "output_type": "stream",
          "name": "stdout",
          "text": [
            "Collecting pyspark\n",
            "  Downloading pyspark-3.5.3.tar.gz (317.3 MB)\n",
            "\u001b[2K     \u001b[90m━━━━━━━━━━━━━━━━━━━━━━━━━━━━━━━━━━━━━━━━\u001b[0m \u001b[32m317.3/317.3 MB\u001b[0m \u001b[31m4.2 MB/s\u001b[0m eta \u001b[36m0:00:00\u001b[0m\n",
            "\u001b[?25h  Preparing metadata (setup.py) ... \u001b[?25l\u001b[?25hdone\n",
            "Requirement already satisfied: py4j==0.10.9.7 in /usr/local/lib/python3.10/dist-packages (from pyspark) (0.10.9.7)\n",
            "Building wheels for collected packages: pyspark\n",
            "  Building wheel for pyspark (setup.py) ... \u001b[?25l\u001b[?25hdone\n",
            "  Created wheel for pyspark: filename=pyspark-3.5.3-py2.py3-none-any.whl size=317840625 sha256=99e2b38509df3057a67577ef732fce423033817eec5307ac900f6b2530bea4b7\n",
            "  Stored in directory: /root/.cache/pip/wheels/1b/3a/92/28b93e2fbfdbb07509ca4d6f50c5e407f48dce4ddbda69a4ab\n",
            "Successfully built pyspark\n",
            "Installing collected packages: pyspark\n",
            "Successfully installed pyspark-3.5.3\n"
          ]
        }
      ],
      "source": [
        "!pip install pyspark\n",
        "\n",
        "from pyspark.sql import SparkSession\n",
        "\n",
        "#create spark session\n",
        "spark= SparkSession.builder.appName('mysparksession').getOrCreate()\n",
        "\n",
        "#create spark context\n",
        "sc = spark.sparkContext"
      ]
    },
    {
      "cell_type": "code",
      "source": [
        "from pyspark.sql.functions import expr, sum"
      ],
      "metadata": {
        "id": "JlUND6lSL1vB"
      },
      "execution_count": 9,
      "outputs": []
    },
    {
      "cell_type": "code",
      "execution_count": 3,
      "metadata": {
        "application/vnd.databricks.v1+cell": {
          "cellMetadata": {},
          "inputWidgets": {},
          "nuid": "ac8c71b5-0573-41bc-9150-b5121a4b1f15",
          "showTitle": false,
          "title": ""
        },
        "id": "YaH34Z5nRBLe",
        "outputId": "f400abb9-a1c0-49c4-a559-9d0acafd7236",
        "colab": {
          "base_uri": "https://localhost:8080/"
        }
      },
      "outputs": [
        {
          "output_type": "stream",
          "name": "stdout",
          "text": [
            "root\n",
            " |-- Product: string (nullable = true)\n",
            " |-- Amount: long (nullable = true)\n",
            " |-- Country: string (nullable = true)\n",
            "\n",
            "+-------+------+-------+\n",
            "|Product|Amount|Country|\n",
            "+-------+------+-------+\n",
            "|Banana |1000  |USA    |\n",
            "|Carrots|1500  |USA    |\n",
            "|Beans  |1600  |USA    |\n",
            "|Orange |2000  |USA    |\n",
            "|Orange |2000  |USA    |\n",
            "|Banana |400   |China  |\n",
            "|Carrots|1200  |China  |\n",
            "|Beans  |1500  |China  |\n",
            "|Orange |4000  |China  |\n",
            "|Banana |2000  |Canada |\n",
            "|Carrots|2000  |Canada |\n",
            "|Beans  |2000  |Mexico |\n",
            "+-------+------+-------+\n",
            "\n"
          ]
        }
      ],
      "source": [
        "data = [(\"Banana\",1000,\"USA\"), (\"Carrots\",1500,\"USA\"), (\"Beans\",1600,\"USA\"), \\\n",
        "      (\"Orange\",2000,\"USA\"),(\"Orange\",2000,\"USA\"),(\"Banana\",400,\"China\"), \\\n",
        "      (\"Carrots\",1200,\"China\"),(\"Beans\",1500,\"China\"),(\"Orange\",4000,\"China\"), \\\n",
        "      (\"Banana\",2000,\"Canada\"),(\"Carrots\",2000,\"Canada\"),(\"Beans\",2000,\"Mexico\")]\n",
        "\n",
        "columns= [\"Product\",\"Amount\",\"Country\"]\n",
        "df = spark.createDataFrame(data = data, schema = columns)\n",
        "df.printSchema()\n",
        "df.show(truncate=False)\n"
      ]
    },
    {
      "cell_type": "markdown",
      "source": [
        "#pivot"
      ],
      "metadata": {
        "id": "wfGLxotqM4Hd"
      }
    },
    {
      "cell_type": "code",
      "source": [
        "pivotDF = df.groupBy(\"Product\").pivot(\"Country\").sum(\"Amount\")\n",
        "pivotDF.printSchema()\n",
        "pivotDF.show(truncate=False)\n"
      ],
      "metadata": {
        "id": "RqY4sCERL5U0",
        "outputId": "7ff3afde-909e-4b54-84f3-5da3f66f8789",
        "colab": {
          "base_uri": "https://localhost:8080/"
        }
      },
      "execution_count": 7,
      "outputs": [
        {
          "output_type": "stream",
          "name": "stdout",
          "text": [
            "root\n",
            " |-- Product: string (nullable = true)\n",
            " |-- Canada: long (nullable = true)\n",
            " |-- China: long (nullable = true)\n",
            " |-- Mexico: long (nullable = true)\n",
            " |-- USA: long (nullable = true)\n",
            "\n",
            "+-------+------+-----+------+----+\n",
            "|Product|Canada|China|Mexico|USA |\n",
            "+-------+------+-----+------+----+\n",
            "|Orange |NULL  |4000 |NULL  |4000|\n",
            "|Beans  |NULL  |1500 |2000  |1600|\n",
            "|Banana |2000  |400  |NULL  |1000|\n",
            "|Carrots|2000  |1200 |NULL  |1500|\n",
            "+-------+------+-----+------+----+\n",
            "\n"
          ]
        }
      ]
    },
    {
      "cell_type": "markdown",
      "source": [
        "#unpivot"
      ],
      "metadata": {
        "id": "GR8h7L87M5YA"
      }
    },
    {
      "cell_type": "code",
      "source": [
        "unpivotExpr = \"stack(3, 'Canada', Canada, 'China', China, 'Mexico', Mexico) as (Country,Total)\"\n",
        "\n",
        "unPivotDF = pivotDF.select(\"Product\", expr(unpivotExpr)) \\\n",
        "    .where(\"Total is not null\")\n",
        "unPivotDF.show(truncate=False)"
      ],
      "metadata": {
        "id": "T6ACOKDeNObD",
        "outputId": "06fdbf5c-7392-4003-85c4-894e3885d9b5",
        "colab": {
          "base_uri": "https://localhost:8080/"
        }
      },
      "execution_count": 8,
      "outputs": [
        {
          "output_type": "stream",
          "name": "stdout",
          "text": [
            "+-------+-------+-----+\n",
            "|Product|Country|Total|\n",
            "+-------+-------+-----+\n",
            "|Orange |China  |4000 |\n",
            "|Beans  |China  |1500 |\n",
            "|Beans  |Mexico |2000 |\n",
            "|Banana |Canada |2000 |\n",
            "|Banana |China  |400  |\n",
            "|Carrots|Canada |2000 |\n",
            "|Carrots|China  |1200 |\n",
            "+-------+-------+-----+\n",
            "\n"
          ]
        }
      ]
    },
    {
      "cell_type": "markdown",
      "source": [
        "#cube"
      ],
      "metadata": {
        "id": "8RAvK2g5Oa1F"
      }
    },
    {
      "cell_type": "code",
      "execution_count": 10,
      "metadata": {
        "application/vnd.databricks.v1+cell": {
          "cellMetadata": {},
          "inputWidgets": {},
          "nuid": "5c2a50a6-e413-46f8-bd91-baa3e6e0fd22",
          "showTitle": false,
          "title": ""
        },
        "id": "MK9s_DJcRRra",
        "outputId": "4167b0ce-e01e-495e-b00f-34c92dca4a61",
        "colab": {
          "base_uri": "https://localhost:8080/"
        }
      },
      "outputs": [
        {
          "output_type": "stream",
          "name": "stdout",
          "text": [
            "+--------+-----------+-----+\n",
            "|Category|Subcategory|Price|\n",
            "+--------+-----------+-----+\n",
            "|  Animal|        Dog|   10|\n",
            "|  Animal|        Cat|   20|\n",
            "|  Flower|    Jasmine|   30|\n",
            "|  Flower|  Sunflower|   40|\n",
            "+--------+-----------+-----+\n",
            "\n",
            "+--------+-----------+----------+\n",
            "|Category|Subcategory|TotalValue|\n",
            "+--------+-----------+----------+\n",
            "|    NULL|        Cat|        20|\n",
            "|    NULL|        Dog|        10|\n",
            "|    NULL|       NULL|       100|\n",
            "|  Animal|        Dog|        10|\n",
            "|  Animal|       NULL|        30|\n",
            "|  Animal|        Cat|        20|\n",
            "|    NULL|    Jasmine|        30|\n",
            "|  Flower|       NULL|        70|\n",
            "|  Flower|  Sunflower|        40|\n",
            "|  Flower|    Jasmine|        30|\n",
            "|    NULL|  Sunflower|        40|\n",
            "+--------+-----------+----------+\n",
            "\n"
          ]
        }
      ],
      "source": [
        "# Sample data\n",
        "data = [(\"Animal\", \"Dog\", 10),\n",
        "        (\"Animal\", \"Cat\", 20),\n",
        "        (\"Flower\", \"Jasmine\", 30),\n",
        "        (\"Flower\", \"Sunflower\", 40)]\n",
        "\n",
        "# Define the schema\n",
        "schema = [\"Category\", \"Subcategory\", \"Price\"]\n",
        "\n",
        "# Create a DataFrame\n",
        "df = spark.createDataFrame(data, schema=schema)\n",
        "\n",
        "\n",
        "df.show()\n",
        "df.cube(\"Category\", \"Subcategory\").agg(sum(\"Price\").alias(\"TotalValue\")).show()\n"
      ]
    },
    {
      "cell_type": "code",
      "source": [],
      "metadata": {
        "id": "TwFYF_onPO_N"
      },
      "execution_count": null,
      "outputs": []
    }
  ],
  "metadata": {
    "application/vnd.databricks.v1+notebook": {
      "dashboards": [],
      "environmentMetadata": null,
      "language": "python",
      "notebookMetadata": {},
      "notebookName": "14_groupBy_agg_pivot_cube",
      "widgets": {}
    },
    "colab": {
      "provenance": [],
      "authorship_tag": "ABX9TyPz92VkQvYt41x79+5SQ3sE",
      "include_colab_link": true
    },
    "kernelspec": {
      "display_name": "Python 3",
      "name": "python3"
    },
    "language_info": {
      "name": "python"
    }
  },
  "nbformat": 4,
  "nbformat_minor": 0
}