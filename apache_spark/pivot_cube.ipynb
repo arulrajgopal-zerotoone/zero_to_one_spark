{
  "cells": [
    {
      "cell_type": "markdown",
      "metadata": {
        "id": "view-in-github",
        "colab_type": "text"
      },
      "source": [
        "<a href=\"https://colab.research.google.com/github/arulrajgopal-zerotoone/zero_to_one_spark/blob/main/apache_spark/pivot_cube.ipynb\" target=\"_parent\"><img src=\"https://colab.research.google.com/assets/colab-badge.svg\" alt=\"Open In Colab\"/></a>"
      ]
    },
    {
      "cell_type": "code",
      "execution_count": null,
      "metadata": {
        "application/vnd.databricks.v1+cell": {
          "cellMetadata": {},
          "inputWidgets": {},
          "nuid": "78475c4b-36f9-4bbe-aa2a-c27983b185ef",
          "showTitle": false,
          "title": ""
        },
        "id": "lvRm8tpT2MJ6"
      },
      "outputs": [],
      "source": [
        "!pip install pyspark\n",
        "\n",
        "from pyspark.sql import SparkSession\n",
        "\n",
        "#create spark session\n",
        "spark= SparkSession.builder.appName('mysparksession').getOrCreate()\n",
        "\n",
        "#create spark context\n",
        "sc = spark.sparkContext"
      ]
    },
    {
      "cell_type": "code",
      "execution_count": null,
      "metadata": {
        "application/vnd.databricks.v1+cell": {
          "cellMetadata": {},
          "inputWidgets": {},
          "nuid": "ac8c71b5-0573-41bc-9150-b5121a4b1f15",
          "showTitle": false,
          "title": ""
        },
        "id": "YaH34Z5nRBLe"
      },
      "outputs": [],
      "source": [
        "# from pyspark.sql.functions import expr\n",
        "\n",
        "# data = [(\"Banana\",1000,\"USA\"), (\"Carrots\",1500,\"USA\"), (\"Beans\",1600,\"USA\"), \\\n",
        "#       (\"Orange\",2000,\"USA\"),(\"Orange\",2000,\"USA\"),(\"Banana\",400,\"China\"), \\\n",
        "#       (\"Carrots\",1200,\"China\"),(\"Beans\",1500,\"China\"),(\"Orange\",4000,\"China\"), \\\n",
        "#       (\"Banana\",2000,\"Canada\"),(\"Carrots\",2000,\"Canada\"),(\"Beans\",2000,\"Mexico\")]\n",
        "\n",
        "# columns= [\"Product\",\"Amount\",\"Country\"]\n",
        "# df = spark.createDataFrame(data = data, schema = columns)\n",
        "# df.printSchema()\n",
        "# df.show(truncate=False)\n",
        "\n",
        "# pivotDF = df.groupBy(\"Product\").pivot(\"Country\").sum(\"Amount\")\n",
        "# pivotDF.printSchema()\n",
        "# pivotDF.show(truncate=False)\n",
        "\n",
        "# pivotDF = df.groupBy(\"Product\",\"Country\") \\\n",
        "#       .sum(\"Amount\") \\\n",
        "#       .groupBy(\"Product\") \\\n",
        "#       .pivot(\"Country\") \\\n",
        "#       .sum(\"sum(Amount)\")\n",
        "# pivotDF.printSchema()\n",
        "# pivotDF.show(truncate=False)\n",
        "\n",
        "# \"\"\" unpivot \"\"\"\n",
        "# unpivotExpr = \"stack(3, 'Canada', Canada, 'China', China, 'Mexico', Mexico) as (Country,Total)\"\n",
        "# unPivotDF = pivotDF.select(\"Product\", expr(unpivotExpr)) \\\n",
        "#     .where(\"Total is not null\")\n",
        "# unPivotDF.show(truncate=False)"
      ]
    },
    {
      "cell_type": "code",
      "execution_count": null,
      "metadata": {
        "application/vnd.databricks.v1+cell": {
          "cellMetadata": {},
          "inputWidgets": {},
          "nuid": "5c2a50a6-e413-46f8-bd91-baa3e6e0fd22",
          "showTitle": false,
          "title": ""
        },
        "id": "MK9s_DJcRRra"
      },
      "outputs": [],
      "source": [
        "# from pyspark.sql.functions import sum\n",
        "\n",
        "# # Create a Spark session\n",
        "# spark = SparkSession.builder.appName(\"CubeExample\").getOrCreate()\n",
        "\n",
        "# # Sample data\n",
        "# data = [(\"Animal\", \"Dog\", 10),\n",
        "#         (\"Animal\", \"Cat\", 20),\n",
        "#         (\"Flower\", \"Jasmine\", 30),\n",
        "#         (\"Flower\", \"Sunflower\", 40)]\n",
        "\n",
        "# # Define the schema\n",
        "# schema = [\"Category\", \"Subcategory\", \"Price\"]\n",
        "\n",
        "# # Create a DataFrame\n",
        "# df = spark.createDataFrame(data, schema=schema)\n",
        "\n",
        "\n",
        "# df.show()\n",
        "# df.cube(\"Category\", \"Subcategory\").agg(sum(\"Price\").alias(\"TotalValue\")).show()\n"
      ]
    },
    {
      "cell_type": "code",
      "execution_count": null,
      "metadata": {
        "application/vnd.databricks.v1+cell": {
          "cellMetadata": {},
          "inputWidgets": {},
          "nuid": "477ab600-46d4-4858-aa01-7361ee71e449",
          "showTitle": false,
          "title": ""
        },
        "id": "yEUzDljeRwMs"
      },
      "outputs": [],
      "source": []
    }
  ],
  "metadata": {
    "application/vnd.databricks.v1+notebook": {
      "dashboards": [],
      "environmentMetadata": null,
      "language": "python",
      "notebookMetadata": {},
      "notebookName": "14_groupBy_agg_pivot_cube",
      "widgets": {}
    },
    "colab": {
      "provenance": [],
      "authorship_tag": "ABX9TyN8muvN5gN0SWEQXoD2w7M4",
      "include_colab_link": true
    },
    "kernelspec": {
      "display_name": "Python 3",
      "name": "python3"
    },
    "language_info": {
      "name": "python"
    }
  },
  "nbformat": 4,
  "nbformat_minor": 0
}