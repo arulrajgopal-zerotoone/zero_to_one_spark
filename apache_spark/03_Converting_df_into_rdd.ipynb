{
 "cells": [
  {
   "cell_type": "markdown",
   "metadata": {
    "application/vnd.databricks.v1+cell": {
     "cellMetadata": {},
     "inputWidgets": {},
     "nuid": "a244737b-4274-49a1-bec7-2e585518cb85",
     "showTitle": false,
     "title": ""
    },
    "colab_type": "text",
    "id": "view-in-github"
   },
   "source": [
    "<a href=\"https://colab.research.google.com/github/ArulrajGopal/Spark-Guide/blob/main/04_Converting_df_into_rdd.ipynb\" target=\"_parent\"><img src=\"https://colab.research.google.com/assets/colab-badge.svg\" alt=\"Open In Colab\"/></a>"
   ]
  },
  {
   "cell_type": "code",
   "execution_count": 0,
   "metadata": {
    "application/vnd.databricks.v1+cell": {
     "cellMetadata": {},
     "inputWidgets": {},
     "nuid": "2b2525a9-e0e5-450a-b1d0-946f8b0a73bf",
     "showTitle": false,
     "title": ""
    },
    "colab": {
     "base_uri": "https://localhost:8080/"
    },
    "id": "1h0a2D3UWdzf",
    "outputId": "086c1eb6-fe6f-4d6a-ab2b-52c51af6390f"
   },
   "outputs": [],
   "source": [
    "!pip install pyspark\n",
    "\n",
    "from pyspark.sql import SparkSession\n",
    "\n",
    "#create spark session\n",
    "spark= SparkSession.builder.appName('mysparksession').getOrCreate()\n",
    "\n",
    "#create spark context\n",
    "sc = spark.sparkContext"
   ]
  },
  {
   "cell_type": "markdown",
   "metadata": {
    "application/vnd.databricks.v1+cell": {
     "cellMetadata": {},
     "inputWidgets": {},
     "nuid": "18548b6c-8f88-4ade-b028-26bc95da7ec0",
     "showTitle": false,
     "title": ""
    },
    "id": "6YKtGzQoCEJ7"
   },
   "source": [
    "## Converting DF into RDD"
   ]
  },
  {
   "cell_type": "code",
   "execution_count": 0,
   "metadata": {
    "application/vnd.databricks.v1+cell": {
     "cellMetadata": {},
     "inputWidgets": {},
     "nuid": "38371391-8988-4524-af81-0b1254ea2c83",
     "showTitle": false,
     "title": ""
    },
    "colab": {
     "base_uri": "https://localhost:8080/"
    },
    "id": "oRegGGvkV5bw",
    "outputId": "a409581a-0991-4f83-ab6e-1ae16d8388c8"
   },
   "outputs": [],
   "source": [
    "data = [\n",
    "    (\"John\", 28, \"New York\"),\n",
    "    (\"Jane\", 24, \"San Francisco\"),\n",
    "    (\"Bob\", 22, \"Los Angeles\"),\n",
    "    (\"Alice\", 30, \"Chicago\")\n",
    "]\n",
    "\n",
    "Columns = [\"Name\", \"Age\",\"City\" ]\n",
    "\n",
    "\n",
    "df = spark.createDataFrame(data, Columns)\n",
    "\n",
    "\n",
    "df.show()"
   ]
  },
  {
   "cell_type": "code",
   "execution_count": 0,
   "metadata": {
    "application/vnd.databricks.v1+cell": {
     "cellMetadata": {},
     "inputWidgets": {},
     "nuid": "40cf1895-4d1e-45cc-9301-68c0df1d30f5",
     "showTitle": false,
     "title": ""
    },
    "id": "B3iQqPz9V7US"
   },
   "outputs": [],
   "source": [
    "coverted_rdd = df.rdd"
   ]
  },
  {
   "cell_type": "code",
   "execution_count": 0,
   "metadata": {
    "application/vnd.databricks.v1+cell": {
     "cellMetadata": {},
     "inputWidgets": {},
     "nuid": "1f6af2f0-19c4-4e7a-9c74-7a7095e2ecb3",
     "showTitle": false,
     "title": ""
    },
    "colab": {
     "base_uri": "https://localhost:8080/"
    },
    "id": "yGFaPQdDV7Rr",
    "outputId": "500df58c-f36b-41d6-878d-4ffb44a12bec"
   },
   "outputs": [],
   "source": [
    "coverted_rdd.take(10)"
   ]
  },
  {
   "cell_type": "code",
   "execution_count": 0,
   "metadata": {
    "application/vnd.databricks.v1+cell": {
     "cellMetadata": {},
     "inputWidgets": {},
     "nuid": "ee4de786-f622-429c-b387-dd44a88f79da",
     "showTitle": false,
     "title": ""
    },
    "id": "37TYQkGkEptY"
   },
   "outputs": [],
   "source": []
  }
 ],
 "metadata": {
  "application/vnd.databricks.v1+notebook": {
   "dashboards": [],
   "environmentMetadata": null,
   "language": "python",
   "notebookMetadata": {},
   "notebookName": "03_Converting_df_into_rdd",
   "widgets": {}
  },
  "colab": {
   "authorship_tag": "ABX9TyMkoBOI5wibVhuVJ7Y95lWb",
   "include_colab_link": true,
   "mount_file_id": "18-poI3ZmLoG-obz8rWMPZ2BBz69SzE-g",
   "provenance": []
  },
  "kernelspec": {
   "display_name": "Python 3",
   "name": "python3"
  },
  "language_info": {
   "name": "python"
  }
 },
 "nbformat": 4,
 "nbformat_minor": 0
}
