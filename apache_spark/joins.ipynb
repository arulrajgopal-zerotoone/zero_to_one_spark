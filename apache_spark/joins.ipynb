{
 "cells": [
  {
   "cell_type": "markdown",
   "metadata": {
    "application/vnd.databricks.v1+cell": {
     "cellMetadata": {},
     "inputWidgets": {},
     "nuid": "f7186f1e-d243-41fd-854a-06b314912394",
     "showTitle": false,
     "title": ""
    },
    "colab_type": "text",
    "id": "view-in-github"
   },
   "source": [
    "<a href=\"https://colab.research.google.com/github/ArulrajGopal/Spark-Guide/blob/main/09_joins.ipynb\" target=\"_parent\"><img src=\"https://colab.research.google.com/assets/colab-badge.svg\" alt=\"Open In Colab\"/></a>"
   ]
  },
  {
   "cell_type": "code",
   "execution_count": 0,
   "metadata": {
    "application/vnd.databricks.v1+cell": {
     "cellMetadata": {},
     "inputWidgets": {},
     "nuid": "82ac370d-369e-4575-b056-39a226428ac3",
     "showTitle": false,
     "title": ""
    },
    "colab": {
     "base_uri": "https://localhost:8080/"
    },
    "id": "QCF5-hhC5vLG",
    "outputId": "6f0c4f39-21b4-4d85-c2f3-7c5ad6d0d57e"
   },
   "outputs": [],
   "source": [
    "!pip install pyspark\n",
    "\n",
    "from pyspark.sql import SparkSession\n",
    "\n",
    "#create spark session\n",
    "spark= SparkSession.builder.appName('mysparksession').getOrCreate()\n",
    "\n",
    "#create spark context\n",
    "sc = spark.sparkContext"
   ]
  },
  {
   "cell_type": "code",
   "execution_count": 0,
   "metadata": {
    "application/vnd.databricks.v1+cell": {
     "cellMetadata": {},
     "inputWidgets": {},
     "nuid": "0e4fbbe3-ad11-4ece-95eb-d9c620a58f1d",
     "showTitle": false,
     "title": ""
    },
    "id": "Hh6C5KeK-GHl"
   },
   "outputs": [],
   "source": [
    "## spark joins\n",
    "# 1. inner\n",
    "# 2. outer, full, fullouter, full_outer\n",
    "# 3. left, leftouter, left_outer\n",
    "# 4. right, rightouter, right_outer\n",
    "# 5. cross\n",
    "# 6. anti, leftanti, left_anti\n",
    "# 7. semi, leftsemi, left_semi"
   ]
  },
  {
   "cell_type": "code",
   "execution_count": 0,
   "metadata": {
    "application/vnd.databricks.v1+cell": {
     "cellMetadata": {},
     "inputWidgets": {},
     "nuid": "6074db39-0623-4ca2-bd49-76090887a799",
     "showTitle": false,
     "title": ""
    },
    "colab": {
     "base_uri": "https://localhost:8080/"
    },
    "id": "nOs1wzo_-dZL",
    "outputId": "d1d8fb29-21ea-494d-ff3d-7fd3e7ede35c"
   },
   "outputs": [],
   "source": [
    "\n",
    "emp = [(1,\"Smith\",-1,\"2018\",\"10\",\"M\",3000), \\\n",
    "    (2,\"Rose\",1,\"2010\",\"20\",\"M\",4000), \\\n",
    "    (3,\"Williams\",1,\"2010\",\"10\",\"M\",1000), \\\n",
    "    (4,\"Jones\",2,\"2005\",\"10\",\"F\",2000), \\\n",
    "    (5,\"Brown\",2,\"2010\",\"40\",\"\",-1), \\\n",
    "      (6,\"Brown\",2,\"2010\",\"50\",\"\",-1) \\\n",
    "  ]\n",
    "empColumns = [\"emp_id\",\"name\",\"superior_emp_id\",\"year_joined\", \\\n",
    "       \"emp_dept_id\",\"gender\",\"salary\"]\n",
    "\n",
    "empDF = spark.createDataFrame(data=emp, schema = empColumns)\n",
    "\n",
    "\n",
    "dept = [(\"Finance\",10), \\\n",
    "    (\"Marketing\",20), \\\n",
    "    (\"Sales\",30), \\\n",
    "    (\"IT\",40) \\\n",
    "  ]\n",
    "deptColumns = [\"dept_name\",\"dept_id\"]\n",
    "deptDF = spark.createDataFrame(data=dept, schema = deptColumns)\n",
    "\n",
    "empDF.printSchema()\n",
    "deptDF.printSchema()\n",
    "empDF.show(truncate=False)\n",
    "deptDF.show(truncate=False)"
   ]
  },
  {
   "cell_type": "code",
   "execution_count": 0,
   "metadata": {
    "application/vnd.databricks.v1+cell": {
     "cellMetadata": {},
     "inputWidgets": {},
     "nuid": "1e8d90c6-7cb9-4662-a6fa-9987ad8a7277",
     "showTitle": false,
     "title": ""
    },
    "colab": {
     "base_uri": "https://localhost:8080/"
    },
    "id": "20bni5YP-d_S",
    "outputId": "002eb75e-666a-4bdf-97fd-9a3deb1e0178"
   },
   "outputs": [],
   "source": [
    "#inner join\n",
    "empDF.join(deptDF,empDF.emp_dept_id ==  deptDF.dept_id,\"inner\") \\\n",
    "     .show(truncate=False)"
   ]
  },
  {
   "cell_type": "code",
   "execution_count": 0,
   "metadata": {
    "application/vnd.databricks.v1+cell": {
     "cellMetadata": {},
     "inputWidgets": {},
     "nuid": "1ad4180c-1634-465a-bda7-df3160187b8a",
     "showTitle": false,
     "title": ""
    },
    "colab": {
     "base_uri": "https://localhost:8080/"
    },
    "id": "4Eucg4I8-d9K",
    "outputId": "cb43b9fc-dc05-4b5f-8587-5c46252e2a9f"
   },
   "outputs": [],
   "source": [
    "#outer\n",
    "empDF.join(deptDF,empDF.emp_dept_id ==  deptDF.dept_id,\"outer\")\\\n",
    "    .show(truncate=False)\n"
   ]
  },
  {
   "cell_type": "code",
   "execution_count": 0,
   "metadata": {
    "application/vnd.databricks.v1+cell": {
     "cellMetadata": {},
     "inputWidgets": {},
     "nuid": "076b5551-7371-42bb-9399-3c2431f8e0ef",
     "showTitle": false,
     "title": ""
    },
    "colab": {
     "base_uri": "https://localhost:8080/"
    },
    "id": "-eng4Mx9-1zk",
    "outputId": "302201d2-4f00-4edb-a5b4-cb6546725b0e"
   },
   "outputs": [],
   "source": [
    "# right\n",
    "empDF.join(deptDF,empDF.emp_dept_id ==  deptDF.dept_id,\"right\") \\\n",
    "   .show(truncate=False)"
   ]
  },
  {
   "cell_type": "code",
   "execution_count": 0,
   "metadata": {
    "application/vnd.databricks.v1+cell": {
     "cellMetadata": {},
     "inputWidgets": {},
     "nuid": "901ea8e9-4b28-4333-9eca-0df8a6561a54",
     "showTitle": false,
     "title": ""
    },
    "colab": {
     "base_uri": "https://localhost:8080/"
    },
    "id": "JLOmHy1jD8vS",
    "outputId": "fec4010c-0dad-43a9-c38e-f0f1e473057f"
   },
   "outputs": [],
   "source": [
    "# left\n",
    "empDF.join(deptDF,empDF.emp_dept_id ==  deptDF.dept_id,\"left\")\\\n",
    "    .show(truncate=False)"
   ]
  },
  {
   "cell_type": "code",
   "execution_count": 0,
   "metadata": {
    "application/vnd.databricks.v1+cell": {
     "cellMetadata": {},
     "inputWidgets": {},
     "nuid": "6df89683-6e98-4df4-8917-c534d1bb70b6",
     "showTitle": false,
     "title": ""
    },
    "id": "u1TttOQKE4rU"
   },
   "outputs": [],
   "source": [
    "from pyspark.sql.functions import col"
   ]
  },
  {
   "cell_type": "code",
   "execution_count": 0,
   "metadata": {
    "application/vnd.databricks.v1+cell": {
     "cellMetadata": {},
     "inputWidgets": {},
     "nuid": "38e0f7c1-3d9b-4310-98d1-9c9d4736202d",
     "showTitle": false,
     "title": ""
    },
    "colab": {
     "base_uri": "https://localhost:8080/"
    },
    "id": "G8_YkGN2EtOX",
    "outputId": "341e7305-4e6f-4789-931a-8c9850e54c78"
   },
   "outputs": [],
   "source": [
    "# left\n",
    "empDF.join(deptDF,empDF.emp_dept_id ==  deptDF.dept_id,\"left\")\\\n",
    "      .filter(col(\"dept_id\").isNull())\\\n",
    "      .drop(\"dept_name\",\"dept_id\")\\\n",
    "      .show(truncate=False)"
   ]
  },
  {
   "cell_type": "code",
   "execution_count": 0,
   "metadata": {
    "application/vnd.databricks.v1+cell": {
     "cellMetadata": {},
     "inputWidgets": {},
     "nuid": "25161825-b7a2-42a4-8d6b-4c15641b7464",
     "showTitle": false,
     "title": ""
    },
    "colab": {
     "base_uri": "https://localhost:8080/"
    },
    "id": "Ghnifo0LD51X",
    "outputId": "a693b854-bbca-4913-e4f3-cf5b2e6c6280"
   },
   "outputs": [],
   "source": [
    "# left anti join\n",
    "empDF.join(deptDF,empDF.emp_dept_id ==  deptDF.dept_id,\"leftanti\") \\\n",
    "   .show(truncate=False)"
   ]
  },
  {
   "cell_type": "code",
   "execution_count": 0,
   "metadata": {
    "application/vnd.databricks.v1+cell": {
     "cellMetadata": {},
     "inputWidgets": {},
     "nuid": "46b0abff-16cb-46c9-a331-27cef41f161f",
     "showTitle": false,
     "title": ""
    },
    "colab": {
     "base_uri": "https://localhost:8080/"
    },
    "id": "N7MX2OMY-6CD",
    "outputId": "48d59e86-039f-43e6-c93f-76eb94f1eab5"
   },
   "outputs": [],
   "source": [
    "# left_semi\n",
    "empDF.join(deptDF,empDF.emp_dept_id ==  deptDF.dept_id,\"leftsemi\") \\\n",
    "   .show(truncate=False)"
   ]
  },
  {
   "cell_type": "code",
   "execution_count": 0,
   "metadata": {
    "application/vnd.databricks.v1+cell": {
     "cellMetadata": {},
     "inputWidgets": {},
     "nuid": "64107023-9a21-47cb-a01e-8202fef03278",
     "showTitle": false,
     "title": ""
    },
    "id": "xERQA4z6_Bkf"
   },
   "outputs": [],
   "source": [
    "# join in multiple dataframes\n",
    "# f1.join(df2,df1.id1 == df2.id2,\"inner\") \\\n",
    "#    .join(df3,df1.id1 == df3.id3,\"inner\")\n"
   ]
  },
  {
   "cell_type": "code",
   "execution_count": 0,
   "metadata": {
    "application/vnd.databricks.v1+cell": {
     "cellMetadata": {},
     "inputWidgets": {},
     "nuid": "6bd2a443-5889-4ea1-80db-b046d7e77f5a",
     "showTitle": false,
     "title": ""
    },
    "id": "26A7notf_Lkp"
   },
   "outputs": [],
   "source": []
  }
 ],
 "metadata": {
  "application/vnd.databricks.v1+notebook": {
   "dashboards": [],
   "environmentMetadata": null,
   "language": "python",
   "notebookMetadata": {},
   "notebookName": "09_joins",
   "widgets": {}
  },
  "colab": {
   "authorship_tag": "ABX9TyMaEvO1ct+XnUvssZwKoVeR",
   "include_colab_link": true,
   "provenance": []
  },
  "kernelspec": {
   "display_name": "Python 3",
   "name": "python3"
  },
  "language_info": {
   "name": "python"
  }
 },
 "nbformat": 4,
 "nbformat_minor": 0
}
