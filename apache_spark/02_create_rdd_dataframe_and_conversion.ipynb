{
  "nbformat": 4,
  "nbformat_minor": 0,
  "metadata": {
    "colab": {
      "provenance": [],
      "authorship_tag": "ABX9TyNm8B99ezWzJI2G17J2lWRn",
      "include_colab_link": true
    },
    "kernelspec": {
      "name": "python3",
      "display_name": "Python 3"
    },
    "language_info": {
      "name": "python"
    }
  },
  "cells": [
    {
      "cell_type": "markdown",
      "metadata": {
        "id": "view-in-github",
        "colab_type": "text"
      },
      "source": [
        "<a href=\"https://colab.research.google.com/github/arulrajgopal-zerotoone/zero_to_one_spark/blob/main/apache_spark/02_create_rdd_dataframe_and_conversion.ipynb\" target=\"_parent\"><img src=\"https://colab.research.google.com/assets/colab-badge.svg\" alt=\"Open In Colab\"/></a>"
      ]
    },
    {
      "cell_type": "code",
      "source": [
        "!pip install pyspark\n",
        "\n",
        "from pyspark.sql import SparkSession\n",
        "\n",
        "#create spark session\n",
        "spark= SparkSession.builder.appName('mysparksession').getOrCreate()\n",
        "\n",
        "#create spark context\n",
        "sc = spark.sparkContext"
      ],
      "metadata": {
        "colab": {
          "base_uri": "https://localhost:8080/"
        },
        "id": "3EGLF_rs9lPn",
        "outputId": "65494a65-8b88-4389-e7b1-aaa301d59382"
      },
      "execution_count": 2,
      "outputs": [
        {
          "output_type": "stream",
          "name": "stdout",
          "text": [
            "Collecting pyspark\n",
            "  Downloading pyspark-3.5.3.tar.gz (317.3 MB)\n",
            "\u001b[2K     \u001b[90m━━━━━━━━━━━━━━━━━━━━━━━━━━━━━━━━━━━━━━━━\u001b[0m \u001b[32m317.3/317.3 MB\u001b[0m \u001b[31m3.7 MB/s\u001b[0m eta \u001b[36m0:00:00\u001b[0m\n",
            "\u001b[?25h  Preparing metadata (setup.py) ... \u001b[?25l\u001b[?25hdone\n",
            "Requirement already satisfied: py4j==0.10.9.7 in /usr/local/lib/python3.10/dist-packages (from pyspark) (0.10.9.7)\n",
            "Building wheels for collected packages: pyspark\n",
            "  Building wheel for pyspark (setup.py) ... \u001b[?25l\u001b[?25hdone\n",
            "  Created wheel for pyspark: filename=pyspark-3.5.3-py2.py3-none-any.whl size=317840625 sha256=1ae323526119cb9c0261dd144dd408e487593a03215f3e8d22d84ac15eef3ede\n",
            "  Stored in directory: /root/.cache/pip/wheels/1b/3a/92/28b93e2fbfdbb07509ca4d6f50c5e407f48dce4ddbda69a4ab\n",
            "Successfully built pyspark\n",
            "Installing collected packages: pyspark\n",
            "Successfully installed pyspark-3.5.3\n"
          ]
        }
      ]
    },
    {
      "cell_type": "markdown",
      "source": [
        "#Create a RDD"
      ],
      "metadata": {
        "id": "ewXq_60Y-nGt"
      }
    },
    {
      "cell_type": "code",
      "source": [
        "data = [('Alice', 25), ('Bob', 30), ('Charlie', 28)]\n",
        "rdd = sc.parallelize(data)\n",
        "rdd.collect()"
      ],
      "metadata": {
        "id": "2s42tJGm92QM",
        "outputId": "c14e49f2-931f-4d95-cf0d-a8e42e34ee66",
        "colab": {
          "base_uri": "https://localhost:8080/"
        }
      },
      "execution_count": null,
      "outputs": [
        {
          "output_type": "execute_result",
          "data": {
            "text/plain": [
              "[('Alice', 25), ('Bob', 30), ('Charlie', 28)]"
            ]
          },
          "metadata": {},
          "execution_count": 2
        }
      ]
    },
    {
      "cell_type": "code",
      "source": [
        "print(type(rdd))"
      ],
      "metadata": {
        "id": "vHDUnYwR-fnP",
        "outputId": "55f185b7-2e9e-4bb0-c4cb-d66ecf87a1e1",
        "colab": {
          "base_uri": "https://localhost:8080/"
        }
      },
      "execution_count": null,
      "outputs": [
        {
          "output_type": "stream",
          "name": "stdout",
          "text": [
            "<class 'pyspark.rdd.RDD'>\n"
          ]
        }
      ]
    },
    {
      "cell_type": "markdown",
      "source": [
        "#Create a Dataframe"
      ],
      "metadata": {
        "id": "ug1aVUx--ooT"
      }
    },
    {
      "cell_type": "code",
      "execution_count": 3,
      "metadata": {
        "colab": {
          "base_uri": "https://localhost:8080/"
        },
        "id": "ffvBdAEr9kN6",
        "outputId": "1465800a-5afe-4dc7-ab6e-a7c22279655d"
      },
      "outputs": [
        {
          "output_type": "stream",
          "name": "stdout",
          "text": [
            "+-----+---+-------------+\n",
            "| Name|Age|         City|\n",
            "+-----+---+-------------+\n",
            "| John| 28|     New York|\n",
            "| Jane| 24|San Francisco|\n",
            "|  Bob| 22|  Los Angeles|\n",
            "|Alice| 30|      Chicago|\n",
            "+-----+---+-------------+\n",
            "\n"
          ]
        }
      ],
      "source": [
        "#using createDataFrame\n",
        "data = [\n",
        "    (\"John\", 28, \"New York\"),\n",
        "    (\"Jane\", 24, \"San Francisco\"),\n",
        "    (\"Bob\", 22, \"Los Angeles\"),\n",
        "    (\"Alice\", 30, \"Chicago\")\n",
        "]\n",
        "\n",
        "columns = [\"Name\", \"Age\",\"City\" ]\n",
        "\n",
        "\n",
        "df = spark.createDataFrame(data, columns)\n",
        "\n",
        "\n",
        "df.show()"
      ]
    },
    {
      "cell_type": "code",
      "source": [
        "#using range\n",
        "df1 = spark.range(0)\n",
        "df1.show()\n"
      ],
      "metadata": {
        "id": "bcb09BaSa9HD",
        "outputId": "9016e2dd-630f-407c-bf39-48a205d67b39",
        "colab": {
          "base_uri": "https://localhost:8080/"
        }
      },
      "execution_count": 4,
      "outputs": [
        {
          "output_type": "stream",
          "name": "stdout",
          "text": [
            "+---+\n",
            "| id|\n",
            "+---+\n",
            "+---+\n",
            "\n"
          ]
        }
      ]
    },
    {
      "cell_type": "code",
      "source": [
        "#create empty df\n",
        "from pyspark.sql.types import StructType,StructField, StringType, IntegerType\n",
        "\n",
        "\n",
        "schema = StructType([\n",
        "    StructField(\"Name\", StringType(), True),\n",
        "    StructField(\"Age\", IntegerType(), True)\n",
        "])\n",
        "\n",
        "\n",
        "empty_df = spark.createDataFrame([], schema)\n",
        "\n",
        "empty_df.show()\n"
      ],
      "metadata": {
        "id": "OH_wO6YebBDF",
        "outputId": "26ff5849-48a8-478a-f9f6-4541cce1701f",
        "colab": {
          "base_uri": "https://localhost:8080/"
        }
      },
      "execution_count": 6,
      "outputs": [
        {
          "output_type": "stream",
          "name": "stdout",
          "text": [
            "+----+---+\n",
            "|Name|Age|\n",
            "+----+---+\n",
            "+----+---+\n",
            "\n"
          ]
        }
      ]
    },
    {
      "cell_type": "markdown",
      "source": [
        "#Convert df into rdd"
      ],
      "metadata": {
        "id": "CxPWztMS-s-1"
      }
    },
    {
      "cell_type": "code",
      "source": [
        "coverted_rdd = df.rdd\n",
        "\n",
        "coverted_rdd.collect()"
      ],
      "metadata": {
        "id": "pr_PlfDn-se_",
        "outputId": "ccbd8dde-af8b-4559-8580-4233e067b739",
        "colab": {
          "base_uri": "https://localhost:8080/"
        }
      },
      "execution_count": null,
      "outputs": [
        {
          "output_type": "execute_result",
          "data": {
            "text/plain": [
              "[Row(Name='John', Age=28, City='New York'),\n",
              " Row(Name='Jane', Age=24, City='San Francisco'),\n",
              " Row(Name='Bob', Age=22, City='Los Angeles'),\n",
              " Row(Name='Alice', Age=30, City='Chicago')]"
            ]
          },
          "metadata": {},
          "execution_count": 5
        }
      ]
    },
    {
      "cell_type": "code",
      "source": [
        "coverted_rdd.take(2)"
      ],
      "metadata": {
        "id": "gPQ-JRVf_V_A",
        "outputId": "8458604b-4148-4f7a-edd9-484e1374e4e2",
        "colab": {
          "base_uri": "https://localhost:8080/"
        }
      },
      "execution_count": null,
      "outputs": [
        {
          "output_type": "execute_result",
          "data": {
            "text/plain": [
              "[Row(Name='John', Age=28, City='New York'),\n",
              " Row(Name='Jane', Age=24, City='San Francisco')]"
            ]
          },
          "metadata": {},
          "execution_count": 6
        }
      ]
    },
    {
      "cell_type": "markdown",
      "source": [
        "#convert rdd into df"
      ],
      "metadata": {
        "id": "IcdpTlsj_kn9"
      }
    },
    {
      "cell_type": "code",
      "source": [
        "rdd.collect()"
      ],
      "metadata": {
        "id": "pcoG6_D2_2qQ",
        "outputId": "006c16a8-c034-4f0a-e33c-96094a55365e",
        "colab": {
          "base_uri": "https://localhost:8080/"
        }
      },
      "execution_count": null,
      "outputs": [
        {
          "output_type": "execute_result",
          "data": {
            "text/plain": [
              "[('Alice', 25), ('Bob', 30), ('Charlie', 28)]"
            ]
          },
          "metadata": {},
          "execution_count": 7
        }
      ]
    },
    {
      "cell_type": "code",
      "source": [
        "df_from_rdd = rdd.toDF()\n",
        "df_from_rdd.show()"
      ],
      "metadata": {
        "id": "tO4Rzf1v_1QS",
        "outputId": "67707183-9a56-4c5c-d0d3-857612dcb9fa",
        "colab": {
          "base_uri": "https://localhost:8080/"
        }
      },
      "execution_count": null,
      "outputs": [
        {
          "output_type": "stream",
          "name": "stdout",
          "text": [
            "+-------+---+\n",
            "|     _1| _2|\n",
            "+-------+---+\n",
            "|  Alice| 25|\n",
            "|    Bob| 30|\n",
            "|Charlie| 28|\n",
            "+-------+---+\n",
            "\n"
          ]
        }
      ]
    }
  ]
}