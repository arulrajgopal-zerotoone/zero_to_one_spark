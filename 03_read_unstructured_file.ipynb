{
  "cells": [
    {
      "cell_type": "markdown",
      "metadata": {
        "id": "view-in-github",
        "colab_type": "text"
      },
      "source": [
        "<a href=\"https://colab.research.google.com/github/arulrajgopal-zerotoone/zero_to_one_spark/blob/main/03_read_unstructured_file.ipynb\" target=\"_parent\"><img src=\"https://colab.research.google.com/assets/colab-badge.svg\" alt=\"Open In Colab\"/></a>"
      ]
    },
    {
      "cell_type": "code",
      "execution_count": 1,
      "metadata": {
        "application/vnd.databricks.v1+cell": {
          "cellMetadata": {},
          "inputWidgets": {},
          "nuid": "be128ca0-0649-4925-9751-b19914513faf",
          "showTitle": false,
          "title": ""
        },
        "colab": {
          "base_uri": "https://localhost:8080/"
        },
        "id": "1h0a2D3UWdzf",
        "outputId": "dd0794ad-0a1c-4c59-ef65-7ecbb62b4b60"
      },
      "outputs": [
        {
          "output_type": "stream",
          "name": "stdout",
          "text": [
            "Collecting pyspark\n",
            "  Downloading pyspark-3.5.3.tar.gz (317.3 MB)\n",
            "\u001b[2K     \u001b[90m━━━━━━━━━━━━━━━━━━━━━━━━━━━━━━━━━━━━━━━━\u001b[0m \u001b[32m317.3/317.3 MB\u001b[0m \u001b[31m4.2 MB/s\u001b[0m eta \u001b[36m0:00:00\u001b[0m\n",
            "\u001b[?25h  Preparing metadata (setup.py) ... \u001b[?25l\u001b[?25hdone\n",
            "Requirement already satisfied: py4j==0.10.9.7 in /usr/local/lib/python3.10/dist-packages (from pyspark) (0.10.9.7)\n",
            "Building wheels for collected packages: pyspark\n",
            "  Building wheel for pyspark (setup.py) ... \u001b[?25l\u001b[?25hdone\n",
            "  Created wheel for pyspark: filename=pyspark-3.5.3-py2.py3-none-any.whl size=317840625 sha256=c77ecf7b669b70326385b7ee86f5d458d540e272a463f9fa7b0ab1939081dce9\n",
            "  Stored in directory: /root/.cache/pip/wheels/1b/3a/92/28b93e2fbfdbb07509ca4d6f50c5e407f48dce4ddbda69a4ab\n",
            "Successfully built pyspark\n",
            "Installing collected packages: pyspark\n",
            "Successfully installed pyspark-3.5.3\n"
          ]
        }
      ],
      "source": [
        "!pip install pyspark\n",
        "\n",
        "from pyspark.sql import SparkSession\n",
        "\n",
        "#create spark session\n",
        "spark= SparkSession.builder.appName('mysparksession').getOrCreate()\n",
        "\n",
        "#create spark context\n",
        "sc = spark.sparkContext"
      ]
    },
    {
      "cell_type": "code",
      "execution_count": 3,
      "metadata": {
        "application/vnd.databricks.v1+cell": {
          "cellMetadata": {},
          "inputWidgets": {},
          "nuid": "6a9fd095-3fdd-4df1-89aa-4958a98a2329",
          "showTitle": false,
          "title": ""
        },
        "id": "BimzV4p49F4U",
        "colab": {
          "base_uri": "https://localhost:8080/"
        },
        "outputId": "357a0845-80cc-4f90-cbe8-8761b797cdfe"
      },
      "outputs": [
        {
          "output_type": "stream",
          "name": "stdout",
          "text": [
            "english_passage.txt  sample_data\n"
          ]
        }
      ],
      "source": [
        "!ls"
      ]
    },
    {
      "cell_type": "code",
      "execution_count": 4,
      "metadata": {
        "application/vnd.databricks.v1+cell": {
          "cellMetadata": {},
          "inputWidgets": {},
          "nuid": "85648612-666f-4e1c-ac03-e81d13db3564",
          "showTitle": false,
          "title": ""
        },
        "id": "EtCEx7Wua168"
      },
      "outputs": [],
      "source": [
        "text_file = sc.textFile('/content/english_passage.txt')"
      ]
    },
    {
      "cell_type": "code",
      "execution_count": 6,
      "metadata": {
        "application/vnd.databricks.v1+cell": {
          "cellMetadata": {},
          "inputWidgets": {},
          "nuid": "30d0b426-39ed-4e40-86f7-bb154f134ba9",
          "showTitle": false,
          "title": ""
        },
        "id": "uPmwaegvbQKw"
      },
      "outputs": [],
      "source": [
        "rdd_text_file = text_file\\\n",
        "                    .flatMap(lambda x: x.split(' '))\\\n",
        "                    .map(lambda x : (x,1))\\\n",
        "                    .reduceByKey(lambda x,y:x+y)"
      ]
    },
    {
      "cell_type": "code",
      "execution_count": 7,
      "metadata": {
        "application/vnd.databricks.v1+cell": {
          "cellMetadata": {},
          "inputWidgets": {},
          "nuid": "8089be07-b80f-425c-91dc-f61bb1591271",
          "showTitle": false,
          "title": ""
        },
        "colab": {
          "base_uri": "https://localhost:8080/"
        },
        "id": "7VRefKwdbQso",
        "outputId": "c864f067-c0d9-47bf-d317-867b4a12b6b7"
      },
      "outputs": [
        {
          "output_type": "stream",
          "name": "stdout",
          "text": [
            "+--------+-------+\n",
            "| column1|column2|\n",
            "+--------+-------+\n",
            "|  Morris|      6|\n",
            "|   lived|      1|\n",
            "|      in|      6|\n",
            "|    shop|      1|\n",
            "|     was|     10|\n",
            "|    poor|      1|\n",
            "| farmer.|      1|\n",
            "|   large|      3|\n",
            "|families|      1|\n",
            "|     One|      1|\n",
            "|    fine|      1|\n",
            "|   Mike,|      1|\n",
            "|      of|      6|\n",
            "|    able|      1|\n",
            "|    feed|      2|\n",
            "|     his|     12|\n",
            "| family,|      3|\n",
            "| decided|      2|\n",
            "|   leave|      1|\n",
            "|    move|      1|\n",
            "+--------+-------+\n",
            "only showing top 20 rows\n",
            "\n"
          ]
        }
      ],
      "source": [
        "df = rdd_text_file\\\n",
        "              .toDF([\"column1\", \"column2\"])\n",
        "df.show()"
      ]
    }
  ],
  "metadata": {
    "application/vnd.databricks.v1+notebook": {
      "dashboards": [],
      "environmentMetadata": null,
      "language": "python",
      "notebookMetadata": {},
      "notebookName": "04_Read_write_unstructured_file",
      "widgets": {}
    },
    "colab": {
      "provenance": [],
      "include_colab_link": true
    },
    "kernelspec": {
      "display_name": "Python 3",
      "name": "python3"
    },
    "language_info": {
      "name": "python"
    }
  },
  "nbformat": 4,
  "nbformat_minor": 0
}