{
  "nbformat": 4,
  "nbformat_minor": 0,
  "metadata": {
    "colab": {
      "provenance": [],
      "authorship_tag": "ABX9TyMYGTdn7hl+iVpq+nmF5mFx",
      "include_colab_link": true
    },
    "kernelspec": {
      "name": "python3",
      "display_name": "Python 3"
    },
    "language_info": {
      "name": "python"
    }
  },
  "cells": [
    {
      "cell_type": "markdown",
      "metadata": {
        "id": "view-in-github",
        "colab_type": "text"
      },
      "source": [
        "<a href=\"https://colab.research.google.com/github/ArulrajGopal/Spark-Guide/blob/main/GogCol/15_crosstab_cube.ipynb\" target=\"_parent\"><img src=\"https://colab.research.google.com/assets/colab-badge.svg\" alt=\"Open In Colab\"/></a>"
      ]
    },
    {
      "cell_type": "code",
      "execution_count": 3,
      "metadata": {
        "id": "xRXIAgiO5F9j",
        "colab": {
          "base_uri": "https://localhost:8080/"
        },
        "outputId": "3b1bf4d7-677b-4767-f9c0-9b41c7742579"
      },
      "outputs": [
        {
          "output_type": "stream",
          "name": "stdout",
          "text": [
            "Requirement already satisfied: pyspark in /usr/local/lib/python3.10/dist-packages (3.5.0)\n",
            "Requirement already satisfied: py4j==0.10.9.7 in /usr/local/lib/python3.10/dist-packages (from pyspark) (0.10.9.7)\n"
          ]
        }
      ],
      "source": [
        "!pip install pyspark\n",
        "\n",
        "from pyspark.sql import SparkSession\n",
        "\n",
        "#create spark session\n",
        "spark= SparkSession.builder.appName('mysparksession').getOrCreate()\n",
        "\n",
        "#create spark context\n",
        "sc = spark.sparkContext"
      ]
    },
    {
      "cell_type": "code",
      "source": [
        "from pyspark.sql.functions import sum"
      ],
      "metadata": {
        "id": "7AfqH98UNSB9"
      },
      "execution_count": 6,
      "outputs": []
    },
    {
      "cell_type": "code",
      "source": [
        "data = [(\"Alice\", \"A\", 50),\n",
        "        (\"Bob\", \"B\", 60),\n",
        "        (\"Alice\", \"B\", 70),\n",
        "        (\"Bob\", \"A\", 80),\n",
        "        (\"Charlie\", \"A\", 90),\n",
        "        (\"Alice\", \"A\", 120),\n",
        "        (\"Bob\", \"B\", 150),\n",
        "        (\"Charlie\", \"B\", 200),\n",
        "        (\"Alice\", \"B\", 80),\n",
        "        (\"Charlie\", \"A\", 110)]\n",
        "\n",
        "# Define schema\n",
        "schema = [\"Name\", \"Category\", \"Value\"]\n",
        "\n",
        "# Create a DataFrame\n",
        "df = spark.createDataFrame(data, schema=schema)"
      ],
      "metadata": {
        "id": "b3ZbuocOL_kY"
      },
      "execution_count": 16,
      "outputs": []
    },
    {
      "cell_type": "code",
      "source": [
        "df.show()\n",
        "\n",
        "df.crosstab(\"Name\", \"Category\").show()"
      ],
      "metadata": {
        "id": "ZRK3KT52PryK",
        "outputId": "e47833f8-e0ed-448a-c7f3-28c266edfae9",
        "colab": {
          "base_uri": "https://localhost:8080/"
        }
      },
      "execution_count": 17,
      "outputs": [
        {
          "output_type": "stream",
          "name": "stdout",
          "text": [
            "+-------+--------+-----+\n",
            "|   Name|Category|Value|\n",
            "+-------+--------+-----+\n",
            "|  Alice|       A|   50|\n",
            "|    Bob|       B|   60|\n",
            "|  Alice|       B|   70|\n",
            "|    Bob|       A|   80|\n",
            "|Charlie|       A|   90|\n",
            "|  Alice|       A|  120|\n",
            "|    Bob|       B|  150|\n",
            "|Charlie|       B|  200|\n",
            "|  Alice|       B|   80|\n",
            "|Charlie|       A|  110|\n",
            "+-------+--------+-----+\n",
            "\n",
            "+-------------+---+---+\n",
            "|Name_Category|  A|  B|\n",
            "+-------------+---+---+\n",
            "|      Charlie|  2|  1|\n",
            "|          Bob|  1|  2|\n",
            "|        Alice|  2|  2|\n",
            "+-------------+---+---+\n",
            "\n"
          ]
        }
      ]
    }
  ]
}
