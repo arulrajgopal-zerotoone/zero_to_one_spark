{
  "nbformat": 4,
  "nbformat_minor": 0,
  "metadata": {
    "colab": {
      "provenance": [],
      "mount_file_id": "18-poI3ZmLoG-obz8rWMPZ2BBz69SzE-g",
      "authorship_tag": "ABX9TyOkiiQWGwhpuUxyVV4BvNnp",
      "include_colab_link": true
    },
    "kernelspec": {
      "name": "python3",
      "display_name": "Python 3"
    },
    "language_info": {
      "name": "python"
    }
  },
  "cells": [
    {
      "cell_type": "markdown",
      "metadata": {
        "id": "view-in-github",
        "colab_type": "text"
      },
      "source": [
        "<a href=\"https://colab.research.google.com/github/ArulrajGopal/Spark-Guide/blob/main/GogCol/07_schema_control.ipynb\" target=\"_parent\"><img src=\"https://colab.research.google.com/assets/colab-badge.svg\" alt=\"Open In Colab\"/></a>"
      ]
    },
    {
      "cell_type": "code",
      "source": [
        "!pip install pyspark\n",
        "\n",
        "from pyspark.sql import SparkSession\n",
        "\n",
        "#create spark session\n",
        "spark= SparkSession.builder.appName('mysparksession').getOrCreate()\n",
        "\n",
        "#create spark context\n",
        "sc = spark.sparkContext"
      ],
      "metadata": {
        "colab": {
          "base_uri": "https://localhost:8080/"
        },
        "id": "1h0a2D3UWdzf",
        "outputId": "06234408-f282-4f76-9a95-b010e289796c"
      },
      "execution_count": 1,
      "outputs": [
        {
          "output_type": "stream",
          "name": "stdout",
          "text": [
            "Collecting pyspark\n",
            "  Downloading pyspark-3.5.0.tar.gz (316.9 MB)\n",
            "\u001b[2K     \u001b[90m━━━━━━━━━━━━━━━━━━━━━━━━━━━━━━━━━━━━━━━━\u001b[0m \u001b[32m316.9/316.9 MB\u001b[0m \u001b[31m4.4 MB/s\u001b[0m eta \u001b[36m0:00:00\u001b[0m\n",
            "\u001b[?25h  Preparing metadata (setup.py) ... \u001b[?25l\u001b[?25hdone\n",
            "Requirement already satisfied: py4j==0.10.9.7 in /usr/local/lib/python3.10/dist-packages (from pyspark) (0.10.9.7)\n",
            "Building wheels for collected packages: pyspark\n",
            "  Building wheel for pyspark (setup.py) ... \u001b[?25l\u001b[?25hdone\n",
            "  Created wheel for pyspark: filename=pyspark-3.5.0-py2.py3-none-any.whl size=317425345 sha256=9383654f07cc2648fe28f3b8878f19d2cdd5adc469aee535863b9510d1f9d983\n",
            "  Stored in directory: /root/.cache/pip/wheels/41/4e/10/c2cf2467f71c678cfc8a6b9ac9241e5e44a01940da8fbb17fc\n",
            "Successfully built pyspark\n",
            "Installing collected packages: pyspark\n",
            "Successfully installed pyspark-3.5.0\n"
          ]
        }
      ]
    },
    {
      "cell_type": "code",
      "source": [
        "!ls"
      ],
      "metadata": {
        "colab": {
          "base_uri": "https://localhost:8080/"
        },
        "id": "0-EnCGPtAFe3",
        "outputId": "e32034d2-70d6-42dd-ecd6-5da98ca5441a"
      },
      "execution_count": null,
      "outputs": [
        {
          "output_type": "stream",
          "name": "stdout",
          "text": [
            "circuits.csv  sample_data\n"
          ]
        }
      ]
    },
    {
      "cell_type": "code",
      "source": [
        "circuits_df = spark.read\\\n",
        "    .format(\"csv\")\\\n",
        "    .option('Header',True)\\\n",
        "    .option('InferSchema',True)\\\n",
        "    .load('circuits.csv')"
      ],
      "metadata": {
        "id": "GdJ8bKrF__oZ"
      },
      "execution_count": null,
      "outputs": []
    },
    {
      "cell_type": "code",
      "source": [
        "circuits_df.printSchema()"
      ],
      "metadata": {
        "colab": {
          "base_uri": "https://localhost:8080/"
        },
        "id": "gd944z21BYNg",
        "outputId": "3358bb17-e908-4584-b5de-45db47d8e74a"
      },
      "execution_count": null,
      "outputs": [
        {
          "output_type": "stream",
          "name": "stdout",
          "text": [
            "root\n",
            " |-- circuitId: integer (nullable = true)\n",
            " |-- circuitRef: string (nullable = true)\n",
            " |-- name: string (nullable = true)\n",
            " |-- location: string (nullable = true)\n",
            " |-- country: string (nullable = true)\n",
            " |-- lat: double (nullable = true)\n",
            " |-- lng: double (nullable = true)\n",
            " |-- alt: integer (nullable = true)\n",
            " |-- url: string (nullable = true)\n",
            "\n"
          ]
        }
      ]
    },
    {
      "cell_type": "code",
      "source": [
        "circuits_df = spark.read\\\n",
        "    .format(\"csv\")\\\n",
        "    .option('Header',True)\\\n",
        "    .load('circuits.csv')"
      ],
      "metadata": {
        "id": "Epp5QtVMKd-8"
      },
      "execution_count": null,
      "outputs": []
    },
    {
      "cell_type": "code",
      "source": [
        "circuits_df.printSchema()"
      ],
      "metadata": {
        "id": "50qsivMTLp4n",
        "outputId": "a20cd587-01c6-4862-b7a5-2ccdfec294ae",
        "colab": {
          "base_uri": "https://localhost:8080/"
        }
      },
      "execution_count": null,
      "outputs": [
        {
          "output_type": "stream",
          "name": "stdout",
          "text": [
            "root\n",
            " |-- circuitId: string (nullable = true)\n",
            " |-- circuitRef: string (nullable = true)\n",
            " |-- name: string (nullable = true)\n",
            " |-- location: string (nullable = true)\n",
            " |-- country: string (nullable = true)\n",
            " |-- lat: string (nullable = true)\n",
            " |-- lng: string (nullable = true)\n",
            " |-- alt: string (nullable = true)\n",
            " |-- url: string (nullable = true)\n",
            "\n"
          ]
        }
      ]
    },
    {
      "cell_type": "code",
      "source": [
        "schema = {\n",
        "'circuitId': 'INT',\n",
        " 'circuitRef':'STRING',\n",
        " 'name':'STRING',\n",
        " 'location':'STRING',\n",
        " 'country':'STRING',\n",
        " 'lat':'Double',\n",
        " 'lng':'Double',\n",
        " 'alt':'int',\n",
        " 'url':'STRING'\n",
        "}\n",
        "\n",
        "column_list = []\n",
        "for column, datatype in schema.items():\n",
        "    column_list.append(f\"cast({column} as {datatype}) {column}\")\n",
        "    data_type_converted_df = circuits_df.selectExpr(column_list)"
      ],
      "metadata": {
        "id": "iE75ChuCARa_"
      },
      "execution_count": null,
      "outputs": []
    },
    {
      "cell_type": "code",
      "source": [
        "\n",
        "data_type_converted_df.printSchema()"
      ],
      "metadata": {
        "id": "chot23oWKfx9",
        "outputId": "d8ca5236-2c0d-48b2-b607-fecd26757fcf",
        "colab": {
          "base_uri": "https://localhost:8080/"
        }
      },
      "execution_count": null,
      "outputs": [
        {
          "output_type": "stream",
          "name": "stdout",
          "text": [
            "root\n",
            " |-- circuitId: integer (nullable = true)\n",
            " |-- circuitRef: string (nullable = true)\n",
            " |-- name: string (nullable = true)\n",
            " |-- location: string (nullable = true)\n",
            " |-- country: string (nullable = true)\n",
            " |-- lat: double (nullable = true)\n",
            " |-- lng: double (nullable = true)\n",
            " |-- alt: integer (nullable = true)\n",
            " |-- url: string (nullable = true)\n",
            "\n"
          ]
        }
      ]
    },
    {
      "cell_type": "code",
      "source": [
        "from pyspark.sql.types import StructType,StructField, StringType, IntegerType\n",
        "from pyspark.sql.functions import *"
      ],
      "metadata": {
        "id": "e7NRh47wUnp6"
      },
      "execution_count": 3,
      "outputs": []
    },
    {
      "cell_type": "code",
      "source": [
        "dataDF = [('james','1991-04-01','M',3000),\n",
        "  ('Michel','2000-05-19','M',4000),\n",
        "  ('Robert','1978-09-05','M',4000),\n",
        "  ('Maria','1967-12-01','F',4000),\n",
        "  ('Jen','1980-02-17','F',-1)\n",
        "]\n",
        "\n",
        "\n",
        "schema = StructType([StructField('name', StringType(), True),\n",
        "         StructField('dob', StringType(), True),\n",
        "         StructField('gender', StringType(), True),\n",
        "         StructField('salary', IntegerType(), True)\n",
        "         ])\n",
        "\n",
        "\n",
        "df = spark.createDataFrame(dataDF, schema)\n",
        "df.printSchema()\n",
        "df.show(truncate=False)"
      ],
      "metadata": {
        "id": "-DSJgtzYUnV1",
        "outputId": "f312be2f-852c-4cd3-fc3d-ed1fd0176d09",
        "colab": {
          "base_uri": "https://localhost:8080/"
        }
      },
      "execution_count": 4,
      "outputs": [
        {
          "output_type": "stream",
          "name": "stdout",
          "text": [
            "root\n",
            " |-- name: string (nullable = true)\n",
            " |-- dob: string (nullable = true)\n",
            " |-- gender: string (nullable = true)\n",
            " |-- salary: integer (nullable = true)\n",
            "\n",
            "+------+----------+------+------+\n",
            "|name  |dob       |gender|salary|\n",
            "+------+----------+------+------+\n",
            "|james |1991-04-01|M     |3000  |\n",
            "|Michel|2000-05-19|M     |4000  |\n",
            "|Robert|1978-09-05|M     |4000  |\n",
            "|Maria |1967-12-01|F     |4000  |\n",
            "|Jen   |1980-02-17|F     |-1    |\n",
            "+------+----------+------+------+\n",
            "\n"
          ]
        }
      ]
    },
    {
      "cell_type": "code",
      "source": [
        "dataDF = [(('James','','Smith'),'1991-04-01','M',3000),\n",
        "  (('Michael','Rose',''),'2000-05-19','M',4000),\n",
        "  (('Robert','','Williams'),'1978-09-05','M',4000),\n",
        "  (('Maria','Anne','Jones'),'1967-12-01','F',4000),\n",
        "  (('Jen','Mary','Brown'),'1980-02-17','F',-1)\n",
        "]\n",
        "\n",
        "structureSchema = StructType([\n",
        "        StructField('name', StructType([\n",
        "             StructField('firstname', StringType(), True),\n",
        "             StructField('middlename', StringType(), True),\n",
        "             StructField('lastname', StringType(), True)\n",
        "             ])),\n",
        "         StructField('id', StringType(), True),\n",
        "         StructField('gender', StringType(), True),\n",
        "         StructField('salary', IntegerType(), True)\n",
        "         ])\n",
        "\n",
        "df2 = spark.createDataFrame(dataDF,structureSchema)\n",
        "df2.printSchema()\n",
        "df2.show(truncate=False)"
      ],
      "metadata": {
        "id": "56dv8sWMcSAj",
        "outputId": "8924ed43-03bc-4c6c-d200-1e9eca54f0fc",
        "colab": {
          "base_uri": "https://localhost:8080/"
        }
      },
      "execution_count": 5,
      "outputs": [
        {
          "output_type": "stream",
          "name": "stdout",
          "text": [
            "root\n",
            " |-- name: struct (nullable = true)\n",
            " |    |-- firstname: string (nullable = true)\n",
            " |    |-- middlename: string (nullable = true)\n",
            " |    |-- lastname: string (nullable = true)\n",
            " |-- id: string (nullable = true)\n",
            " |-- gender: string (nullable = true)\n",
            " |-- salary: integer (nullable = true)\n",
            "\n",
            "+--------------------+----------+------+------+\n",
            "|name                |id        |gender|salary|\n",
            "+--------------------+----------+------+------+\n",
            "|{James, , Smith}    |1991-04-01|M     |3000  |\n",
            "|{Michael, Rose, }   |2000-05-19|M     |4000  |\n",
            "|{Robert, , Williams}|1978-09-05|M     |4000  |\n",
            "|{Maria, Anne, Jones}|1967-12-01|F     |4000  |\n",
            "|{Jen, Mary, Brown}  |1980-02-17|F     |-1    |\n",
            "+--------------------+----------+------+------+\n",
            "\n"
          ]
        }
      ]
    },
    {
      "cell_type": "code",
      "source": [],
      "metadata": {
        "id": "cA_GVXthdL3s"
      },
      "execution_count": null,
      "outputs": []
    }
  ]
}