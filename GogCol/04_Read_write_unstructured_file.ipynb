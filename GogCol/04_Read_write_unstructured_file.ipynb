{
  "nbformat": 4,
  "nbformat_minor": 0,
  "metadata": {
    "colab": {
      "provenance": [],
      "mount_file_id": "18-poI3ZmLoG-obz8rWMPZ2BBz69SzE-g",
      "authorship_tag": "ABX9TyMTN5dkd0/CdORrZKsaHHGn",
      "include_colab_link": true
    },
    "kernelspec": {
      "name": "python3",
      "display_name": "Python 3"
    },
    "language_info": {
      "name": "python"
    }
  },
  "cells": [
    {
      "cell_type": "markdown",
      "metadata": {
        "id": "view-in-github",
        "colab_type": "text"
      },
      "source": [
        "<a href=\"https://colab.research.google.com/github/ArulrajGopal/Spark-Guide/blob/main/03_Reading_unstructured_file.ipynb\" target=\"_parent\"><img src=\"https://colab.research.google.com/assets/colab-badge.svg\" alt=\"Open In Colab\"/></a>"
      ]
    },
    {
      "cell_type": "code",
      "source": [
        "!pip install pyspark\n",
        "\n",
        "from pyspark.sql import SparkSession\n",
        "\n",
        "#create spark session\n",
        "spark= SparkSession.builder.appName('mysparksession').getOrCreate()\n",
        "\n",
        "#create spark context\n",
        "sc = spark.sparkContext"
      ],
      "metadata": {
        "colab": {
          "base_uri": "https://localhost:8080/"
        },
        "id": "1h0a2D3UWdzf",
        "outputId": "ec1330b8-3757-4160-c63b-5a6b16c3e6e2"
      },
      "execution_count": 1,
      "outputs": [
        {
          "output_type": "stream",
          "name": "stdout",
          "text": [
            "Collecting pyspark\n",
            "  Downloading pyspark-3.5.0.tar.gz (316.9 MB)\n",
            "\u001b[2K     \u001b[90m━━━━━━━━━━━━━━━━━━━━━━━━━━━━━━━━━━━━━━━━\u001b[0m \u001b[32m316.9/316.9 MB\u001b[0m \u001b[31m2.5 MB/s\u001b[0m eta \u001b[36m0:00:00\u001b[0m\n",
            "\u001b[?25h  Preparing metadata (setup.py) ... \u001b[?25l\u001b[?25hdone\n",
            "Requirement already satisfied: py4j==0.10.9.7 in /usr/local/lib/python3.10/dist-packages (from pyspark) (0.10.9.7)\n",
            "Building wheels for collected packages: pyspark\n",
            "  Building wheel for pyspark (setup.py) ... \u001b[?25l\u001b[?25hdone\n",
            "  Created wheel for pyspark: filename=pyspark-3.5.0-py2.py3-none-any.whl size=317425345 sha256=f38aacaa4acf08e2cc6b9620680865c611576904834e7d2ebd43dd0b07fe8aa2\n",
            "  Stored in directory: /root/.cache/pip/wheels/41/4e/10/c2cf2467f71c678cfc8a6b9ac9241e5e44a01940da8fbb17fc\n",
            "Successfully built pyspark\n",
            "Installing collected packages: pyspark\n",
            "Successfully installed pyspark-3.5.0\n"
          ]
        }
      ]
    },
    {
      "cell_type": "code",
      "source": [
        "!ls"
      ],
      "metadata": {
        "id": "BimzV4p49F4U"
      },
      "execution_count": null,
      "outputs": []
    },
    {
      "cell_type": "code",
      "source": [
        "text_file = sc.textFile('/content/english_passage.txt')"
      ],
      "metadata": {
        "id": "EtCEx7Wua168"
      },
      "execution_count": 2,
      "outputs": []
    },
    {
      "cell_type": "code",
      "source": [
        "rdd_text_file = text_file\\\n",
        "                    .flatMap(lambda x: x.split(' '))\\\n",
        "                    .map(lambda x : (x,1))\\\n",
        "                    .reduceByKey(lambda x,y:x+y)"
      ],
      "metadata": {
        "id": "uPmwaegvbQKw"
      },
      "execution_count": 3,
      "outputs": []
    },
    {
      "cell_type": "code",
      "source": [
        "df = rdd_text_file\\\n",
        "              .toDF([\"column1\", \"column2\"])\n",
        "df.show()"
      ],
      "metadata": {
        "colab": {
          "base_uri": "https://localhost:8080/"
        },
        "id": "7VRefKwdbQso",
        "outputId": "d89a72ea-5cf8-4f31-8400-3706b6019737"
      },
      "execution_count": 4,
      "outputs": [
        {
          "output_type": "stream",
          "name": "stdout",
          "text": [
            "+--------+-------+\n",
            "| column1|column2|\n",
            "+--------+-------+\n",
            "|  Morris|      6|\n",
            "|   lived|      1|\n",
            "|      in|      6|\n",
            "|    shop|      1|\n",
            "|     was|     10|\n",
            "|    poor|      1|\n",
            "| farmer.|      1|\n",
            "|   large|      3|\n",
            "|families|      1|\n",
            "|     One|      1|\n",
            "|    fine|      1|\n",
            "|   Mike,|      1|\n",
            "|      of|      6|\n",
            "|    able|      1|\n",
            "|    feed|      2|\n",
            "|     his|     12|\n",
            "| family,|      3|\n",
            "| decided|      2|\n",
            "|   leave|      1|\n",
            "|    move|      1|\n",
            "+--------+-------+\n",
            "only showing top 20 rows\n",
            "\n"
          ]
        }
      ]
    },
    {
      "cell_type": "code",
      "source": [
        "from pyspark.sql.functions import col, max"
      ],
      "metadata": {
        "id": "8Cmfc4TkJy5v"
      },
      "execution_count": 9,
      "outputs": []
    },
    {
      "cell_type": "code",
      "source": [
        "maximum_count = df.agg(max(\"column2\")).collect()[0][0]"
      ],
      "metadata": {
        "id": "jsiElqv0IlE1"
      },
      "execution_count": 26,
      "outputs": []
    },
    {
      "cell_type": "code",
      "source": [
        "filtered_df = df.filter(col(\"column2\")== maximum_count)\n",
        "filtered_df.show()"
      ],
      "metadata": {
        "colab": {
          "base_uri": "https://localhost:8080/"
        },
        "id": "pPYaTOYhJwh_",
        "outputId": "2bc0e070-0930-426b-9896-b27522a73576"
      },
      "execution_count": 28,
      "outputs": [
        {
          "output_type": "stream",
          "name": "stdout",
          "text": [
            "+-------+-------+\n",
            "|column1|column2|\n",
            "+-------+-------+\n",
            "|    the|     27|\n",
            "+-------+-------+\n",
            "\n"
          ]
        }
      ]
    },
    {
      "cell_type": "code",
      "source": [
        "from google.colab import drive\n",
        "drive.mount('/content/drive')"
      ],
      "metadata": {
        "id": "0UqKEuU6IEsW",
        "outputId": "9254b4a8-e006-4e62-8a08-9b7a8274ee5c",
        "colab": {
          "base_uri": "https://localhost:8080/"
        }
      },
      "execution_count": 29,
      "outputs": [
        {
          "output_type": "stream",
          "name": "stdout",
          "text": [
            "Drive already mounted at /content/drive; to attempt to forcibly remount, call drive.mount(\"/content/drive\", force_remount=True).\n"
          ]
        }
      ]
    },
    {
      "cell_type": "code",
      "source": [
        "filtered_df\\\n",
        ".write\\\n",
        ".mode('overwrite')\\\n",
        ".parquet('/content/drive/MyDrive/ColabOutput/max_used_word')\n",
        "\n",
        "print(\"write successfull\")"
      ],
      "metadata": {
        "id": "37TYQkGkEptY",
        "outputId": "7e202acf-a114-449f-869d-948002b554de",
        "colab": {
          "base_uri": "https://localhost:8080/"
        }
      },
      "execution_count": 30,
      "outputs": [
        {
          "output_type": "stream",
          "name": "stdout",
          "text": [
            "write successfull\n"
          ]
        }
      ]
    },
    {
      "cell_type": "code",
      "source": [],
      "metadata": {
        "id": "rVfvc8qVJgt-"
      },
      "execution_count": null,
      "outputs": []
    }
  ]
}
