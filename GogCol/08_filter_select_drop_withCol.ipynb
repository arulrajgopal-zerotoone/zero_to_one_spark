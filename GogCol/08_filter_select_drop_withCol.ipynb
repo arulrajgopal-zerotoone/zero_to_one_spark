{
  "cells": [
    {
      "cell_type": "markdown",
      "metadata": {
        "id": "view-in-github",
        "colab_type": "text"
      },
      "source": [
        "<a href=\"https://colab.research.google.com/github/ArulrajGopal/Spark-Guide/blob/main/GogCol/08_filter_select_drop_dropdup_dropna.ipynb\" target=\"_parent\"><img src=\"https://colab.research.google.com/assets/colab-badge.svg\" alt=\"Open In Colab\"/></a>"
      ]
    },
    {
      "cell_type": "code",
      "execution_count": null,
      "metadata": {
        "colab": {
          "base_uri": "https://localhost:8080/"
        },
        "id": "v4xrHnuULiq3",
        "outputId": "35de27e1-d553-4c5a-eaf1-d190d120f29e"
      },
      "outputs": [
        {
          "output_type": "stream",
          "name": "stdout",
          "text": [
            "Collecting pyspark\n",
            "  Downloading pyspark-3.5.0.tar.gz (316.9 MB)\n",
            "\u001b[2K     \u001b[90m━━━━━━━━━━━━━━━━━━━━━━━━━━━━━━━━━━━━━━━━\u001b[0m \u001b[32m316.9/316.9 MB\u001b[0m \u001b[31m3.9 MB/s\u001b[0m eta \u001b[36m0:00:00\u001b[0m\n",
            "\u001b[?25h  Preparing metadata (setup.py) ... \u001b[?25l\u001b[?25hdone\n",
            "Requirement already satisfied: py4j==0.10.9.7 in /usr/local/lib/python3.10/dist-packages (from pyspark) (0.10.9.7)\n",
            "Building wheels for collected packages: pyspark\n",
            "  Building wheel for pyspark (setup.py) ... \u001b[?25l\u001b[?25hdone\n",
            "  Created wheel for pyspark: filename=pyspark-3.5.0-py2.py3-none-any.whl size=317425345 sha256=80ba65593d91adc4f62709520b3d10e27eded968474c84e0174febbd2623785d\n",
            "  Stored in directory: /root/.cache/pip/wheels/41/4e/10/c2cf2467f71c678cfc8a6b9ac9241e5e44a01940da8fbb17fc\n",
            "Successfully built pyspark\n",
            "Installing collected packages: pyspark\n",
            "Successfully installed pyspark-3.5.0\n"
          ]
        }
      ],
      "source": [
        "!pip install pyspark\n",
        "\n",
        "from pyspark.sql import SparkSession\n",
        "\n",
        "#create spark session\n",
        "spark= SparkSession.builder.appName('mysparksession').getOrCreate()\n",
        "\n",
        "#create spark context\n",
        "sc = spark.sparkContext"
      ]
    },
    {
      "cell_type": "code",
      "execution_count": null,
      "metadata": {
        "id": "iecLSZcACvo5",
        "colab": {
          "base_uri": "https://localhost:8080/"
        },
        "outputId": "5ba35b4f-3e6f-4edb-cdf7-9893bb2fc28d"
      },
      "outputs": [
        {
          "output_type": "stream",
          "name": "stdout",
          "text": [
            "+-----+---+-------------+\n",
            "| Name|Age|         City|\n",
            "+-----+---+-------------+\n",
            "| John| 28|     New York|\n",
            "| Jane| 24|San Francisco|\n",
            "|  Bob| 22|  Los Angeles|\n",
            "|Alice| 30|      Chicago|\n",
            "| Jane| 24|San Francisco|\n",
            "|Alice| 70|        Tokyo|\n",
            "|Vievk| 34|         NULL|\n",
            "+-----+---+-------------+\n",
            "\n"
          ]
        }
      ],
      "source": [
        "data = [\n",
        "    (\"John\", 28, \"New York\"),\n",
        "    (\"Jane\", 24, \"San Francisco\"),\n",
        "    (\"Bob\", 22, \"Los Angeles\"),\n",
        "    (\"Alice\", 30, \"Chicago\"),\n",
        "    (\"Jane\", 24, \"San Francisco\"),\n",
        "    (\"Alice\", 70, \"Tokyo\"),\n",
        "    (\"Vievk\",34, None)\n",
        "]\n",
        "\n",
        "columns = [\"Name\", \"Age\",\"City\" ]\n",
        "\n",
        "\n",
        "df = spark.createDataFrame(data, columns)\n",
        "\n",
        "\n",
        "df.show()"
      ]
    },
    {
      "cell_type": "code",
      "source": [
        "from pyspark.sql.functions import col, max"
      ],
      "metadata": {
        "id": "BSPt9H7nx2gZ"
      },
      "execution_count": null,
      "outputs": []
    },
    {
      "cell_type": "code",
      "source": [
        "df1 = df.filter(col(\"Age\") > 25)\n",
        "df1.show()"
      ],
      "metadata": {
        "colab": {
          "base_uri": "https://localhost:8080/"
        },
        "id": "3SBfSPRAxyVL",
        "outputId": "a00900e6-184b-4435-c570-741ea4a1ae87"
      },
      "execution_count": null,
      "outputs": [
        {
          "output_type": "stream",
          "name": "stdout",
          "text": [
            "+-----+---+--------+\n",
            "| Name|Age|    City|\n",
            "+-----+---+--------+\n",
            "| John| 28|New York|\n",
            "|Alice| 30| Chicago|\n",
            "|Alice| 70|   Tokyo|\n",
            "|Vievk| 34|    NULL|\n",
            "+-----+---+--------+\n",
            "\n"
          ]
        }
      ]
    },
    {
      "cell_type": "code",
      "source": [
        "df2 = df.select(\"Name\",\"Age\")\n",
        "df2.show()"
      ],
      "metadata": {
        "colab": {
          "base_uri": "https://localhost:8080/"
        },
        "id": "3RMK4ltCyBXp",
        "outputId": "cb96dcca-88ed-4191-80cd-6fc6c6eb58d6"
      },
      "execution_count": null,
      "outputs": [
        {
          "output_type": "stream",
          "name": "stdout",
          "text": [
            "+-----+---+\n",
            "| Name|Age|\n",
            "+-----+---+\n",
            "| John| 28|\n",
            "| Jane| 24|\n",
            "|  Bob| 22|\n",
            "|Alice| 30|\n",
            "| Jane| 24|\n",
            "|Alice| 70|\n",
            "|Vievk| 34|\n",
            "+-----+---+\n",
            "\n"
          ]
        }
      ]
    },
    {
      "cell_type": "code",
      "source": [
        "df3 = df.drop(\"Age\")\n",
        "df3.show()"
      ],
      "metadata": {
        "colab": {
          "base_uri": "https://localhost:8080/"
        },
        "id": "onGsShZpz_oz",
        "outputId": "afb982c4-c661-4aa5-a8a2-7e127307ad39"
      },
      "execution_count": null,
      "outputs": [
        {
          "output_type": "stream",
          "name": "stdout",
          "text": [
            "+-----+-------------+\n",
            "| Name|         City|\n",
            "+-----+-------------+\n",
            "| John|     New York|\n",
            "| Jane|San Francisco|\n",
            "|  Bob|  Los Angeles|\n",
            "|Alice|      Chicago|\n",
            "| Jane|San Francisco|\n",
            "|Alice|        Tokyo|\n",
            "|Vievk|         NULL|\n",
            "+-----+-------------+\n",
            "\n"
          ]
        }
      ]
    },
    {
      "cell_type": "code",
      "source": [
        "df.show()"
      ],
      "metadata": {
        "id": "ADuOBWzsJFd_",
        "outputId": "2e310260-cfdf-41b3-9dd1-2fdd65073bbf",
        "colab": {
          "base_uri": "https://localhost:8080/"
        }
      },
      "execution_count": null,
      "outputs": [
        {
          "output_type": "stream",
          "name": "stdout",
          "text": [
            "+-----+---+-------------+\n",
            "| Name|Age|         City|\n",
            "+-----+---+-------------+\n",
            "| John| 28|     New York|\n",
            "| Jane| 24|San Francisco|\n",
            "|  Bob| 22|  Los Angeles|\n",
            "|Alice| 30|      Chicago|\n",
            "| Jane| 24|San Francisco|\n",
            "|Alice| 70|        Tokyo|\n",
            "|Vievk| 34|         NULL|\n",
            "+-----+---+-------------+\n",
            "\n"
          ]
        }
      ]
    },
    {
      "cell_type": "code",
      "source": [
        "df4 = df.dropDuplicates()\n",
        "df5 = df.dropDuplicates([\"Name\"])\n",
        "df4.show()\n",
        "df5.show()"
      ],
      "metadata": {
        "colab": {
          "base_uri": "https://localhost:8080/"
        },
        "id": "hgA1EVje0NO-",
        "outputId": "b8ab38cf-55c3-4a1a-f552-027846a2bb23"
      },
      "execution_count": null,
      "outputs": [
        {
          "output_type": "stream",
          "name": "stdout",
          "text": [
            "+-----+---+-------------+\n",
            "| Name|Age|         City|\n",
            "+-----+---+-------------+\n",
            "| Jane| 24|San Francisco|\n",
            "| John| 28|     New York|\n",
            "|  Bob| 22|  Los Angeles|\n",
            "|Alice| 70|        Tokyo|\n",
            "|Alice| 30|      Chicago|\n",
            "|Vievk| 34|         NULL|\n",
            "+-----+---+-------------+\n",
            "\n",
            "+-----+---+-------------+\n",
            "| Name|Age|         City|\n",
            "+-----+---+-------------+\n",
            "|Alice| 30|      Chicago|\n",
            "|  Bob| 22|  Los Angeles|\n",
            "| Jane| 24|San Francisco|\n",
            "| John| 28|     New York|\n",
            "|Vievk| 34|         NULL|\n",
            "+-----+---+-------------+\n",
            "\n"
          ]
        }
      ]
    },
    {
      "cell_type": "code",
      "source": [
        "df6 = df.dropna()"
      ],
      "metadata": {
        "id": "u9aQhPbT1OUq"
      },
      "execution_count": null,
      "outputs": []
    },
    {
      "cell_type": "code",
      "source": [
        "df6.count()"
      ],
      "metadata": {
        "id": "CpkVIKzI1dOf",
        "outputId": "6bf604bb-8137-42da-e60f-922bae081f76",
        "colab": {
          "base_uri": "https://localhost:8080/"
        }
      },
      "execution_count": null,
      "outputs": [
        {
          "output_type": "execute_result",
          "data": {
            "text/plain": [
              "6"
            ]
          },
          "metadata": {},
          "execution_count": 12
        }
      ]
    },
    {
      "cell_type": "code",
      "source": [
        "df5.show()"
      ],
      "metadata": {
        "id": "mROKZsuTLa9F",
        "outputId": "7e56c815-dd43-48ba-9e8a-e51768ff4479",
        "colab": {
          "base_uri": "https://localhost:8080/"
        }
      },
      "execution_count": null,
      "outputs": [
        {
          "output_type": "stream",
          "name": "stdout",
          "text": [
            "+-----+---+-------------+\n",
            "| Name|Age|         City|\n",
            "+-----+---+-------------+\n",
            "|Alice| 30|      Chicago|\n",
            "|  Bob| 22|  Los Angeles|\n",
            "| Jane| 24|San Francisco|\n",
            "| John| 28|     New York|\n",
            "|Vievk| 34|         NULL|\n",
            "+-----+---+-------------+\n",
            "\n"
          ]
        }
      ]
    },
    {
      "cell_type": "code",
      "source": [
        "#1\n",
        "final_df = df5.dropna().filter(col(\"age\")>24)"
      ],
      "metadata": {
        "id": "MUrxQcH6MJzY"
      },
      "execution_count": null,
      "outputs": []
    },
    {
      "cell_type": "code",
      "source": [
        "final_df.show()"
      ],
      "metadata": {
        "id": "rLJ7jI_wMu4c",
        "outputId": "cca73a48-a0bc-46f5-cb1c-d500212dbf89",
        "colab": {
          "base_uri": "https://localhost:8080/"
        }
      },
      "execution_count": null,
      "outputs": [
        {
          "output_type": "stream",
          "name": "stdout",
          "text": [
            "+-----+---+--------+\n",
            "| Name|Age|    City|\n",
            "+-----+---+--------+\n",
            "|Alice| 30| Chicago|\n",
            "| John| 28|New York|\n",
            "+-----+---+--------+\n",
            "\n"
          ]
        }
      ]
    },
    {
      "cell_type": "code",
      "source": [
        "dataDF = [(('James','','Smith'),'1991-04-01','M',3000),\n",
        "  (('Michael','Rose',''),'2000-05-19','M',4000),\n",
        "  (('Robert','','Williams'),'1978-09-05','M',4000),\n",
        "  (('Maria','Anne','Jones'),'1967-12-01','F',4000),\n",
        "  (('Jen','Mary','Brown'),'1980-02-17','F',-1)\n",
        "]\n",
        "\n",
        "structureSchema = StructType([\n",
        "        StructField('name', StructType([\n",
        "             StructField('firstname', StringType(), True),\n",
        "             StructField('middlename', StringType(), True),\n",
        "             StructField('lastname', StringType(), True)\n",
        "             ])),\n",
        "         StructField('id', StringType(), True),\n",
        "         StructField('gender', StringType(), True),\n",
        "         StructField('salary', IntegerType(), True)\n",
        "         ])\n",
        "\n",
        "df2 = spark.createDataFrame(dataDF,structureSchema)\n",
        "df2.printSchema()\n",
        "df2.show(truncate=False)"
      ],
      "metadata": {
        "id": "pRz3VJ4-dl5L"
      },
      "execution_count": null,
      "outputs": []
    },
    {
      "cell_type": "code",
      "source": [
        "df.withColumnRenamed(\"dob\",\"DateOfBirth\").show()"
      ],
      "metadata": {
        "id": "yLsYx3FAdol1"
      },
      "execution_count": null,
      "outputs": []
    },
    {
      "cell_type": "code",
      "source": [
        "df.withColumn(\"fname\",col(\"name.firstname\")) \\\n",
        "      .withColumn(\"mname\",col(\"name.middlename\")) \\\n",
        "      .withColumn(\"lname\",col(\"name.lastname\")) \\\n",
        "      .drop(\"name\")\\\n",
        "      .show()"
      ],
      "metadata": {
        "id": "qr6bjFg-dqlf"
      },
      "execution_count": null,
      "outputs": []
    },
    {
      "cell_type": "code",
      "source": [
        "df.withColumn(\"timestamp_column\", current_timestamp())\\\n",
        " .withColumn(\"salary\",col(\"Salary\")/10)\\\n",
        " .show(truncate=False)"
      ],
      "metadata": {
        "id": "fWQFYleGfzBv"
      },
      "execution_count": null,
      "outputs": []
    }
  ],
  "metadata": {
    "colab": {
      "provenance": [],
      "authorship_tag": "ABX9TyOMCgWEiwsYyKMy3svhGeso",
      "include_colab_link": true
    },
    "kernelspec": {
      "display_name": "Python 3",
      "name": "python3"
    },
    "language_info": {
      "name": "python"
    }
  },
  "nbformat": 4,
  "nbformat_minor": 0
}
