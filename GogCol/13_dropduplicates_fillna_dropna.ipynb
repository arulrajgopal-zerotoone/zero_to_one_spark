{
  "nbformat": 4,
  "nbformat_minor": 0,
  "metadata": {
    "colab": {
      "provenance": [],
      "authorship_tag": "ABX9TyMzex+GV0YXzTGGMNQUDzdw",
      "include_colab_link": true
    },
    "kernelspec": {
      "name": "python3",
      "display_name": "Python 3"
    },
    "language_info": {
      "name": "python"
    }
  },
  "cells": [
    {
      "cell_type": "markdown",
      "metadata": {
        "id": "view-in-github",
        "colab_type": "text"
      },
      "source": [
        "<a href=\"https://colab.research.google.com/github/ArulrajGopal/Spark-Guide/blob/main/GogCol/13_dropduplicates_fillna_dropna.ipynb\" target=\"_parent\"><img src=\"https://colab.research.google.com/assets/colab-badge.svg\" alt=\"Open In Colab\"/></a>"
      ]
    },
    {
      "cell_type": "code",
      "execution_count": 5,
      "metadata": {
        "id": "mbmETREK2mLb",
        "colab": {
          "base_uri": "https://localhost:8080/"
        },
        "outputId": "511b5f29-dabb-4b4b-c36f-fd3dc2d58567"
      },
      "outputs": [
        {
          "output_type": "stream",
          "name": "stdout",
          "text": [
            "Requirement already satisfied: pyspark in /usr/local/lib/python3.10/dist-packages (3.5.0)\n",
            "Requirement already satisfied: py4j==0.10.9.7 in /usr/local/lib/python3.10/dist-packages (from pyspark) (0.10.9.7)\n"
          ]
        }
      ],
      "source": [
        "!pip install pyspark\n",
        "\n",
        "from pyspark.sql import SparkSession\n",
        "\n",
        "#create spark session\n",
        "spark= SparkSession.builder.appName('mysparksession').getOrCreate()\n",
        "\n",
        "#create spark context\n",
        "sc = spark.sparkContext"
      ]
    },
    {
      "cell_type": "code",
      "source": [
        "data = [\n",
        "    (\"John\", 28, \"New York\"),\n",
        "    (\"Jane\", 24, \"San Francisco\"),\n",
        "    (\"Bob\", 22, \"Los Angeles\"),\n",
        "    (\"Alice\", None, \"Chicago\"),\n",
        "    (\"Jane\", 24, \"San Francisco\"),\n",
        "    (\"Alice\", 70, \"Tokyo\"),\n",
        "    (\"Vievk\",34, None)\n",
        "]\n",
        "\n",
        "columns = [\"Name\", \"Age\",\"City\" ]\n",
        "\n",
        "\n",
        "df = spark.createDataFrame(data, columns)\n",
        "df.show()"
      ],
      "metadata": {
        "id": "tj3QlvbnSqZE",
        "outputId": "8f054031-4750-4b3f-c822-add60ce29992",
        "colab": {
          "base_uri": "https://localhost:8080/"
        }
      },
      "execution_count": 28,
      "outputs": [
        {
          "output_type": "stream",
          "name": "stdout",
          "text": [
            "+-----+----+-------------+\n",
            "| Name| Age|         City|\n",
            "+-----+----+-------------+\n",
            "| John|  28|     New York|\n",
            "| Jane|  24|San Francisco|\n",
            "|  Bob|  22|  Los Angeles|\n",
            "|Alice|NULL|      Chicago|\n",
            "| Jane|  24|San Francisco|\n",
            "|Alice|  70|        Tokyo|\n",
            "|Vievk|  34|         NULL|\n",
            "+-----+----+-------------+\n",
            "\n"
          ]
        }
      ]
    },
    {
      "cell_type": "code",
      "source": [
        "df.dropDuplicates().show()\n",
        "df.dropDuplicates([\"Name\"]).show()"
      ],
      "metadata": {
        "id": "ZjTxWasfSDZS",
        "outputId": "ca981a63-6e13-4728-bcaf-f99f4aa28575",
        "colab": {
          "base_uri": "https://localhost:8080/"
        }
      },
      "execution_count": 29,
      "outputs": [
        {
          "output_type": "stream",
          "name": "stdout",
          "text": [
            "+-----+----+-------------+\n",
            "| Name| Age|         City|\n",
            "+-----+----+-------------+\n",
            "| Jane|  24|San Francisco|\n",
            "| John|  28|     New York|\n",
            "|  Bob|  22|  Los Angeles|\n",
            "|Alice|  70|        Tokyo|\n",
            "|Alice|NULL|      Chicago|\n",
            "|Vievk|  34|         NULL|\n",
            "+-----+----+-------------+\n",
            "\n",
            "+-----+----+-------------+\n",
            "| Name| Age|         City|\n",
            "+-----+----+-------------+\n",
            "|Alice|NULL|      Chicago|\n",
            "|  Bob|  22|  Los Angeles|\n",
            "| Jane|  24|San Francisco|\n",
            "| John|  28|     New York|\n",
            "|Vievk|  34|         NULL|\n",
            "+-----+----+-------------+\n",
            "\n"
          ]
        }
      ]
    },
    {
      "cell_type": "code",
      "source": [
        "df.dropna().show()"
      ],
      "metadata": {
        "id": "YczqCDnNkNlV",
        "outputId": "d5d3099a-5efe-4664-9335-2308cbdb8bef",
        "colab": {
          "base_uri": "https://localhost:8080/"
        }
      },
      "execution_count": 30,
      "outputs": [
        {
          "output_type": "stream",
          "name": "stdout",
          "text": [
            "+-----+---+-------------+\n",
            "| Name|Age|         City|\n",
            "+-----+---+-------------+\n",
            "| John| 28|     New York|\n",
            "| Jane| 24|San Francisco|\n",
            "|  Bob| 22|  Los Angeles|\n",
            "| Jane| 24|San Francisco|\n",
            "|Alice| 70|        Tokyo|\n",
            "+-----+---+-------------+\n",
            "\n"
          ]
        }
      ]
    },
    {
      "cell_type": "code",
      "source": [
        "df.fillna(0).show()\n",
        "df.fillna(\"NA\").show()\n",
        "df.fillna({'age': 40, 'City': 'unknown'}).show()"
      ],
      "metadata": {
        "id": "Q7jLQlZpkP49",
        "outputId": "1d05f437-b7eb-4bcc-9e81-adcbaa0e72f2",
        "colab": {
          "base_uri": "https://localhost:8080/"
        }
      },
      "execution_count": 33,
      "outputs": [
        {
          "output_type": "stream",
          "name": "stdout",
          "text": [
            "+-----+---+-------------+\n",
            "| Name|Age|         City|\n",
            "+-----+---+-------------+\n",
            "| John| 28|     New York|\n",
            "| Jane| 24|San Francisco|\n",
            "|  Bob| 22|  Los Angeles|\n",
            "|Alice|  0|      Chicago|\n",
            "| Jane| 24|San Francisco|\n",
            "|Alice| 70|        Tokyo|\n",
            "|Vievk| 34|         NULL|\n",
            "+-----+---+-------------+\n",
            "\n",
            "+-----+----+-------------+\n",
            "| Name| Age|         City|\n",
            "+-----+----+-------------+\n",
            "| John|  28|     New York|\n",
            "| Jane|  24|San Francisco|\n",
            "|  Bob|  22|  Los Angeles|\n",
            "|Alice|NULL|      Chicago|\n",
            "| Jane|  24|San Francisco|\n",
            "|Alice|  70|        Tokyo|\n",
            "|Vievk|  34|           NA|\n",
            "+-----+----+-------------+\n",
            "\n",
            "+-----+---+-------------+\n",
            "| Name|Age|         City|\n",
            "+-----+---+-------------+\n",
            "| John| 28|     New York|\n",
            "| Jane| 24|San Francisco|\n",
            "|  Bob| 22|  Los Angeles|\n",
            "|Alice| 40|      Chicago|\n",
            "| Jane| 24|San Francisco|\n",
            "|Alice| 70|        Tokyo|\n",
            "|Vievk| 34|      unknown|\n",
            "+-----+---+-------------+\n",
            "\n"
          ]
        }
      ]
    },
    {
      "cell_type": "code",
      "source": [],
      "metadata": {
        "id": "4Dn0EWURlUZT"
      },
      "execution_count": null,
      "outputs": []
    }
  ]
}